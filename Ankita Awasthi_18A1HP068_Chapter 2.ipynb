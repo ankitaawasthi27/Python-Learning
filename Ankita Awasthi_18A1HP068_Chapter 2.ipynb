{
 "cells": [
  {
   "cell_type": "markdown",
   "metadata": {},
   "source": [
    "# Chapter 2 -The Python Machine Learning Ecosystem"
   ]
  },
  {
   "cell_type": "markdown",
   "metadata": {},
   "source": [
    "## Numpy ndarray\n",
    "\n",
    "+ All of the numeric functionality of numpy is orchestrated by two important constituents of the numpy package,ndarray and Ufuncs (Universal function).\n",
    "+ Numpy ndarray is a multi-dimensional array object which is the core data container for all of the numpy operations.\n",
    "+ Arrays (or matrices) are one of the fundamental representations of data. One important thing to keep in mind is that all the elements in an array must have the same data type."
   ]
  },
  {
   "cell_type": "code",
   "execution_count": 1,
   "metadata": {},
   "outputs": [
    {
     "data": {
      "text/plain": [
       "array([1, 3, 4, 5, 6])"
      ]
     },
     "execution_count": 1,
     "metadata": {},
     "output_type": "execute_result"
    }
   ],
   "source": [
    "import numpy as np\n",
    "arr = np.array([1,3,4,5,6])\n",
    "arr"
   ]
  },
  {
   "cell_type": "code",
   "execution_count": 2,
   "metadata": {},
   "outputs": [
    {
     "data": {
      "text/plain": [
       "(5,)"
      ]
     },
     "execution_count": 2,
     "metadata": {},
     "output_type": "execute_result"
    }
   ],
   "source": [
    "#The shape attribute of the array object will tell us about the dimensions of the array\n",
    "arr.shape"
   ]
  },
  {
   "cell_type": "code",
   "execution_count": 3,
   "metadata": {},
   "outputs": [
    {
     "data": {
      "text/plain": [
       "dtype('int32')"
      ]
     },
     "execution_count": 3,
     "metadata": {},
     "output_type": "execute_result"
    }
   ],
   "source": [
    "arr.dtype"
   ]
  },
  {
   "cell_type": "markdown",
   "metadata": {},
   "source": [
    "# Creating Arrays"
   ]
  },
  {
   "cell_type": "code",
   "execution_count": 6,
   "metadata": {},
   "outputs": [
    {
     "data": {
      "text/plain": [
       "(3, 3)"
      ]
     },
     "execution_count": 6,
     "metadata": {},
     "output_type": "execute_result"
    }
   ],
   "source": [
    "arr = np.array([[1,2,3],[2,4,6],[8,8,8]])\n",
    "arr.shape"
   ]
  },
  {
   "cell_type": "code",
   "execution_count": 7,
   "metadata": {},
   "outputs": [
    {
     "data": {
      "text/plain": [
       "array([[1, 2, 3],\n",
       "       [2, 4, 6],\n",
       "       [8, 8, 8]])"
      ]
     },
     "execution_count": 7,
     "metadata": {},
     "output_type": "execute_result"
    }
   ],
   "source": [
    "arr"
   ]
  },
  {
   "cell_type": "code",
   "execution_count": 8,
   "metadata": {},
   "outputs": [
    {
     "data": {
      "text/plain": [
       "array([[0., 0., 0., 0.],\n",
       "       [0., 0., 0., 0.]])"
      ]
     },
     "execution_count": 8,
     "metadata": {},
     "output_type": "execute_result"
    }
   ],
   "source": [
    "#np.zeros: Creates a matrix of specified dimensions containing only zeroes\n",
    "arr = np.zeros((2,4))\n",
    "arr"
   ]
  },
  {
   "cell_type": "code",
   "execution_count": 9,
   "metadata": {},
   "outputs": [
    {
     "data": {
      "text/plain": [
       "array([[1., 1., 1., 1.],\n",
       "       [1., 1., 1., 1.]])"
      ]
     },
     "execution_count": 9,
     "metadata": {},
     "output_type": "execute_result"
    }
   ],
   "source": [
    "#np.ones: Creates a matrix of specified dimension containing only ones\n",
    "arr = np.ones((2,4))\n",
    "arr"
   ]
  },
  {
   "cell_type": "code",
   "execution_count": 10,
   "metadata": {},
   "outputs": [
    {
     "data": {
      "text/plain": [
       "array([[1., 0., 0.],\n",
       "       [0., 1., 0.],\n",
       "       [0., 0., 1.]])"
      ]
     },
     "execution_count": 10,
     "metadata": {},
     "output_type": "execute_result"
    }
   ],
   "source": [
    "#np.identity: Creates an identity matrix of specified dimensions\n",
    "arr = np.identity(3)\n",
    "arr"
   ]
  },
  {
   "cell_type": "code",
   "execution_count": 11,
   "metadata": {},
   "outputs": [
    {
     "data": {
      "text/plain": [
       "array([[ 7.90397743e-01,  1.25106488e+00, -2.28659486e-01,\n",
       "         9.27087644e-01],\n",
       "       [ 1.07779316e+00, -1.94577056e+00,  2.18356632e-01,\n",
       "        -1.29940491e+00],\n",
       "       [-1.84022587e+00, -6.93432288e-05,  2.29177733e-01,\n",
       "         1.26063585e+00]])"
      ]
     },
     "execution_count": 11,
     "metadata": {},
     "output_type": "execute_result"
    }
   ],
   "source": [
    "#numpy.random package: to initialize an array of a specified dimension with random values\n",
    "arr = np.random.randn(3,4)\n",
    "arr"
   ]
  },
  {
   "cell_type": "markdown",
   "metadata": {},
   "source": [
    "# Accessing Array Elements"
   ]
  },
  {
   "cell_type": "markdown",
   "metadata": {},
   "source": [
    "## Basic Indexing and Slicing\n",
    "\n",
    "+ Ndarray can leverage the basic indexing operations that are followed by the list class, i.e. list object [obj].\n",
    "+ If the obj is not an ndarray object, then the indexing is said to be basic indexing."
   ]
  },
  {
   "cell_type": "code",
   "execution_count": 15,
   "metadata": {},
   "outputs": [
    {
     "data": {
      "text/plain": [
       "array([ 1.07779316, -1.94577056,  0.21835663, -1.29940491])"
      ]
     },
     "execution_count": 15,
     "metadata": {},
     "output_type": "execute_result"
    }
   ],
   "source": [
    "#to access the complete second row of the array in the earlier example\n",
    "arr[1]"
   ]
  },
  {
   "cell_type": "code",
   "execution_count": 16,
   "metadata": {},
   "outputs": [
    {
     "data": {
      "text/plain": [
       "array([[[ 0,  1,  2],\n",
       "        [ 3,  4,  5]],\n",
       "\n",
       "       [[ 6,  7,  8],\n",
       "        [ 9, 10, 11]]])"
      ]
     },
     "execution_count": 16,
     "metadata": {},
     "output_type": "execute_result"
    }
   ],
   "source": [
    "arr = np.arange(12).reshape(2,2,3)\n",
    "arr"
   ]
  },
  {
   "cell_type": "code",
   "execution_count": 17,
   "metadata": {},
   "outputs": [
    {
     "data": {
      "text/plain": [
       "array([[0, 1, 2],\n",
       "       [3, 4, 5]])"
      ]
     },
     "execution_count": 17,
     "metadata": {},
     "output_type": "execute_result"
    }
   ],
   "source": [
    "arr[0]"
   ]
  },
  {
   "cell_type": "code",
   "execution_count": 18,
   "metadata": {},
   "outputs": [
    {
     "data": {
      "text/plain": [
       "array([5, 6, 7, 8, 9])"
      ]
     },
     "execution_count": 18,
     "metadata": {},
     "output_type": "execute_result"
    }
   ],
   "source": [
    "#slicing\n",
    "arr = np.arange(10)\n",
    "arr[5:]"
   ]
  },
  {
   "cell_type": "code",
   "execution_count": 19,
   "metadata": {},
   "outputs": [
    {
     "data": {
      "text/plain": [
       "array([5, 6, 7])"
      ]
     },
     "execution_count": 19,
     "metadata": {},
     "output_type": "execute_result"
    }
   ],
   "source": [
    "arr[5:8]"
   ]
  },
  {
   "cell_type": "code",
   "execution_count": 20,
   "metadata": {},
   "outputs": [
    {
     "data": {
      "text/plain": [
       "array([0, 1, 2, 3, 4])"
      ]
     },
     "execution_count": 20,
     "metadata": {},
     "output_type": "execute_result"
    }
   ],
   "source": [
    "arr[:-5]"
   ]
  },
  {
   "cell_type": "code",
   "execution_count": 21,
   "metadata": {},
   "outputs": [
    {
     "data": {
      "text/plain": [
       "array([[[ 0,  1,  2],\n",
       "        [ 3,  4,  5]],\n",
       "\n",
       "       [[ 6,  7,  8],\n",
       "        [ 9, 10, 11]]])"
      ]
     },
     "execution_count": 21,
     "metadata": {},
     "output_type": "execute_result"
    }
   ],
   "source": [
    "arr = np.arange(12).reshape(2,2,3)\n",
    "arr"
   ]
  },
  {
   "cell_type": "code",
   "execution_count": 22,
   "metadata": {},
   "outputs": [
    {
     "data": {
      "text/plain": [
       "array([[[ 6,  7,  8],\n",
       "        [ 9, 10, 11]]])"
      ]
     },
     "execution_count": 22,
     "metadata": {},
     "output_type": "execute_result"
    }
   ],
   "source": [
    "arr[1:2]"
   ]
  },
  {
   "cell_type": "code",
   "execution_count": 23,
   "metadata": {},
   "outputs": [
    {
     "data": {
      "text/plain": [
       "array([[[ 0,  1,  2],\n",
       "        [ 3,  4,  5],\n",
       "        [ 6,  7,  8]],\n",
       "\n",
       "       [[ 9, 10, 11],\n",
       "        [12, 13, 14],\n",
       "        [15, 16, 17]],\n",
       "\n",
       "       [[18, 19, 20],\n",
       "        [21, 22, 23],\n",
       "        [24, 25, 26]]])"
      ]
     },
     "execution_count": 23,
     "metadata": {},
     "output_type": "execute_result"
    }
   ],
   "source": [
    "#Suppose in a three-dimensional array we want to access the value of only one column\n",
    "arr = np.arange(27).reshape(3,3,3)\n",
    "arr"
   ]
  },
  {
   "cell_type": "code",
   "execution_count": 24,
   "metadata": {},
   "outputs": [
    {
     "data": {
      "text/plain": [
       "array([[ 2,  5,  8],\n",
       "       [11, 14, 17],\n",
       "       [20, 23, 26]])"
      ]
     },
     "execution_count": 24,
     "metadata": {},
     "output_type": "execute_result"
    }
   ],
   "source": [
    "#one way\n",
    "arr[:,:,2]"
   ]
  },
  {
   "cell_type": "code",
   "execution_count": 25,
   "metadata": {},
   "outputs": [
    {
     "data": {
      "text/plain": [
       "array([[ 2,  5,  8],\n",
       "       [11, 14, 17],\n",
       "       [20, 23, 26]])"
      ]
     },
     "execution_count": 25,
     "metadata": {},
     "output_type": "execute_result"
    }
   ],
   "source": [
    "#alternate way\n",
    "arr[...,2]"
   ]
  },
  {
   "cell_type": "markdown",
   "metadata": {},
   "source": [
    "## Advance Indexing\n",
    "\n",
    "+ The difference in advanced indexing and basic indexing comes from the type of object being used to reference the array. \n",
    "+ If the object is an ndarray object (data type int or bool) or a non-tuple sequence object or a tuple object containing an ndarray (data type integer or bool), then the indexing being done on the array is said to be advanced indexing.\n",
    "+ Advanced indexing will always return the copy of the original array data."
   ]
  },
  {
   "cell_type": "code",
   "execution_count": 26,
   "metadata": {},
   "outputs": [
    {
     "data": {
      "text/plain": [
       "array([[0, 1, 2],\n",
       "       [3, 4, 5],\n",
       "       [6, 7, 8]])"
      ]
     },
     "execution_count": 26,
     "metadata": {},
     "output_type": "execute_result"
    }
   ],
   "source": [
    "#Integer array indexing\n",
    "arr = np.arange(9).reshape(3,3)\n",
    "arr"
   ]
  },
  {
   "cell_type": "code",
   "execution_count": 27,
   "metadata": {},
   "outputs": [
    {
     "data": {
      "text/plain": [
       "array([1, 3, 6])"
      ]
     },
     "execution_count": 27,
     "metadata": {},
     "output_type": "execute_result"
    }
   ],
   "source": [
    "#the first part identifies the rows we want to access and the second identifies the columns which we want to address\n",
    "arr[[0,1,2],[1,0,0]]"
   ]
  },
  {
   "cell_type": "code",
   "execution_count": 28,
   "metadata": {},
   "outputs": [
    {
     "data": {
      "text/plain": [
       "array([[-0.4091209 , -0.02898378, -0.93563566],\n",
       "       [-0.40796099, -1.23968273,  1.36589037],\n",
       "       [ 0.20590936, -1.57393708, -0.83866211],\n",
       "       [-1.50095167, -0.79036848,  0.59324417],\n",
       "       [-0.30851166, -0.97639495, -0.00384455]])"
      ]
     },
     "execution_count": 28,
     "metadata": {},
     "output_type": "execute_result"
    }
   ],
   "source": [
    "#Boolean indexing\n",
    "cities = np.array([\"delhi\",\"bangalore\",\"mumbai\",\"chennai\",\"bhopal\"])\n",
    "city_data = np.random.randn(5,3)\n",
    "city_data"
   ]
  },
  {
   "cell_type": "code",
   "execution_count": 29,
   "metadata": {},
   "outputs": [
    {
     "data": {
      "text/plain": [
       "array([[-0.4091209 , -0.02898378, -0.93563566]])"
      ]
     },
     "execution_count": 29,
     "metadata": {},
     "output_type": "execute_result"
    }
   ],
   "source": [
    "city_data[cities ==\"delhi\"]"
   ]
  },
  {
   "cell_type": "code",
   "execution_count": 30,
   "metadata": {},
   "outputs": [
    {
     "data": {
      "text/plain": [
       "array([1.36589037, 0.20590936, 0.59324417])"
      ]
     },
     "execution_count": 30,
     "metadata": {},
     "output_type": "execute_result"
    }
   ],
   "source": [
    "city_data[city_data >0]"
   ]
  },
  {
   "cell_type": "code",
   "execution_count": 31,
   "metadata": {},
   "outputs": [
    {
     "data": {
      "text/plain": [
       "array([[-0.4091209 , -0.02898378, -0.93563566],\n",
       "       [-0.40796099, -1.23968273,  0.        ],\n",
       "       [ 0.        , -1.57393708, -0.83866211],\n",
       "       [-1.50095167, -0.79036848,  0.        ],\n",
       "       [-0.30851166, -0.97639495, -0.00384455]])"
      ]
     },
     "execution_count": 31,
     "metadata": {},
     "output_type": "execute_result"
    }
   ],
   "source": [
    "#substitute all the non-zero values with 0\n",
    "city_data[city_data >0] = 0\n",
    "city_data"
   ]
  },
  {
   "cell_type": "markdown",
   "metadata": {},
   "source": [
    "# Operations on Array\n",
    "\n",
    "+ Universal functions are functions that operate on arrays in an element by element fashion. \n",
    "+ The implementation of Ufunc is vectorized, which means that the execution of Ufuncs on arrays is quite fast. \n",
    "+ The Ufuncs implemented in the numpy package are implemented in compiled C code for speed and efficiency."
   ]
  },
  {
   "cell_type": "code",
   "execution_count": 33,
   "metadata": {},
   "outputs": [
    {
     "data": {
      "text/plain": [
       "array([[ 0,  1,  2,  3,  4],\n",
       "       [ 5,  6,  7,  8,  9],\n",
       "       [10, 11, 12, 13, 14]])"
      ]
     },
     "execution_count": 33,
     "metadata": {},
     "output_type": "execute_result"
    }
   ],
   "source": [
    "arr = np.arange(15).reshape(3,5)\n",
    "arr"
   ]
  },
  {
   "cell_type": "code",
   "execution_count": 34,
   "metadata": {},
   "outputs": [
    {
     "data": {
      "text/plain": [
       "array([[ 5,  6,  7,  8,  9],\n",
       "       [10, 11, 12, 13, 14],\n",
       "       [15, 16, 17, 18, 19]])"
      ]
     },
     "execution_count": 34,
     "metadata": {},
     "output_type": "execute_result"
    }
   ],
   "source": [
    "arr + 5"
   ]
  },
  {
   "cell_type": "code",
   "execution_count": 35,
   "metadata": {},
   "outputs": [
    {
     "data": {
      "text/plain": [
       "array([[ 0,  2,  4,  6,  8],\n",
       "       [10, 12, 14, 16, 18],\n",
       "       [20, 22, 24, 26, 28]])"
      ]
     },
     "execution_count": 35,
     "metadata": {},
     "output_type": "execute_result"
    }
   ],
   "source": [
    "arr * 2"
   ]
  },
  {
   "cell_type": "code",
   "execution_count": 36,
   "metadata": {},
   "outputs": [
    {
     "data": {
      "text/plain": [
       "array([[ 0,  1,  2],\n",
       "       [ 4,  5,  6],\n",
       "       [ 8,  9, 10],\n",
       "       [12, 13, 14],\n",
       "       [16, 17, 18]])"
      ]
     },
     "execution_count": 36,
     "metadata": {},
     "output_type": "execute_result"
    }
   ],
   "source": [
    "#the concept of broadcasting: adding two arrays of different sizes\n",
    "arr1 = np.arange(15).reshape(5,3)\n",
    "arr2 = np.arange(5).reshape(5,1)\n",
    "arr2 + arr1"
   ]
  },
  {
   "cell_type": "code",
   "execution_count": 37,
   "metadata": {},
   "outputs": [
    {
     "data": {
      "text/plain": [
       "array([[ 0,  1,  2],\n",
       "       [ 3,  4,  5],\n",
       "       [ 6,  7,  8],\n",
       "       [ 9, 10, 11],\n",
       "       [12, 13, 14]])"
      ]
     },
     "execution_count": 37,
     "metadata": {},
     "output_type": "execute_result"
    }
   ],
   "source": [
    "arr1"
   ]
  },
  {
   "cell_type": "code",
   "execution_count": 38,
   "metadata": {},
   "outputs": [
    {
     "data": {
      "text/plain": [
       "array([[0],\n",
       "       [1],\n",
       "       [2],\n",
       "       [3],\n",
       "       [4]])"
      ]
     },
     "execution_count": 38,
     "metadata": {},
     "output_type": "execute_result"
    }
   ],
   "source": [
    "arr2"
   ]
  },
  {
   "cell_type": "code",
   "execution_count": 39,
   "metadata": {},
   "outputs": [
    {
     "data": {
      "text/plain": [
       "array([[ 1.37607606, -0.15050098, -1.06720174],\n",
       "       [ 0.53506418, -0.09234757,  0.63692703],\n",
       "       [ 0.26497111,  1.76897339,  0.61299676],\n",
       "       [-0.07503773,  0.32069347, -1.2179581 ],\n",
       "       [ 0.56539428,  1.84605577,  1.23502509]])"
      ]
     },
     "execution_count": 39,
     "metadata": {},
     "output_type": "execute_result"
    }
   ],
   "source": [
    "arr1 = np.random.randn(5,3)\n",
    "arr1"
   ]
  },
  {
   "cell_type": "code",
   "execution_count": 40,
   "metadata": {},
   "outputs": [
    {
     "data": {
      "text/plain": [
       "(array([[ 0.37607606, -0.15050098, -0.06720174],\n",
       "        [ 0.53506418, -0.09234757,  0.63692703],\n",
       "        [ 0.26497111,  0.76897339,  0.61299676],\n",
       "        [-0.07503773,  0.32069347, -0.2179581 ],\n",
       "        [ 0.56539428,  0.84605577,  0.23502509]]), array([[ 1., -0., -1.],\n",
       "        [ 0., -0.,  0.],\n",
       "        [ 0.,  1.,  0.],\n",
       "        [-0.,  0., -1.],\n",
       "        [ 0.,  1.,  1.]]))"
      ]
     },
     "execution_count": 40,
     "metadata": {},
     "output_type": "execute_result"
    }
   ],
   "source": [
    "#The function modf will return the fractional and the integer part of the input supplied to it. Hence it will return two arrays of the same size.\n",
    "np.modf(arr1)"
   ]
  },
  {
   "cell_type": "markdown",
   "metadata": {},
   "source": [
    "# Linear Algebra using Numpy\n",
    "\n",
    "+ One of the most widely used operations in linear algebra is the dot product."
   ]
  },
  {
   "cell_type": "code",
   "execution_count": 41,
   "metadata": {},
   "outputs": [],
   "source": [
    "A = np.array([[1,2,3],[4,5,6],[7,8,9]])\n",
    "B = np.array([[9,8,7],[6,5,4],[1,2,3]])"
   ]
  },
  {
   "cell_type": "code",
   "execution_count": 42,
   "metadata": {},
   "outputs": [
    {
     "data": {
      "text/plain": [
       "array([[ 24,  24,  24],\n",
       "       [ 72,  69,  66],\n",
       "       [120, 114, 108]])"
      ]
     },
     "execution_count": 42,
     "metadata": {},
     "output_type": "execute_result"
    }
   ],
   "source": [
    "A.dot(B)"
   ]
  },
  {
   "cell_type": "code",
   "execution_count": 43,
   "metadata": {},
   "outputs": [
    {
     "data": {
      "text/plain": [
       "array([[ 0,  5, 10],\n",
       "       [ 1,  6, 11],\n",
       "       [ 2,  7, 12],\n",
       "       [ 3,  8, 13],\n",
       "       [ 4,  9, 14]])"
      ]
     },
     "execution_count": 43,
     "metadata": {},
     "output_type": "execute_result"
    }
   ],
   "source": [
    "#T function for transpose of a matrix\n",
    "A = np.arange(15).reshape(3,5)\n",
    "A.T"
   ]
  },
  {
   "cell_type": "code",
   "execution_count": 44,
   "metadata": {},
   "outputs": [
    {
     "data": {
      "text/plain": [
       "(array([[-0.15425367,  0.89974393,  0.40824829],\n",
       "        [-0.50248417,  0.28432901, -0.81649658],\n",
       "        [-0.85071468, -0.3310859 ,  0.40824829]]),\n",
       " array([31.74202651,  2.72832424,  0.        ]),\n",
       " array([[-0.34716018, -0.39465093, -0.44214167, -0.48963242, -0.53712316],\n",
       "        [-0.69244481, -0.37980343, -0.06716206,  0.24547932,  0.55812069],\n",
       "        [-0.3545375 , -0.04008557,  0.87009952, -0.20179231, -0.27368413],\n",
       "        [-0.36504752,  0.35761581, -0.14090063,  0.6691439 , -0.52081157],\n",
       "        [-0.37555754,  0.7553172 , -0.15190078, -0.45991989,  0.232061  ]]))"
      ]
     },
     "execution_count": 44,
     "metadata": {},
     "output_type": "execute_result"
    }
   ],
   "source": [
    "#popular matrix factorization method is SVD factorization, which returns decomposition of a matrix into three different matrices. \n",
    "#This can be done using linalg.svd function\n",
    "np.linalg.svd(A)"
   ]
  },
  {
   "cell_type": "code",
   "execution_count": 45,
   "metadata": {},
   "outputs": [
    {
     "data": {
      "text/plain": [
       "array([1., 3., 2.])"
      ]
     },
     "execution_count": 45,
     "metadata": {},
     "output_type": "execute_result"
    }
   ],
   "source": [
    "#Solve a system equation 7x + 5y -3z = 16, 3x - 5y + 2z = -8, 5x + 3y - 7z = 0\n",
    "a = np.array([[7,5,-3], [3,-5,2],[5,3,-7]])\n",
    "b = np.array([16,-8,0])\n",
    "x = np.linalg.solve(a, b)\n",
    "x"
   ]
  },
  {
   "cell_type": "code",
   "execution_count": 46,
   "metadata": {},
   "outputs": [
    {
     "data": {
      "text/plain": [
       "True"
      ]
     },
     "execution_count": 46,
     "metadata": {},
     "output_type": "execute_result"
    }
   ],
   "source": [
    "#check if the solution is correct using the np.allclose function\n",
    "np.allclose(np.dot(a, x), b)"
   ]
  },
  {
   "cell_type": "markdown",
   "metadata": {},
   "source": [
    "# Data Structure of Pandas\n",
    "\n",
    "+ Series and Dataframes are the data structures for all the data representation in pandas\n",
    "+ Series in pandas is a one-dimensional ndarray with an axis label. It means that in functionality, it is almost similar to a simple array.\n",
    "+ Series objects can be used to represent time series data also. In this case, the index is a datetime object.\n",
    "+ Dataframe is the most important and useful data structure, which is used for almost all kind of data representation and manipulation in pandas.\n"
   ]
  },
  {
   "cell_type": "markdown",
   "metadata": {},
   "source": [
    "## Data Retrieval\n",
    "\n",
    "+ Pandas provides numerous ways to retrieve and read in data. We can convert data from CSV files, databases, flat files, and so on into dataframes. \n",
    "+ We can also convert a list of dictionaries (Python dict) into a dataframe."
   ]
  },
  {
   "cell_type": "code",
   "execution_count": 47,
   "metadata": {},
   "outputs": [
    {
     "data": {
      "text/html": [
       "<div>\n",
       "<style scoped>\n",
       "    .dataframe tbody tr th:only-of-type {\n",
       "        vertical-align: middle;\n",
       "    }\n",
       "\n",
       "    .dataframe tbody tr th {\n",
       "        vertical-align: top;\n",
       "    }\n",
       "\n",
       "    .dataframe thead th {\n",
       "        text-align: right;\n",
       "    }\n",
       "</style>\n",
       "<table border=\"1\" class=\"dataframe\">\n",
       "  <thead>\n",
       "    <tr style=\"text-align: right;\">\n",
       "      <th></th>\n",
       "      <th>city</th>\n",
       "      <th>data</th>\n",
       "    </tr>\n",
       "  </thead>\n",
       "  <tbody>\n",
       "    <tr>\n",
       "      <td>0</td>\n",
       "      <td>Delhi</td>\n",
       "      <td>1000</td>\n",
       "    </tr>\n",
       "    <tr>\n",
       "      <td>1</td>\n",
       "      <td>Bangalore</td>\n",
       "      <td>2000</td>\n",
       "    </tr>\n",
       "    <tr>\n",
       "      <td>2</td>\n",
       "      <td>Mumbai</td>\n",
       "      <td>1000</td>\n",
       "    </tr>\n",
       "  </tbody>\n",
       "</table>\n",
       "</div>"
      ],
      "text/plain": [
       "        city  data\n",
       "0      Delhi  1000\n",
       "1  Bangalore  2000\n",
       "2     Mumbai  1000"
      ]
     },
     "execution_count": 47,
     "metadata": {},
     "output_type": "execute_result"
    }
   ],
   "source": [
    "#List of Dictionaries to Dataframe\n",
    "import pandas as pd\n",
    "d = [{'city':'Delhi',\"data\":1000},\n",
    "     {'city':'Bangalore',\"data\":2000},\n",
    "     {'city':'Mumbai',\"data\":1000}]\n",
    "pd.DataFrame(d)"
   ]
  },
  {
   "cell_type": "code",
   "execution_count": 48,
   "metadata": {},
   "outputs": [
    {
     "data": {
      "text/html": [
       "<div>\n",
       "<style scoped>\n",
       "    .dataframe tbody tr th:only-of-type {\n",
       "        vertical-align: middle;\n",
       "    }\n",
       "\n",
       "    .dataframe tbody tr th {\n",
       "        vertical-align: top;\n",
       "    }\n",
       "\n",
       "    .dataframe thead th {\n",
       "        text-align: right;\n",
       "    }\n",
       "</style>\n",
       "<table border=\"1\" class=\"dataframe\">\n",
       "  <thead>\n",
       "    <tr style=\"text-align: right;\">\n",
       "      <th></th>\n",
       "      <th>city</th>\n",
       "      <th>data</th>\n",
       "    </tr>\n",
       "  </thead>\n",
       "  <tbody>\n",
       "    <tr>\n",
       "      <td>0</td>\n",
       "      <td>Delhi</td>\n",
       "      <td>1000</td>\n",
       "    </tr>\n",
       "    <tr>\n",
       "      <td>1</td>\n",
       "      <td>Bangalore</td>\n",
       "      <td>2000</td>\n",
       "    </tr>\n",
       "    <tr>\n",
       "      <td>2</td>\n",
       "      <td>Mumbai</td>\n",
       "      <td>1000</td>\n",
       "    </tr>\n",
       "  </tbody>\n",
       "</table>\n",
       "</div>"
      ],
      "text/plain": [
       "        city  data\n",
       "0      Delhi  1000\n",
       "1  Bangalore  2000\n",
       "2     Mumbai  1000"
      ]
     },
     "execution_count": 48,
     "metadata": {},
     "output_type": "execute_result"
    }
   ],
   "source": [
    "df = pd.DataFrame(d)\n",
    "df"
   ]
  },
  {
   "cell_type": "markdown",
   "metadata": {},
   "source": [
    "+ We provided a list of Python dictionaries to the DataFrame class of the pandas library and the dictionary was converted into a DataFrame above.\n",
    "+ Two important things to note here: first the keys of dictionary are picked up as the column names in the dataframe.\n",
    "+ Secondly we didn’t supply an index and hence it picked up the default index of normal arrays."
   ]
  },
  {
   "cell_type": "markdown",
   "metadata": {},
   "source": [
    "+ CSV Files to Dataframe: CSV (Comma Separated Files) files are perhaps one of the most widely used ways of creating a dataframe\n",
    "+ Databases to Dataframe: Relational databases (DBs) and data warehouses are the de facto standard of data storage in almost all of the organizations."
   ]
  },
  {
   "cell_type": "code",
   "execution_count": 52,
   "metadata": {},
   "outputs": [
    {
     "data": {
      "text/html": [
       "<div>\n",
       "<style scoped>\n",
       "    .dataframe tbody tr th:only-of-type {\n",
       "        vertical-align: middle;\n",
       "    }\n",
       "\n",
       "    .dataframe tbody tr th {\n",
       "        vertical-align: top;\n",
       "    }\n",
       "\n",
       "    .dataframe thead th {\n",
       "        text-align: right;\n",
       "    }\n",
       "</style>\n",
       "<table border=\"1\" class=\"dataframe\">\n",
       "  <thead>\n",
       "    <tr style=\"text-align: right;\">\n",
       "      <th></th>\n",
       "      <th>city</th>\n",
       "      <th>city_ascii</th>\n",
       "      <th>lat</th>\n",
       "      <th>lng</th>\n",
       "      <th>country</th>\n",
       "      <th>iso2</th>\n",
       "      <th>iso3</th>\n",
       "      <th>admin_name</th>\n",
       "      <th>capital</th>\n",
       "      <th>population</th>\n",
       "      <th>id</th>\n",
       "    </tr>\n",
       "  </thead>\n",
       "  <tbody>\n",
       "    <tr>\n",
       "      <td>0</td>\n",
       "      <td>Malishevë</td>\n",
       "      <td>Malisheve</td>\n",
       "      <td>42.4822</td>\n",
       "      <td>20.7458</td>\n",
       "      <td>Kosovo</td>\n",
       "      <td>XK</td>\n",
       "      <td>XKS</td>\n",
       "      <td>Malishevë</td>\n",
       "      <td>admin</td>\n",
       "      <td>NaN</td>\n",
       "      <td>1901597212</td>\n",
       "    </tr>\n",
       "    <tr>\n",
       "      <td>1</td>\n",
       "      <td>Prizren</td>\n",
       "      <td>Prizren</td>\n",
       "      <td>42.2139</td>\n",
       "      <td>20.7397</td>\n",
       "      <td>Kosovo</td>\n",
       "      <td>XK</td>\n",
       "      <td>XKS</td>\n",
       "      <td>Prizren</td>\n",
       "      <td>admin</td>\n",
       "      <td>NaN</td>\n",
       "      <td>1901360309</td>\n",
       "    </tr>\n",
       "    <tr>\n",
       "      <td>2</td>\n",
       "      <td>Zubin Potok</td>\n",
       "      <td>Zubin Potok</td>\n",
       "      <td>42.9144</td>\n",
       "      <td>20.6897</td>\n",
       "      <td>Kosovo</td>\n",
       "      <td>XK</td>\n",
       "      <td>XKS</td>\n",
       "      <td>Zubin Potok</td>\n",
       "      <td>admin</td>\n",
       "      <td>NaN</td>\n",
       "      <td>1901608808</td>\n",
       "    </tr>\n",
       "    <tr>\n",
       "      <td>3</td>\n",
       "      <td>Kamenicë</td>\n",
       "      <td>Kamenice</td>\n",
       "      <td>42.5781</td>\n",
       "      <td>21.5803</td>\n",
       "      <td>Kosovo</td>\n",
       "      <td>XK</td>\n",
       "      <td>XKS</td>\n",
       "      <td>Kamenicë</td>\n",
       "      <td>admin</td>\n",
       "      <td>NaN</td>\n",
       "      <td>1901851592</td>\n",
       "    </tr>\n",
       "    <tr>\n",
       "      <td>4</td>\n",
       "      <td>Viti</td>\n",
       "      <td>Viti</td>\n",
       "      <td>42.3214</td>\n",
       "      <td>21.3583</td>\n",
       "      <td>Kosovo</td>\n",
       "      <td>XK</td>\n",
       "      <td>XKS</td>\n",
       "      <td>Viti</td>\n",
       "      <td>admin</td>\n",
       "      <td>NaN</td>\n",
       "      <td>1901328795</td>\n",
       "    </tr>\n",
       "    <tr>\n",
       "      <td>5</td>\n",
       "      <td>Shtërpcë</td>\n",
       "      <td>Shterpce</td>\n",
       "      <td>42.2394</td>\n",
       "      <td>21.0272</td>\n",
       "      <td>Kosovo</td>\n",
       "      <td>XK</td>\n",
       "      <td>XKS</td>\n",
       "      <td>Shtërpcë</td>\n",
       "      <td>admin</td>\n",
       "      <td>NaN</td>\n",
       "      <td>1901828239</td>\n",
       "    </tr>\n",
       "    <tr>\n",
       "      <td>6</td>\n",
       "      <td>Shtime</td>\n",
       "      <td>Shtime</td>\n",
       "      <td>42.4331</td>\n",
       "      <td>21.0397</td>\n",
       "      <td>Kosovo</td>\n",
       "      <td>XK</td>\n",
       "      <td>XKS</td>\n",
       "      <td>Shtime</td>\n",
       "      <td>admin</td>\n",
       "      <td>NaN</td>\n",
       "      <td>1901598505</td>\n",
       "    </tr>\n",
       "    <tr>\n",
       "      <td>7</td>\n",
       "      <td>Vushtrri</td>\n",
       "      <td>Vushtrri</td>\n",
       "      <td>42.8231</td>\n",
       "      <td>20.9675</td>\n",
       "      <td>Kosovo</td>\n",
       "      <td>XK</td>\n",
       "      <td>XKS</td>\n",
       "      <td>Vushtrri</td>\n",
       "      <td>admin</td>\n",
       "      <td>NaN</td>\n",
       "      <td>1901107642</td>\n",
       "    </tr>\n",
       "    <tr>\n",
       "      <td>8</td>\n",
       "      <td>Dragash</td>\n",
       "      <td>Dragash</td>\n",
       "      <td>42.0265</td>\n",
       "      <td>20.6533</td>\n",
       "      <td>Kosovo</td>\n",
       "      <td>XK</td>\n",
       "      <td>XKS</td>\n",
       "      <td>Dragash</td>\n",
       "      <td>admin</td>\n",
       "      <td>NaN</td>\n",
       "      <td>1901112530</td>\n",
       "    </tr>\n",
       "    <tr>\n",
       "      <td>9</td>\n",
       "      <td>Podujevë</td>\n",
       "      <td>Podujeve</td>\n",
       "      <td>42.9111</td>\n",
       "      <td>21.1899</td>\n",
       "      <td>Kosovo</td>\n",
       "      <td>XK</td>\n",
       "      <td>XKS</td>\n",
       "      <td>Podujevë</td>\n",
       "      <td>admin</td>\n",
       "      <td>NaN</td>\n",
       "      <td>1901550082</td>\n",
       "    </tr>\n",
       "  </tbody>\n",
       "</table>\n",
       "</div>"
      ],
      "text/plain": [
       "          city   city_ascii      lat      lng country iso2 iso3   admin_name  \\\n",
       "0    Malishevë    Malisheve  42.4822  20.7458  Kosovo   XK  XKS    Malishevë   \n",
       "1      Prizren      Prizren  42.2139  20.7397  Kosovo   XK  XKS      Prizren   \n",
       "2  Zubin Potok  Zubin Potok  42.9144  20.6897  Kosovo   XK  XKS  Zubin Potok   \n",
       "3     Kamenicë     Kamenice  42.5781  21.5803  Kosovo   XK  XKS     Kamenicë   \n",
       "4         Viti         Viti  42.3214  21.3583  Kosovo   XK  XKS         Viti   \n",
       "5     Shtërpcë     Shterpce  42.2394  21.0272  Kosovo   XK  XKS     Shtërpcë   \n",
       "6       Shtime       Shtime  42.4331  21.0397  Kosovo   XK  XKS       Shtime   \n",
       "7     Vushtrri     Vushtrri  42.8231  20.9675  Kosovo   XK  XKS     Vushtrri   \n",
       "8      Dragash      Dragash  42.0265  20.6533  Kosovo   XK  XKS      Dragash   \n",
       "9     Podujevë     Podujeve  42.9111  21.1899  Kosovo   XK  XKS     Podujevë   \n",
       "\n",
       "  capital  population          id  \n",
       "0   admin         NaN  1901597212  \n",
       "1   admin         NaN  1901360309  \n",
       "2   admin         NaN  1901608808  \n",
       "3   admin         NaN  1901851592  \n",
       "4   admin         NaN  1901328795  \n",
       "5   admin         NaN  1901828239  \n",
       "6   admin         NaN  1901598505  \n",
       "7   admin         NaN  1901107642  \n",
       "8   admin         NaN  1901112530  \n",
       "9   admin         NaN  1901550082  "
      ]
     },
     "execution_count": 52,
     "metadata": {},
     "output_type": "execute_result"
    }
   ],
   "source": [
    "#dataset link: https://simplemaps.com/data/world-cities\n",
    "import pandas as pd\n",
    "city_data = pd.read_csv('worldcities.csv')\n",
    "#rows from top\n",
    "city_data.head(n=10)"
   ]
  },
  {
   "cell_type": "code",
   "execution_count": 53,
   "metadata": {},
   "outputs": [
    {
     "data": {
      "text/html": [
       "<div>\n",
       "<style scoped>\n",
       "    .dataframe tbody tr th:only-of-type {\n",
       "        vertical-align: middle;\n",
       "    }\n",
       "\n",
       "    .dataframe tbody tr th {\n",
       "        vertical-align: top;\n",
       "    }\n",
       "\n",
       "    .dataframe thead th {\n",
       "        text-align: right;\n",
       "    }\n",
       "</style>\n",
       "<table border=\"1\" class=\"dataframe\">\n",
       "  <thead>\n",
       "    <tr style=\"text-align: right;\">\n",
       "      <th></th>\n",
       "      <th>city</th>\n",
       "      <th>city_ascii</th>\n",
       "      <th>lat</th>\n",
       "      <th>lng</th>\n",
       "      <th>country</th>\n",
       "      <th>iso2</th>\n",
       "      <th>iso3</th>\n",
       "      <th>admin_name</th>\n",
       "      <th>capital</th>\n",
       "      <th>population</th>\n",
       "      <th>id</th>\n",
       "    </tr>\n",
       "  </thead>\n",
       "  <tbody>\n",
       "    <tr>\n",
       "      <td>12954</td>\n",
       "      <td>Sturgis</td>\n",
       "      <td>Sturgis</td>\n",
       "      <td>44.4111</td>\n",
       "      <td>-103.4975</td>\n",
       "      <td>United States</td>\n",
       "      <td>US</td>\n",
       "      <td>USA</td>\n",
       "      <td>South Dakota</td>\n",
       "      <td>NaN</td>\n",
       "      <td>6862.0</td>\n",
       "      <td>1840002174</td>\n",
       "    </tr>\n",
       "    <tr>\n",
       "      <td>12955</td>\n",
       "      <td>Tea</td>\n",
       "      <td>Tea</td>\n",
       "      <td>43.4515</td>\n",
       "      <td>-96.8346</td>\n",
       "      <td>United States</td>\n",
       "      <td>US</td>\n",
       "      <td>USA</td>\n",
       "      <td>South Dakota</td>\n",
       "      <td>NaN</td>\n",
       "      <td>5415.0</td>\n",
       "      <td>1840002841</td>\n",
       "    </tr>\n",
       "    <tr>\n",
       "      <td>12956</td>\n",
       "      <td>Brandon</td>\n",
       "      <td>Brandon</td>\n",
       "      <td>43.5928</td>\n",
       "      <td>-96.5799</td>\n",
       "      <td>United States</td>\n",
       "      <td>US</td>\n",
       "      <td>USA</td>\n",
       "      <td>South Dakota</td>\n",
       "      <td>NaN</td>\n",
       "      <td>9263.0</td>\n",
       "      <td>1840002650</td>\n",
       "    </tr>\n",
       "    <tr>\n",
       "      <td>12957</td>\n",
       "      <td>Madison</td>\n",
       "      <td>Madison</td>\n",
       "      <td>44.0062</td>\n",
       "      <td>-97.1084</td>\n",
       "      <td>United States</td>\n",
       "      <td>US</td>\n",
       "      <td>USA</td>\n",
       "      <td>South Dakota</td>\n",
       "      <td>NaN</td>\n",
       "      <td>6983.0</td>\n",
       "      <td>1840002540</td>\n",
       "    </tr>\n",
       "    <tr>\n",
       "      <td>12958</td>\n",
       "      <td>Belle Fourche</td>\n",
       "      <td>Belle Fourche</td>\n",
       "      <td>44.6640</td>\n",
       "      <td>-103.8564</td>\n",
       "      <td>United States</td>\n",
       "      <td>US</td>\n",
       "      <td>USA</td>\n",
       "      <td>South Dakota</td>\n",
       "      <td>NaN</td>\n",
       "      <td>5202.0</td>\n",
       "      <td>1840002127</td>\n",
       "    </tr>\n",
       "  </tbody>\n",
       "</table>\n",
       "</div>"
      ],
      "text/plain": [
       "                city     city_ascii      lat       lng        country iso2  \\\n",
       "12954        Sturgis        Sturgis  44.4111 -103.4975  United States   US   \n",
       "12955            Tea            Tea  43.4515  -96.8346  United States   US   \n",
       "12956        Brandon        Brandon  43.5928  -96.5799  United States   US   \n",
       "12957        Madison        Madison  44.0062  -97.1084  United States   US   \n",
       "12958  Belle Fourche  Belle Fourche  44.6640 -103.8564  United States   US   \n",
       "\n",
       "      iso3    admin_name capital  population          id  \n",
       "12954  USA  South Dakota     NaN      6862.0  1840002174  \n",
       "12955  USA  South Dakota     NaN      5415.0  1840002841  \n",
       "12956  USA  South Dakota     NaN      9263.0  1840002650  \n",
       "12957  USA  South Dakota     NaN      6983.0  1840002540  \n",
       "12958  USA  South Dakota     NaN      5202.0  1840002127  "
      ]
     },
     "execution_count": 53,
     "metadata": {},
     "output_type": "execute_result"
    }
   ],
   "source": [
    "#last rows from the bottom\n",
    "city_data.tail()"
   ]
  },
  {
   "cell_type": "code",
   "execution_count": 54,
   "metadata": {},
   "outputs": [
    {
     "data": {
      "text/plain": [
       "pandas.core.series.Series"
      ]
     },
     "execution_count": 54,
     "metadata": {},
     "output_type": "execute_result"
    }
   ],
   "source": [
    "#slicing and dicing\n",
    "series_es = city_data.lat\n",
    "type(series_es)"
   ]
  },
  {
   "cell_type": "code",
   "execution_count": 55,
   "metadata": {},
   "outputs": [
    {
     "data": {
      "text/plain": [
       "1    42.2139\n",
       "3    42.5781\n",
       "5    42.2394\n",
       "7    42.8231\n",
       "9    42.9111\n",
       "Name: lat, dtype: float64"
      ]
     },
     "execution_count": 55,
     "metadata": {},
     "output_type": "execute_result"
    }
   ],
   "source": [
    "series_es[1:10:2]"
   ]
  },
  {
   "cell_type": "code",
   "execution_count": 56,
   "metadata": {},
   "outputs": [
    {
     "data": {
      "text/plain": [
       "0    42.4822\n",
       "1    42.2139\n",
       "2    42.9144\n",
       "3    42.5781\n",
       "4    42.3214\n",
       "5    42.2394\n",
       "6    42.4331\n",
       "Name: lat, dtype: float64"
      ]
     },
     "execution_count": 56,
     "metadata": {},
     "output_type": "execute_result"
    }
   ],
   "source": [
    "series_es[:7]"
   ]
  },
  {
   "cell_type": "code",
   "execution_count": 57,
   "metadata": {},
   "outputs": [
    {
     "data": {
      "text/plain": [
       "0       42.4822\n",
       "1       42.2139\n",
       "2       42.9144\n",
       "3       42.5781\n",
       "4       42.3214\n",
       "         ...   \n",
       "5639   -34.1700\n",
       "5640   -36.8300\n",
       "5641   -38.2395\n",
       "5642   -35.4550\n",
       "5643   -18.5000\n",
       "Name: lat, Length: 5644, dtype: float64"
      ]
     },
     "execution_count": 57,
     "metadata": {},
     "output_type": "execute_result"
    }
   ],
   "source": [
    "series_es[:-7315]"
   ]
  },
  {
   "cell_type": "code",
   "execution_count": 58,
   "metadata": {},
   "outputs": [
    {
     "data": {
      "text/html": [
       "<div>\n",
       "<style scoped>\n",
       "    .dataframe tbody tr th:only-of-type {\n",
       "        vertical-align: middle;\n",
       "    }\n",
       "\n",
       "    .dataframe tbody tr th {\n",
       "        vertical-align: top;\n",
       "    }\n",
       "\n",
       "    .dataframe thead th {\n",
       "        text-align: right;\n",
       "    }\n",
       "</style>\n",
       "<table border=\"1\" class=\"dataframe\">\n",
       "  <thead>\n",
       "    <tr style=\"text-align: right;\">\n",
       "      <th></th>\n",
       "      <th>city</th>\n",
       "      <th>city_ascii</th>\n",
       "      <th>lat</th>\n",
       "      <th>lng</th>\n",
       "      <th>country</th>\n",
       "      <th>iso2</th>\n",
       "      <th>iso3</th>\n",
       "      <th>admin_name</th>\n",
       "      <th>capital</th>\n",
       "      <th>population</th>\n",
       "      <th>id</th>\n",
       "    </tr>\n",
       "  </thead>\n",
       "  <tbody>\n",
       "    <tr>\n",
       "      <td>0</td>\n",
       "      <td>Malishevë</td>\n",
       "      <td>Malisheve</td>\n",
       "      <td>42.4822</td>\n",
       "      <td>20.7458</td>\n",
       "      <td>Kosovo</td>\n",
       "      <td>XK</td>\n",
       "      <td>XKS</td>\n",
       "      <td>Malishevë</td>\n",
       "      <td>admin</td>\n",
       "      <td>NaN</td>\n",
       "      <td>1901597212</td>\n",
       "    </tr>\n",
       "    <tr>\n",
       "      <td>1</td>\n",
       "      <td>Prizren</td>\n",
       "      <td>Prizren</td>\n",
       "      <td>42.2139</td>\n",
       "      <td>20.7397</td>\n",
       "      <td>Kosovo</td>\n",
       "      <td>XK</td>\n",
       "      <td>XKS</td>\n",
       "      <td>Prizren</td>\n",
       "      <td>admin</td>\n",
       "      <td>NaN</td>\n",
       "      <td>1901360309</td>\n",
       "    </tr>\n",
       "    <tr>\n",
       "      <td>2</td>\n",
       "      <td>Zubin Potok</td>\n",
       "      <td>Zubin Potok</td>\n",
       "      <td>42.9144</td>\n",
       "      <td>20.6897</td>\n",
       "      <td>Kosovo</td>\n",
       "      <td>XK</td>\n",
       "      <td>XKS</td>\n",
       "      <td>Zubin Potok</td>\n",
       "      <td>admin</td>\n",
       "      <td>NaN</td>\n",
       "      <td>1901608808</td>\n",
       "    </tr>\n",
       "    <tr>\n",
       "      <td>3</td>\n",
       "      <td>Kamenicë</td>\n",
       "      <td>Kamenice</td>\n",
       "      <td>42.5781</td>\n",
       "      <td>21.5803</td>\n",
       "      <td>Kosovo</td>\n",
       "      <td>XK</td>\n",
       "      <td>XKS</td>\n",
       "      <td>Kamenicë</td>\n",
       "      <td>admin</td>\n",
       "      <td>NaN</td>\n",
       "      <td>1901851592</td>\n",
       "    </tr>\n",
       "    <tr>\n",
       "      <td>4</td>\n",
       "      <td>Viti</td>\n",
       "      <td>Viti</td>\n",
       "      <td>42.3214</td>\n",
       "      <td>21.3583</td>\n",
       "      <td>Kosovo</td>\n",
       "      <td>XK</td>\n",
       "      <td>XKS</td>\n",
       "      <td>Viti</td>\n",
       "      <td>admin</td>\n",
       "      <td>NaN</td>\n",
       "      <td>1901328795</td>\n",
       "    </tr>\n",
       "    <tr>\n",
       "      <td>5</td>\n",
       "      <td>Shtërpcë</td>\n",
       "      <td>Shterpce</td>\n",
       "      <td>42.2394</td>\n",
       "      <td>21.0272</td>\n",
       "      <td>Kosovo</td>\n",
       "      <td>XK</td>\n",
       "      <td>XKS</td>\n",
       "      <td>Shtërpcë</td>\n",
       "      <td>admin</td>\n",
       "      <td>NaN</td>\n",
       "      <td>1901828239</td>\n",
       "    </tr>\n",
       "    <tr>\n",
       "      <td>6</td>\n",
       "      <td>Shtime</td>\n",
       "      <td>Shtime</td>\n",
       "      <td>42.4331</td>\n",
       "      <td>21.0397</td>\n",
       "      <td>Kosovo</td>\n",
       "      <td>XK</td>\n",
       "      <td>XKS</td>\n",
       "      <td>Shtime</td>\n",
       "      <td>admin</td>\n",
       "      <td>NaN</td>\n",
       "      <td>1901598505</td>\n",
       "    </tr>\n",
       "  </tbody>\n",
       "</table>\n",
       "</div>"
      ],
      "text/plain": [
       "          city   city_ascii      lat      lng country iso2 iso3   admin_name  \\\n",
       "0    Malishevë    Malisheve  42.4822  20.7458  Kosovo   XK  XKS    Malishevë   \n",
       "1      Prizren      Prizren  42.2139  20.7397  Kosovo   XK  XKS      Prizren   \n",
       "2  Zubin Potok  Zubin Potok  42.9144  20.6897  Kosovo   XK  XKS  Zubin Potok   \n",
       "3     Kamenicë     Kamenice  42.5781  21.5803  Kosovo   XK  XKS     Kamenicë   \n",
       "4         Viti         Viti  42.3214  21.3583  Kosovo   XK  XKS         Viti   \n",
       "5     Shtërpcë     Shterpce  42.2394  21.0272  Kosovo   XK  XKS     Shtërpcë   \n",
       "6       Shtime       Shtime  42.4331  21.0397  Kosovo   XK  XKS       Shtime   \n",
       "\n",
       "  capital  population          id  \n",
       "0   admin         NaN  1901597212  \n",
       "1   admin         NaN  1901360309  \n",
       "2   admin         NaN  1901608808  \n",
       "3   admin         NaN  1901851592  \n",
       "4   admin         NaN  1901328795  \n",
       "5   admin         NaN  1901828239  \n",
       "6   admin         NaN  1901598505  "
      ]
     },
     "execution_count": 58,
     "metadata": {},
     "output_type": "execute_result"
    }
   ],
   "source": [
    "city_data[:7]"
   ]
  },
  {
   "cell_type": "code",
   "execution_count": 59,
   "metadata": {},
   "outputs": [
    {
     "data": {
      "text/html": [
       "<div>\n",
       "<style scoped>\n",
       "    .dataframe tbody tr th:only-of-type {\n",
       "        vertical-align: middle;\n",
       "    }\n",
       "\n",
       "    .dataframe tbody tr th {\n",
       "        vertical-align: top;\n",
       "    }\n",
       "\n",
       "    .dataframe thead th {\n",
       "        text-align: right;\n",
       "    }\n",
       "</style>\n",
       "<table border=\"1\" class=\"dataframe\">\n",
       "  <thead>\n",
       "    <tr style=\"text-align: right;\">\n",
       "      <th></th>\n",
       "      <th>city</th>\n",
       "      <th>city_ascii</th>\n",
       "      <th>lat</th>\n",
       "      <th>lng</th>\n",
       "    </tr>\n",
       "  </thead>\n",
       "  <tbody>\n",
       "    <tr>\n",
       "      <td>0</td>\n",
       "      <td>Malishevë</td>\n",
       "      <td>Malisheve</td>\n",
       "      <td>42.4822</td>\n",
       "      <td>20.7458</td>\n",
       "    </tr>\n",
       "    <tr>\n",
       "      <td>1</td>\n",
       "      <td>Prizren</td>\n",
       "      <td>Prizren</td>\n",
       "      <td>42.2139</td>\n",
       "      <td>20.7397</td>\n",
       "    </tr>\n",
       "    <tr>\n",
       "      <td>2</td>\n",
       "      <td>Zubin Potok</td>\n",
       "      <td>Zubin Potok</td>\n",
       "      <td>42.9144</td>\n",
       "      <td>20.6897</td>\n",
       "    </tr>\n",
       "    <tr>\n",
       "      <td>3</td>\n",
       "      <td>Kamenicë</td>\n",
       "      <td>Kamenice</td>\n",
       "      <td>42.5781</td>\n",
       "      <td>21.5803</td>\n",
       "    </tr>\n",
       "    <tr>\n",
       "      <td>4</td>\n",
       "      <td>Viti</td>\n",
       "      <td>Viti</td>\n",
       "      <td>42.3214</td>\n",
       "      <td>21.3583</td>\n",
       "    </tr>\n",
       "  </tbody>\n",
       "</table>\n",
       "</div>"
      ],
      "text/plain": [
       "          city   city_ascii      lat      lng\n",
       "0    Malishevë    Malisheve  42.4822  20.7458\n",
       "1      Prizren      Prizren  42.2139  20.7397\n",
       "2  Zubin Potok  Zubin Potok  42.9144  20.6897\n",
       "3     Kamenicë     Kamenice  42.5781  21.5803\n",
       "4         Viti         Viti  42.3214  21.3583"
      ]
     },
     "execution_count": 59,
     "metadata": {},
     "output_type": "execute_result"
    }
   ],
   "source": [
    "city_data.iloc[:5,:4]"
   ]
  },
  {
   "cell_type": "code",
   "execution_count": 62,
   "metadata": {},
   "outputs": [
    {
     "data": {
      "text/html": [
       "<div>\n",
       "<style scoped>\n",
       "    .dataframe tbody tr th:only-of-type {\n",
       "        vertical-align: middle;\n",
       "    }\n",
       "\n",
       "    .dataframe tbody tr th {\n",
       "        vertical-align: top;\n",
       "    }\n",
       "\n",
       "    .dataframe thead th {\n",
       "        text-align: right;\n",
       "    }\n",
       "</style>\n",
       "<table border=\"1\" class=\"dataframe\">\n",
       "  <thead>\n",
       "    <tr style=\"text-align: right;\">\n",
       "      <th></th>\n",
       "      <th>lat</th>\n",
       "      <th>lng</th>\n",
       "    </tr>\n",
       "  </thead>\n",
       "  <tbody>\n",
       "    <tr>\n",
       "      <td>1075</td>\n",
       "      <td>19.4424</td>\n",
       "      <td>-99.1310</td>\n",
       "    </tr>\n",
       "    <tr>\n",
       "      <td>1685</td>\n",
       "      <td>14.6042</td>\n",
       "      <td>120.9822</td>\n",
       "    </tr>\n",
       "    <tr>\n",
       "      <td>1790</td>\n",
       "      <td>24.8700</td>\n",
       "      <td>66.9900</td>\n",
       "    </tr>\n",
       "    <tr>\n",
       "      <td>2220</td>\n",
       "      <td>55.7522</td>\n",
       "      <td>37.6155</td>\n",
       "    </tr>\n",
       "    <tr>\n",
       "      <td>3412</td>\n",
       "      <td>41.1050</td>\n",
       "      <td>29.0100</td>\n",
       "    </tr>\n",
       "    <tr>\n",
       "      <td>4240</td>\n",
       "      <td>-34.6025</td>\n",
       "      <td>-58.3975</td>\n",
       "    </tr>\n",
       "    <tr>\n",
       "      <td>4552</td>\n",
       "      <td>23.7231</td>\n",
       "      <td>90.4086</td>\n",
       "    </tr>\n",
       "    <tr>\n",
       "      <td>5057</td>\n",
       "      <td>-22.9250</td>\n",
       "      <td>-43.2250</td>\n",
       "    </tr>\n",
       "    <tr>\n",
       "      <td>5105</td>\n",
       "      <td>-23.5587</td>\n",
       "      <td>-46.6250</td>\n",
       "    </tr>\n",
       "    <tr>\n",
       "      <td>5758</td>\n",
       "      <td>31.2165</td>\n",
       "      <td>121.4365</td>\n",
       "    </tr>\n",
       "    <tr>\n",
       "      <td>5970</td>\n",
       "      <td>39.9289</td>\n",
       "      <td>116.3883</td>\n",
       "    </tr>\n",
       "    <tr>\n",
       "      <td>6560</td>\n",
       "      <td>30.0500</td>\n",
       "      <td>31.2500</td>\n",
       "    </tr>\n",
       "    <tr>\n",
       "      <td>7491</td>\n",
       "      <td>19.0170</td>\n",
       "      <td>72.8570</td>\n",
       "    </tr>\n",
       "    <tr>\n",
       "      <td>7518</td>\n",
       "      <td>22.4950</td>\n",
       "      <td>88.3247</td>\n",
       "    </tr>\n",
       "    <tr>\n",
       "      <td>7562</td>\n",
       "      <td>28.6700</td>\n",
       "      <td>77.2300</td>\n",
       "    </tr>\n",
       "    <tr>\n",
       "      <td>7862</td>\n",
       "      <td>35.6850</td>\n",
       "      <td>139.7514</td>\n",
       "    </tr>\n",
       "    <tr>\n",
       "      <td>7899</td>\n",
       "      <td>34.7500</td>\n",
       "      <td>135.4601</td>\n",
       "    </tr>\n",
       "    <tr>\n",
       "      <td>9792</td>\n",
       "      <td>40.6943</td>\n",
       "      <td>-73.9249</td>\n",
       "    </tr>\n",
       "    <tr>\n",
       "      <td>10465</td>\n",
       "      <td>34.1139</td>\n",
       "      <td>-118.4068</td>\n",
       "    </tr>\n",
       "  </tbody>\n",
       "</table>\n",
       "</div>"
      ],
      "text/plain": [
       "           lat       lng\n",
       "1075   19.4424  -99.1310\n",
       "1685   14.6042  120.9822\n",
       "1790   24.8700   66.9900\n",
       "2220   55.7522   37.6155\n",
       "3412   41.1050   29.0100\n",
       "4240  -34.6025  -58.3975\n",
       "4552   23.7231   90.4086\n",
       "5057  -22.9250  -43.2250\n",
       "5105  -23.5587  -46.6250\n",
       "5758   31.2165  121.4365\n",
       "5970   39.9289  116.3883\n",
       "6560   30.0500   31.2500\n",
       "7491   19.0170   72.8570\n",
       "7518   22.4950   88.3247\n",
       "7562   28.6700   77.2300\n",
       "7862   35.6850  139.7514\n",
       "7899   34.7500  135.4601\n",
       "9792   40.6943  -73.9249\n",
       "10465  34.1139 -118.4068"
      ]
     },
     "execution_count": 62,
     "metadata": {},
     "output_type": "execute_result"
    }
   ],
   "source": [
    "city_data[city_data['population'] >10000000][city_data.columns[pd.Series(city_data.columns).str.startswith('l')]]"
   ]
  },
  {
   "cell_type": "code",
   "execution_count": 63,
   "metadata": {},
   "outputs": [
    {
     "data": {
      "text/html": [
       "<div>\n",
       "<style scoped>\n",
       "    .dataframe tbody tr th:only-of-type {\n",
       "        vertical-align: middle;\n",
       "    }\n",
       "\n",
       "    .dataframe tbody tr th {\n",
       "        vertical-align: top;\n",
       "    }\n",
       "\n",
       "    .dataframe thead th {\n",
       "        text-align: right;\n",
       "    }\n",
       "</style>\n",
       "<table border=\"1\" class=\"dataframe\">\n",
       "  <thead>\n",
       "    <tr style=\"text-align: right;\">\n",
       "      <th></th>\n",
       "      <th>city</th>\n",
       "      <th>city_ascii</th>\n",
       "      <th>lat</th>\n",
       "      <th>lng</th>\n",
       "      <th>country</th>\n",
       "      <th>iso2</th>\n",
       "      <th>iso3</th>\n",
       "      <th>admin_name</th>\n",
       "      <th>capital</th>\n",
       "      <th>population</th>\n",
       "      <th>id</th>\n",
       "    </tr>\n",
       "  </thead>\n",
       "  <tbody>\n",
       "    <tr>\n",
       "      <td>1075</td>\n",
       "      <td>Mexico City</td>\n",
       "      <td>Mexico City</td>\n",
       "      <td>19.4424</td>\n",
       "      <td>-99.1310</td>\n",
       "      <td>Mexico</td>\n",
       "      <td>MX</td>\n",
       "      <td>MEX</td>\n",
       "      <td>Ciudad de México</td>\n",
       "      <td>primary</td>\n",
       "      <td>19028000.0</td>\n",
       "      <td>1.484248e+09</td>\n",
       "    </tr>\n",
       "    <tr>\n",
       "      <td>1685</td>\n",
       "      <td>NaN</td>\n",
       "      <td>NaN</td>\n",
       "      <td>NaN</td>\n",
       "      <td>NaN</td>\n",
       "      <td>NaN</td>\n",
       "      <td>NaN</td>\n",
       "      <td>NaN</td>\n",
       "      <td>NaN</td>\n",
       "      <td>NaN</td>\n",
       "      <td>NaN</td>\n",
       "      <td>NaN</td>\n",
       "    </tr>\n",
       "    <tr>\n",
       "      <td>1790</td>\n",
       "      <td>NaN</td>\n",
       "      <td>NaN</td>\n",
       "      <td>NaN</td>\n",
       "      <td>NaN</td>\n",
       "      <td>NaN</td>\n",
       "      <td>NaN</td>\n",
       "      <td>NaN</td>\n",
       "      <td>NaN</td>\n",
       "      <td>NaN</td>\n",
       "      <td>NaN</td>\n",
       "      <td>NaN</td>\n",
       "    </tr>\n",
       "    <tr>\n",
       "      <td>2220</td>\n",
       "      <td>NaN</td>\n",
       "      <td>NaN</td>\n",
       "      <td>NaN</td>\n",
       "      <td>NaN</td>\n",
       "      <td>NaN</td>\n",
       "      <td>NaN</td>\n",
       "      <td>NaN</td>\n",
       "      <td>NaN</td>\n",
       "      <td>NaN</td>\n",
       "      <td>NaN</td>\n",
       "      <td>NaN</td>\n",
       "    </tr>\n",
       "    <tr>\n",
       "      <td>3412</td>\n",
       "      <td>NaN</td>\n",
       "      <td>NaN</td>\n",
       "      <td>NaN</td>\n",
       "      <td>NaN</td>\n",
       "      <td>NaN</td>\n",
       "      <td>NaN</td>\n",
       "      <td>NaN</td>\n",
       "      <td>NaN</td>\n",
       "      <td>NaN</td>\n",
       "      <td>NaN</td>\n",
       "      <td>NaN</td>\n",
       "    </tr>\n",
       "    <tr>\n",
       "      <td>4240</td>\n",
       "      <td>NaN</td>\n",
       "      <td>NaN</td>\n",
       "      <td>NaN</td>\n",
       "      <td>NaN</td>\n",
       "      <td>NaN</td>\n",
       "      <td>NaN</td>\n",
       "      <td>NaN</td>\n",
       "      <td>NaN</td>\n",
       "      <td>NaN</td>\n",
       "      <td>NaN</td>\n",
       "      <td>NaN</td>\n",
       "    </tr>\n",
       "    <tr>\n",
       "      <td>4552</td>\n",
       "      <td>NaN</td>\n",
       "      <td>NaN</td>\n",
       "      <td>NaN</td>\n",
       "      <td>NaN</td>\n",
       "      <td>NaN</td>\n",
       "      <td>NaN</td>\n",
       "      <td>NaN</td>\n",
       "      <td>NaN</td>\n",
       "      <td>NaN</td>\n",
       "      <td>NaN</td>\n",
       "      <td>NaN</td>\n",
       "    </tr>\n",
       "    <tr>\n",
       "      <td>5057</td>\n",
       "      <td>NaN</td>\n",
       "      <td>NaN</td>\n",
       "      <td>NaN</td>\n",
       "      <td>NaN</td>\n",
       "      <td>NaN</td>\n",
       "      <td>NaN</td>\n",
       "      <td>NaN</td>\n",
       "      <td>NaN</td>\n",
       "      <td>NaN</td>\n",
       "      <td>NaN</td>\n",
       "      <td>NaN</td>\n",
       "    </tr>\n",
       "    <tr>\n",
       "      <td>5105</td>\n",
       "      <td>São Paulo</td>\n",
       "      <td>Sao Paulo</td>\n",
       "      <td>-23.5587</td>\n",
       "      <td>-46.6250</td>\n",
       "      <td>Brazil</td>\n",
       "      <td>BR</td>\n",
       "      <td>BRA</td>\n",
       "      <td>São Paulo</td>\n",
       "      <td>admin</td>\n",
       "      <td>18845000.0</td>\n",
       "      <td>1.076533e+09</td>\n",
       "    </tr>\n",
       "    <tr>\n",
       "      <td>5758</td>\n",
       "      <td>NaN</td>\n",
       "      <td>NaN</td>\n",
       "      <td>NaN</td>\n",
       "      <td>NaN</td>\n",
       "      <td>NaN</td>\n",
       "      <td>NaN</td>\n",
       "      <td>NaN</td>\n",
       "      <td>NaN</td>\n",
       "      <td>NaN</td>\n",
       "      <td>NaN</td>\n",
       "      <td>NaN</td>\n",
       "    </tr>\n",
       "    <tr>\n",
       "      <td>5970</td>\n",
       "      <td>NaN</td>\n",
       "      <td>NaN</td>\n",
       "      <td>NaN</td>\n",
       "      <td>NaN</td>\n",
       "      <td>NaN</td>\n",
       "      <td>NaN</td>\n",
       "      <td>NaN</td>\n",
       "      <td>NaN</td>\n",
       "      <td>NaN</td>\n",
       "      <td>NaN</td>\n",
       "      <td>NaN</td>\n",
       "    </tr>\n",
       "    <tr>\n",
       "      <td>6560</td>\n",
       "      <td>NaN</td>\n",
       "      <td>NaN</td>\n",
       "      <td>NaN</td>\n",
       "      <td>NaN</td>\n",
       "      <td>NaN</td>\n",
       "      <td>NaN</td>\n",
       "      <td>NaN</td>\n",
       "      <td>NaN</td>\n",
       "      <td>NaN</td>\n",
       "      <td>NaN</td>\n",
       "      <td>NaN</td>\n",
       "    </tr>\n",
       "    <tr>\n",
       "      <td>7491</td>\n",
       "      <td>Mumbai</td>\n",
       "      <td>Mumbai</td>\n",
       "      <td>19.0170</td>\n",
       "      <td>72.8570</td>\n",
       "      <td>India</td>\n",
       "      <td>IN</td>\n",
       "      <td>IND</td>\n",
       "      <td>Mahārāshtra</td>\n",
       "      <td>admin</td>\n",
       "      <td>18978000.0</td>\n",
       "      <td>1.356227e+09</td>\n",
       "    </tr>\n",
       "    <tr>\n",
       "      <td>7518</td>\n",
       "      <td>NaN</td>\n",
       "      <td>NaN</td>\n",
       "      <td>NaN</td>\n",
       "      <td>NaN</td>\n",
       "      <td>NaN</td>\n",
       "      <td>NaN</td>\n",
       "      <td>NaN</td>\n",
       "      <td>NaN</td>\n",
       "      <td>NaN</td>\n",
       "      <td>NaN</td>\n",
       "      <td>NaN</td>\n",
       "    </tr>\n",
       "    <tr>\n",
       "      <td>7562</td>\n",
       "      <td>Delhi</td>\n",
       "      <td>Delhi</td>\n",
       "      <td>28.6700</td>\n",
       "      <td>77.2300</td>\n",
       "      <td>India</td>\n",
       "      <td>IN</td>\n",
       "      <td>IND</td>\n",
       "      <td>Delhi</td>\n",
       "      <td>admin</td>\n",
       "      <td>15926000.0</td>\n",
       "      <td>1.356873e+09</td>\n",
       "    </tr>\n",
       "    <tr>\n",
       "      <td>7862</td>\n",
       "      <td>Tokyo</td>\n",
       "      <td>Tokyo</td>\n",
       "      <td>35.6850</td>\n",
       "      <td>139.7514</td>\n",
       "      <td>Japan</td>\n",
       "      <td>JP</td>\n",
       "      <td>JPN</td>\n",
       "      <td>Tōkyō</td>\n",
       "      <td>primary</td>\n",
       "      <td>35676000.0</td>\n",
       "      <td>1.392686e+09</td>\n",
       "    </tr>\n",
       "    <tr>\n",
       "      <td>7899</td>\n",
       "      <td>NaN</td>\n",
       "      <td>NaN</td>\n",
       "      <td>NaN</td>\n",
       "      <td>NaN</td>\n",
       "      <td>NaN</td>\n",
       "      <td>NaN</td>\n",
       "      <td>NaN</td>\n",
       "      <td>NaN</td>\n",
       "      <td>NaN</td>\n",
       "      <td>NaN</td>\n",
       "      <td>NaN</td>\n",
       "    </tr>\n",
       "    <tr>\n",
       "      <td>9792</td>\n",
       "      <td>New York</td>\n",
       "      <td>New York</td>\n",
       "      <td>40.6943</td>\n",
       "      <td>-73.9249</td>\n",
       "      <td>United States</td>\n",
       "      <td>US</td>\n",
       "      <td>USA</td>\n",
       "      <td>New York</td>\n",
       "      <td>NaN</td>\n",
       "      <td>19354922.0</td>\n",
       "      <td>1.840034e+09</td>\n",
       "    </tr>\n",
       "    <tr>\n",
       "      <td>10465</td>\n",
       "      <td>NaN</td>\n",
       "      <td>NaN</td>\n",
       "      <td>NaN</td>\n",
       "      <td>NaN</td>\n",
       "      <td>NaN</td>\n",
       "      <td>NaN</td>\n",
       "      <td>NaN</td>\n",
       "      <td>NaN</td>\n",
       "      <td>NaN</td>\n",
       "      <td>NaN</td>\n",
       "      <td>NaN</td>\n",
       "    </tr>\n",
       "  </tbody>\n",
       "</table>\n",
       "</div>"
      ],
      "text/plain": [
       "              city   city_ascii      lat       lng        country iso2 iso3  \\\n",
       "1075   Mexico City  Mexico City  19.4424  -99.1310         Mexico   MX  MEX   \n",
       "1685           NaN          NaN      NaN       NaN            NaN  NaN  NaN   \n",
       "1790           NaN          NaN      NaN       NaN            NaN  NaN  NaN   \n",
       "2220           NaN          NaN      NaN       NaN            NaN  NaN  NaN   \n",
       "3412           NaN          NaN      NaN       NaN            NaN  NaN  NaN   \n",
       "4240           NaN          NaN      NaN       NaN            NaN  NaN  NaN   \n",
       "4552           NaN          NaN      NaN       NaN            NaN  NaN  NaN   \n",
       "5057           NaN          NaN      NaN       NaN            NaN  NaN  NaN   \n",
       "5105     São Paulo    Sao Paulo -23.5587  -46.6250         Brazil   BR  BRA   \n",
       "5758           NaN          NaN      NaN       NaN            NaN  NaN  NaN   \n",
       "5970           NaN          NaN      NaN       NaN            NaN  NaN  NaN   \n",
       "6560           NaN          NaN      NaN       NaN            NaN  NaN  NaN   \n",
       "7491        Mumbai       Mumbai  19.0170   72.8570          India   IN  IND   \n",
       "7518           NaN          NaN      NaN       NaN            NaN  NaN  NaN   \n",
       "7562         Delhi        Delhi  28.6700   77.2300          India   IN  IND   \n",
       "7862         Tokyo        Tokyo  35.6850  139.7514          Japan   JP  JPN   \n",
       "7899           NaN          NaN      NaN       NaN            NaN  NaN  NaN   \n",
       "9792      New York     New York  40.6943  -73.9249  United States   US  USA   \n",
       "10465          NaN          NaN      NaN       NaN            NaN  NaN  NaN   \n",
       "\n",
       "             admin_name  capital  population            id  \n",
       "1075   Ciudad de México  primary  19028000.0  1.484248e+09  \n",
       "1685                NaN      NaN         NaN           NaN  \n",
       "1790                NaN      NaN         NaN           NaN  \n",
       "2220                NaN      NaN         NaN           NaN  \n",
       "3412                NaN      NaN         NaN           NaN  \n",
       "4240                NaN      NaN         NaN           NaN  \n",
       "4552                NaN      NaN         NaN           NaN  \n",
       "5057                NaN      NaN         NaN           NaN  \n",
       "5105          São Paulo    admin  18845000.0  1.076533e+09  \n",
       "5758                NaN      NaN         NaN           NaN  \n",
       "5970                NaN      NaN         NaN           NaN  \n",
       "6560                NaN      NaN         NaN           NaN  \n",
       "7491        Mahārāshtra    admin  18978000.0  1.356227e+09  \n",
       "7518                NaN      NaN         NaN           NaN  \n",
       "7562              Delhi    admin  15926000.0  1.356873e+09  \n",
       "7862              Tōkyō  primary  35676000.0  1.392686e+09  \n",
       "7899                NaN      NaN         NaN           NaN  \n",
       "9792           New York      NaN  19354922.0  1.840034e+09  \n",
       "10465               NaN      NaN         NaN           NaN  "
      ]
     },
     "execution_count": 63,
     "metadata": {},
     "output_type": "execute_result"
    }
   ],
   "source": [
    "city_greater_10mil = city_data[city_data['population'] > 10000000]\n",
    "city_greater_10mil.where(city_greater_10mil.population > 15000000)"
   ]
  },
  {
   "cell_type": "markdown",
   "metadata": {},
   "source": [
    "+ Here we see that we get the output dataframe of the same size but the rows that don’t conform to the condition are replaced with NaN."
   ]
  },
  {
   "cell_type": "markdown",
   "metadata": {},
   "source": [
    "# Data Operations\n",
    "## Values Attribute\n",
    "\n",
    "+ Vectorized operations are much faster than function based operations on dataframes.\n",
    "+ Using the values attribute of the output dataframe, we can treat it in the same way as a numpy array. This is very useful when working with feature sets in Machine Learning"
   ]
  },
  {
   "cell_type": "code",
   "execution_count": 64,
   "metadata": {},
   "outputs": [
    {
     "data": {
      "text/html": [
       "<div>\n",
       "<style scoped>\n",
       "    .dataframe tbody tr th:only-of-type {\n",
       "        vertical-align: middle;\n",
       "    }\n",
       "\n",
       "    .dataframe tbody tr th {\n",
       "        vertical-align: top;\n",
       "    }\n",
       "\n",
       "    .dataframe thead th {\n",
       "        text-align: right;\n",
       "    }\n",
       "</style>\n",
       "<table border=\"1\" class=\"dataframe\">\n",
       "  <thead>\n",
       "    <tr style=\"text-align: right;\">\n",
       "      <th></th>\n",
       "      <th>A</th>\n",
       "      <th>B</th>\n",
       "      <th>C</th>\n",
       "    </tr>\n",
       "  </thead>\n",
       "  <tbody>\n",
       "    <tr>\n",
       "      <td>0</td>\n",
       "      <td>0.603969</td>\n",
       "      <td>-0.440988</td>\n",
       "      <td>0.736716</td>\n",
       "    </tr>\n",
       "    <tr>\n",
       "      <td>1</td>\n",
       "      <td>1.374016</td>\n",
       "      <td>0.657515</td>\n",
       "      <td>1.034392</td>\n",
       "    </tr>\n",
       "    <tr>\n",
       "      <td>2</td>\n",
       "      <td>0.437587</td>\n",
       "      <td>-0.452020</td>\n",
       "      <td>0.114116</td>\n",
       "    </tr>\n",
       "    <tr>\n",
       "      <td>3</td>\n",
       "      <td>-1.388008</td>\n",
       "      <td>1.167475</td>\n",
       "      <td>-0.648296</td>\n",
       "    </tr>\n",
       "    <tr>\n",
       "      <td>4</td>\n",
       "      <td>-0.517887</td>\n",
       "      <td>-1.087331</td>\n",
       "      <td>0.112693</td>\n",
       "    </tr>\n",
       "    <tr>\n",
       "      <td>5</td>\n",
       "      <td>-1.111624</td>\n",
       "      <td>-1.850551</td>\n",
       "      <td>-0.171002</td>\n",
       "    </tr>\n",
       "    <tr>\n",
       "      <td>6</td>\n",
       "      <td>-1.846387</td>\n",
       "      <td>-1.934790</td>\n",
       "      <td>0.374596</td>\n",
       "    </tr>\n",
       "    <tr>\n",
       "      <td>7</td>\n",
       "      <td>-0.313786</td>\n",
       "      <td>-0.293114</td>\n",
       "      <td>-0.460515</td>\n",
       "    </tr>\n",
       "  </tbody>\n",
       "</table>\n",
       "</div>"
      ],
      "text/plain": [
       "          A         B         C\n",
       "0  0.603969 -0.440988  0.736716\n",
       "1  1.374016  0.657515  1.034392\n",
       "2  0.437587 -0.452020  0.114116\n",
       "3 -1.388008  1.167475 -0.648296\n",
       "4 -0.517887 -1.087331  0.112693\n",
       "5 -1.111624 -1.850551 -0.171002\n",
       "6 -1.846387 -1.934790  0.374596\n",
       "7 -0.313786 -0.293114 -0.460515"
      ]
     },
     "execution_count": 64,
     "metadata": {},
     "output_type": "execute_result"
    }
   ],
   "source": [
    "df = pd.DataFrame(np.random.randn(8, 3),columns=['A', 'B', 'C'])\n",
    "df"
   ]
  },
  {
   "cell_type": "code",
   "execution_count": 65,
   "metadata": {},
   "outputs": [
    {
     "data": {
      "text/plain": [
       "numpy.ndarray"
      ]
     },
     "execution_count": 65,
     "metadata": {},
     "output_type": "execute_result"
    }
   ],
   "source": [
    "nparray = df.values\n",
    "type(nparray)"
   ]
  },
  {
   "cell_type": "markdown",
   "metadata": {},
   "source": [
    "## Missing Data and the fillna Function\n",
    "\n",
    "+ One of the most common data quality issues is that of missing data. \n",
    "+ Pandas provides us with a convenient function that allows us to handle the missing values of a dataframe."
   ]
  },
  {
   "cell_type": "code",
   "execution_count": 80,
   "metadata": {},
   "outputs": [
    {
     "data": {
      "text/html": [
       "<div>\n",
       "<style scoped>\n",
       "    .dataframe tbody tr th:only-of-type {\n",
       "        vertical-align: middle;\n",
       "    }\n",
       "\n",
       "    .dataframe tbody tr th {\n",
       "        vertical-align: top;\n",
       "    }\n",
       "\n",
       "    .dataframe thead th {\n",
       "        text-align: right;\n",
       "    }\n",
       "</style>\n",
       "<table border=\"1\" class=\"dataframe\">\n",
       "  <thead>\n",
       "    <tr style=\"text-align: right;\">\n",
       "      <th></th>\n",
       "      <th>A</th>\n",
       "      <th>B</th>\n",
       "      <th>C</th>\n",
       "    </tr>\n",
       "  </thead>\n",
       "  <tbody>\n",
       "    <tr>\n",
       "      <td>0</td>\n",
       "      <td>0.603969</td>\n",
       "      <td>-0.440988</td>\n",
       "      <td>0.736716</td>\n",
       "    </tr>\n",
       "    <tr>\n",
       "      <td>1</td>\n",
       "      <td>1.374016</td>\n",
       "      <td>0.657515</td>\n",
       "      <td>1.034392</td>\n",
       "    </tr>\n",
       "    <tr>\n",
       "      <td>2</td>\n",
       "      <td>0.437587</td>\n",
       "      <td>-0.452020</td>\n",
       "      <td>0.114116</td>\n",
       "    </tr>\n",
       "    <tr>\n",
       "      <td>3</td>\n",
       "      <td>-1.388008</td>\n",
       "      <td>1.167475</td>\n",
       "      <td>-0.648296</td>\n",
       "    </tr>\n",
       "    <tr>\n",
       "      <td>4</td>\n",
       "      <td>-0.517887</td>\n",
       "      <td>-1.087331</td>\n",
       "      <td>0.000000</td>\n",
       "    </tr>\n",
       "    <tr>\n",
       "      <td>5</td>\n",
       "      <td>-1.111624</td>\n",
       "      <td>-1.850551</td>\n",
       "      <td>-0.171002</td>\n",
       "    </tr>\n",
       "    <tr>\n",
       "      <td>6</td>\n",
       "      <td>-1.846387</td>\n",
       "      <td>-1.934790</td>\n",
       "      <td>0.374596</td>\n",
       "    </tr>\n",
       "    <tr>\n",
       "      <td>7</td>\n",
       "      <td>-0.313786</td>\n",
       "      <td>-0.293114</td>\n",
       "      <td>-0.460515</td>\n",
       "    </tr>\n",
       "  </tbody>\n",
       "</table>\n",
       "</div>"
      ],
      "text/plain": [
       "          A         B         C\n",
       "0  0.603969 -0.440988  0.736716\n",
       "1  1.374016  0.657515  1.034392\n",
       "2  0.437587 -0.452020  0.114116\n",
       "3 -1.388008  1.167475 -0.648296\n",
       "4 -0.517887 -1.087331  0.000000\n",
       "5 -1.111624 -1.850551 -0.171002\n",
       "6 -1.846387 -1.934790  0.374596\n",
       "7 -0.313786 -0.293114 -0.460515"
      ]
     },
     "execution_count": 80,
     "metadata": {},
     "output_type": "execute_result"
    }
   ],
   "source": [
    "df.iloc[4,2] = 0\n",
    "df\n",
    "df.fillna (0)"
   ]
  },
  {
   "cell_type": "markdown",
   "metadata": {},
   "source": [
    "# Descriptive Statistics Function\n",
    "\n",
    "+ Descriptive statistics of a dataframe give data scientists a comprehensive look into important information about any attributes and features in the dataset."
   ]
  },
  {
   "cell_type": "code",
   "execution_count": 82,
   "metadata": {},
   "outputs": [
    {
     "data": {
      "text/plain": [
       "lat               28.081249\n",
       "lng              -19.078344\n",
       "population    217727.869288\n",
       "dtype: float64"
      ]
     },
     "execution_count": 82,
     "metadata": {},
     "output_type": "execute_result"
    }
   ],
   "source": [
    "columns_numeric = ['lat','lng','population']\n",
    "city_data[columns_numeric].mean()"
   ]
  },
  {
   "cell_type": "code",
   "execution_count": 83,
   "metadata": {},
   "outputs": [
    {
     "data": {
      "text/plain": [
       "lat           3.639049e+05\n",
       "lng          -2.472363e+05\n",
       "population    2.458583e+09\n",
       "dtype: float64"
      ]
     },
     "execution_count": 83,
     "metadata": {},
     "output_type": "execute_result"
    }
   ],
   "source": [
    "city_data[columns_numeric].sum()"
   ]
  },
  {
   "cell_type": "code",
   "execution_count": 84,
   "metadata": {},
   "outputs": [
    {
     "data": {
      "text/plain": [
       "lat           12959\n",
       "lng           12959\n",
       "population    11292\n",
       "dtype: int64"
      ]
     },
     "execution_count": 84,
     "metadata": {},
     "output_type": "execute_result"
    }
   ],
   "source": [
    "city_data[columns_numeric].count()"
   ]
  },
  {
   "cell_type": "code",
   "execution_count": 85,
   "metadata": {},
   "outputs": [
    {
     "data": {
      "text/plain": [
       "lat              36.261\n",
       "lng             -46.150\n",
       "population    32719.000\n",
       "dtype: float64"
      ]
     },
     "execution_count": 85,
     "metadata": {},
     "output_type": "execute_result"
    }
   ],
   "source": [
    "city_data[columns_numeric].median()"
   ]
  },
  {
   "cell_type": "code",
   "execution_count": 86,
   "metadata": {},
   "outputs": [
    {
     "data": {
      "text/plain": [
       "lat               44.83664\n",
       "lng               45.56272\n",
       "population    174976.80000\n",
       "Name: 0.8, dtype: float64"
      ]
     },
     "execution_count": 86,
     "metadata": {},
     "output_type": "execute_result"
    }
   ],
   "source": [
    "city_data[columns_numeric].quantile(0.8)"
   ]
  },
  {
   "cell_type": "code",
   "execution_count": 87,
   "metadata": {},
   "outputs": [
    {
     "data": {
      "text/plain": [
       "0          63.2280\n",
       "1          62.9536\n",
       "2          63.6041\n",
       "3          64.1584\n",
       "4          63.6797\n",
       "           ...    \n",
       "12954    6802.9136\n",
       "12955    5361.6169\n",
       "12956    9210.0129\n",
       "12957    6929.8978\n",
       "12958    5142.8076\n",
       "Length: 12959, dtype: float64"
      ]
     },
     "execution_count": 87,
     "metadata": {},
     "output_type": "execute_result"
    }
   ],
   "source": [
    "city_data[columns_numeric].sum(axis = 1)"
   ]
  },
  {
   "cell_type": "code",
   "execution_count": 88,
   "metadata": {},
   "outputs": [
    {
     "data": {
      "text/html": [
       "<div>\n",
       "<style scoped>\n",
       "    .dataframe tbody tr th:only-of-type {\n",
       "        vertical-align: middle;\n",
       "    }\n",
       "\n",
       "    .dataframe tbody tr th {\n",
       "        vertical-align: top;\n",
       "    }\n",
       "\n",
       "    .dataframe thead th {\n",
       "        text-align: right;\n",
       "    }\n",
       "</style>\n",
       "<table border=\"1\" class=\"dataframe\">\n",
       "  <thead>\n",
       "    <tr style=\"text-align: right;\">\n",
       "      <th></th>\n",
       "      <th>lat</th>\n",
       "      <th>lng</th>\n",
       "      <th>population</th>\n",
       "    </tr>\n",
       "  </thead>\n",
       "  <tbody>\n",
       "    <tr>\n",
       "      <td>count</td>\n",
       "      <td>12959.000000</td>\n",
       "      <td>12959.000000</td>\n",
       "      <td>1.129200e+04</td>\n",
       "    </tr>\n",
       "    <tr>\n",
       "      <td>mean</td>\n",
       "      <td>28.081249</td>\n",
       "      <td>-19.078344</td>\n",
       "      <td>2.177279e+05</td>\n",
       "    </tr>\n",
       "    <tr>\n",
       "      <td>std</td>\n",
       "      <td>24.000243</td>\n",
       "      <td>78.412783</td>\n",
       "      <td>8.746658e+05</td>\n",
       "    </tr>\n",
       "    <tr>\n",
       "      <td>min</td>\n",
       "      <td>-54.933300</td>\n",
       "      <td>-179.590000</td>\n",
       "      <td>0.000000e+00</td>\n",
       "    </tr>\n",
       "    <tr>\n",
       "      <td>25%</td>\n",
       "      <td>15.281850</td>\n",
       "      <td>-86.198250</td>\n",
       "      <td>1.058075e+04</td>\n",
       "    </tr>\n",
       "    <tr>\n",
       "      <td>50%</td>\n",
       "      <td>36.261000</td>\n",
       "      <td>-46.150000</td>\n",
       "      <td>3.271900e+04</td>\n",
       "    </tr>\n",
       "    <tr>\n",
       "      <td>75%</td>\n",
       "      <td>42.830950</td>\n",
       "      <td>33.474850</td>\n",
       "      <td>1.250302e+05</td>\n",
       "    </tr>\n",
       "    <tr>\n",
       "      <td>max</td>\n",
       "      <td>82.483300</td>\n",
       "      <td>179.383300</td>\n",
       "      <td>3.567600e+07</td>\n",
       "    </tr>\n",
       "  </tbody>\n",
       "</table>\n",
       "</div>"
      ],
      "text/plain": [
       "                lat           lng    population\n",
       "count  12959.000000  12959.000000  1.129200e+04\n",
       "mean      28.081249    -19.078344  2.177279e+05\n",
       "std       24.000243     78.412783  8.746658e+05\n",
       "min      -54.933300   -179.590000  0.000000e+00\n",
       "25%       15.281850    -86.198250  1.058075e+04\n",
       "50%       36.261000    -46.150000  3.271900e+04\n",
       "75%       42.830950     33.474850  1.250302e+05\n",
       "max       82.483300    179.383300  3.567600e+07"
      ]
     },
     "execution_count": 88,
     "metadata": {},
     "output_type": "execute_result"
    }
   ],
   "source": [
    "city_data[columns_numeric].describe()"
   ]
  },
  {
   "cell_type": "markdown",
   "metadata": {},
   "source": [
    "# Concatenating Dataframes\n",
    "+ Most Data Science projects will have data from more than one data source.\n",
    "+ Pandas provides a rich set of functions that allow us to merge different data sources.\n",
    "\n",
    "## Concatenating Using the concat Method\n",
    "+ The first method to concatenate different dataframes in pandas is by using the concat method.\n",
    "+ The majority of the concatenation operations on dataframes will be possible by tweaking the parameters of the concat method.\n",
    "+ The simplest scenario of concatenating is when we have more than one fragment of the same dataframe."
   ]
  },
  {
   "cell_type": "code",
   "execution_count": 89,
   "metadata": {},
   "outputs": [
    {
     "data": {
      "text/html": [
       "<div>\n",
       "<style scoped>\n",
       "    .dataframe tbody tr th:only-of-type {\n",
       "        vertical-align: middle;\n",
       "    }\n",
       "\n",
       "    .dataframe tbody tr th {\n",
       "        vertical-align: top;\n",
       "    }\n",
       "\n",
       "    .dataframe thead th {\n",
       "        text-align: right;\n",
       "    }\n",
       "</style>\n",
       "<table border=\"1\" class=\"dataframe\">\n",
       "  <thead>\n",
       "    <tr style=\"text-align: right;\">\n",
       "      <th></th>\n",
       "      <th>city</th>\n",
       "      <th>city_ascii</th>\n",
       "      <th>lat</th>\n",
       "      <th>lng</th>\n",
       "      <th>country</th>\n",
       "      <th>iso2</th>\n",
       "      <th>iso3</th>\n",
       "      <th>admin_name</th>\n",
       "      <th>capital</th>\n",
       "      <th>population</th>\n",
       "      <th>id</th>\n",
       "    </tr>\n",
       "  </thead>\n",
       "  <tbody>\n",
       "    <tr>\n",
       "      <td>7882</td>\n",
       "      <td>Kōchi</td>\n",
       "      <td>Kochi</td>\n",
       "      <td>33.5624</td>\n",
       "      <td>133.5375</td>\n",
       "      <td>Japan</td>\n",
       "      <td>JP</td>\n",
       "      <td>JPN</td>\n",
       "      <td>Kōchi</td>\n",
       "      <td>admin</td>\n",
       "      <td>335570.0</td>\n",
       "      <td>1392086071</td>\n",
       "    </tr>\n",
       "    <tr>\n",
       "      <td>4889</td>\n",
       "      <td>Óbidos</td>\n",
       "      <td>Obidos</td>\n",
       "      <td>-1.9100</td>\n",
       "      <td>-55.5200</td>\n",
       "      <td>Brazil</td>\n",
       "      <td>BR</td>\n",
       "      <td>BRA</td>\n",
       "      <td>Pará</td>\n",
       "      <td>NaN</td>\n",
       "      <td>27587.0</td>\n",
       "      <td>1076197849</td>\n",
       "    </tr>\n",
       "    <tr>\n",
       "      <td>9840</td>\n",
       "      <td>Ithaca</td>\n",
       "      <td>Ithaca</td>\n",
       "      <td>42.4442</td>\n",
       "      <td>-76.5032</td>\n",
       "      <td>United States</td>\n",
       "      <td>US</td>\n",
       "      <td>USA</td>\n",
       "      <td>New York</td>\n",
       "      <td>NaN</td>\n",
       "      <td>55439.0</td>\n",
       "      <td>1840000442</td>\n",
       "    </tr>\n",
       "    <tr>\n",
       "      <td>5032</td>\n",
       "      <td>Ponte Nova</td>\n",
       "      <td>Ponte Nova</td>\n",
       "      <td>-20.4096</td>\n",
       "      <td>-42.9000</td>\n",
       "      <td>Brazil</td>\n",
       "      <td>BR</td>\n",
       "      <td>BRA</td>\n",
       "      <td>Minas Gerais</td>\n",
       "      <td>NaN</td>\n",
       "      <td>48187.0</td>\n",
       "      <td>1076567178</td>\n",
       "    </tr>\n",
       "    <tr>\n",
       "      <td>10237</td>\n",
       "      <td>San Marino</td>\n",
       "      <td>San Marino</td>\n",
       "      <td>34.1224</td>\n",
       "      <td>-118.1132</td>\n",
       "      <td>United States</td>\n",
       "      <td>US</td>\n",
       "      <td>USA</td>\n",
       "      <td>California</td>\n",
       "      <td>NaN</td>\n",
       "      <td>13327.0</td>\n",
       "      <td>1840021863</td>\n",
       "    </tr>\n",
       "    <tr>\n",
       "      <td>9972</td>\n",
       "      <td>Carbondale</td>\n",
       "      <td>Carbondale</td>\n",
       "      <td>41.5714</td>\n",
       "      <td>-75.5048</td>\n",
       "      <td>United States</td>\n",
       "      <td>US</td>\n",
       "      <td>USA</td>\n",
       "      <td>Pennsylvania</td>\n",
       "      <td>NaN</td>\n",
       "      <td>8447.0</td>\n",
       "      <td>1840003376</td>\n",
       "    </tr>\n",
       "  </tbody>\n",
       "</table>\n",
       "</div>"
      ],
      "text/plain": [
       "             city  city_ascii      lat       lng        country iso2 iso3  \\\n",
       "7882        Kōchi       Kochi  33.5624  133.5375          Japan   JP  JPN   \n",
       "4889       Óbidos      Obidos  -1.9100  -55.5200         Brazil   BR  BRA   \n",
       "9840       Ithaca      Ithaca  42.4442  -76.5032  United States   US  USA   \n",
       "5032   Ponte Nova  Ponte Nova -20.4096  -42.9000         Brazil   BR  BRA   \n",
       "10237  San Marino  San Marino  34.1224 -118.1132  United States   US  USA   \n",
       "9972   Carbondale  Carbondale  41.5714  -75.5048  United States   US  USA   \n",
       "\n",
       "         admin_name capital  population          id  \n",
       "7882          Kōchi   admin    335570.0  1392086071  \n",
       "4889           Pará     NaN     27587.0  1076197849  \n",
       "9840       New York     NaN     55439.0  1840000442  \n",
       "5032   Minas Gerais     NaN     48187.0  1076567178  \n",
       "10237    California     NaN     13327.0  1840021863  \n",
       "9972   Pennsylvania     NaN      8447.0  1840003376  "
      ]
     },
     "execution_count": 89,
     "metadata": {},
     "output_type": "execute_result"
    }
   ],
   "source": [
    "city_data1 = city_data.sample(3)\n",
    "city_data2 = city_data.sample(3)\n",
    "city_data_combine = pd.concat([city_data1,city_data2])\n",
    "city_data_combine"
   ]
  },
  {
   "cell_type": "markdown",
   "metadata": {},
   "source": [
    "+ Another common scenario of concatenating is when we have information about the columns of same dataframe split across different dataframes."
   ]
  },
  {
   "cell_type": "code",
   "execution_count": 90,
   "metadata": {},
   "outputs": [
    {
     "data": {
      "text/html": [
       "<div>\n",
       "<style scoped>\n",
       "    .dataframe tbody tr th:only-of-type {\n",
       "        vertical-align: middle;\n",
       "    }\n",
       "\n",
       "    .dataframe tbody tr th {\n",
       "        vertical-align: top;\n",
       "    }\n",
       "\n",
       "    .dataframe thead th {\n",
       "        text-align: right;\n",
       "    }\n",
       "</style>\n",
       "<table border=\"1\" class=\"dataframe\">\n",
       "  <thead>\n",
       "    <tr style=\"text-align: right;\">\n",
       "      <th></th>\n",
       "      <th>col1</th>\n",
       "      <th>col2</th>\n",
       "      <th>col3</th>\n",
       "      <th>col4</th>\n",
       "    </tr>\n",
       "  </thead>\n",
       "  <tbody>\n",
       "    <tr>\n",
       "      <td>0</td>\n",
       "      <td>col10</td>\n",
       "      <td>col20</td>\n",
       "      <td>col30</td>\n",
       "      <td>col40</td>\n",
       "    </tr>\n",
       "    <tr>\n",
       "      <td>1</td>\n",
       "      <td>col11</td>\n",
       "      <td>col21</td>\n",
       "      <td>col31</td>\n",
       "      <td>col41</td>\n",
       "    </tr>\n",
       "    <tr>\n",
       "      <td>2</td>\n",
       "      <td>col12</td>\n",
       "      <td>col22</td>\n",
       "      <td>col32</td>\n",
       "      <td>col42</td>\n",
       "    </tr>\n",
       "    <tr>\n",
       "      <td>3</td>\n",
       "      <td>col13</td>\n",
       "      <td>col23</td>\n",
       "      <td>col33</td>\n",
       "      <td>col43</td>\n",
       "    </tr>\n",
       "  </tbody>\n",
       "</table>\n",
       "</div>"
      ],
      "text/plain": [
       "    col1   col2   col3   col4\n",
       "0  col10  col20  col30  col40\n",
       "1  col11  col21  col31  col41\n",
       "2  col12  col22  col32  col42\n",
       "3  col13  col23  col33  col43"
      ]
     },
     "execution_count": 90,
     "metadata": {},
     "output_type": "execute_result"
    }
   ],
   "source": [
    "df1 = pd.DataFrame({'col1': ['col10', 'col11', 'col12', 'col13'],\n",
    "                     'col2': ['col20', 'col21', 'col22', 'col23'],\n",
    "                     'col3': ['col30', 'col31', 'col32', 'col33'],\n",
    "                     'col4': ['col40', 'col41', 'col42', 'col43']},\n",
    "                     index=[0, 1, 2, 3])\n",
    "df1"
   ]
  },
  {
   "cell_type": "code",
   "execution_count": 92,
   "metadata": {},
   "outputs": [
    {
     "data": {
      "text/html": [
       "<div>\n",
       "<style scoped>\n",
       "    .dataframe tbody tr th:only-of-type {\n",
       "        vertical-align: middle;\n",
       "    }\n",
       "\n",
       "    .dataframe tbody tr th {\n",
       "        vertical-align: top;\n",
       "    }\n",
       "\n",
       "    .dataframe thead th {\n",
       "        text-align: right;\n",
       "    }\n",
       "</style>\n",
       "<table border=\"1\" class=\"dataframe\">\n",
       "  <thead>\n",
       "    <tr style=\"text-align: right;\">\n",
       "      <th></th>\n",
       "      <th>col2</th>\n",
       "      <th>Col4</th>\n",
       "      <th>col6</th>\n",
       "    </tr>\n",
       "  </thead>\n",
       "  <tbody>\n",
       "    <tr>\n",
       "      <td>2</td>\n",
       "      <td>col22</td>\n",
       "      <td>Col42</td>\n",
       "      <td>col62</td>\n",
       "    </tr>\n",
       "    <tr>\n",
       "      <td>3</td>\n",
       "      <td>col23</td>\n",
       "      <td>Col43</td>\n",
       "      <td>col63</td>\n",
       "    </tr>\n",
       "    <tr>\n",
       "      <td>6</td>\n",
       "      <td>col26</td>\n",
       "      <td>Col46</td>\n",
       "      <td>col66</td>\n",
       "    </tr>\n",
       "    <tr>\n",
       "      <td>7</td>\n",
       "      <td>col27</td>\n",
       "      <td>Col47</td>\n",
       "      <td>col67</td>\n",
       "    </tr>\n",
       "  </tbody>\n",
       "</table>\n",
       "</div>"
      ],
      "text/plain": [
       "    col2   Col4   col6\n",
       "2  col22  Col42  col62\n",
       "3  col23  Col43  col63\n",
       "6  col26  Col46  col66\n",
       "7  col27  Col47  col67"
      ]
     },
     "execution_count": 92,
     "metadata": {},
     "output_type": "execute_result"
    }
   ],
   "source": [
    "df4 = pd.DataFrame({'col2': ['col22', 'col23', 'col26', 'col27'],\n",
    "                    'Col4': ['Col42', 'Col43', 'Col46', 'Col47'],\n",
    "                    'col6': ['col62', 'col63', 'col66', 'col67']},\n",
    "                    index=[2, 3, 6, 7])\n",
    "df4"
   ]
  },
  {
   "cell_type": "code",
   "execution_count": 93,
   "metadata": {},
   "outputs": [
    {
     "data": {
      "text/html": [
       "<div>\n",
       "<style scoped>\n",
       "    .dataframe tbody tr th:only-of-type {\n",
       "        vertical-align: middle;\n",
       "    }\n",
       "\n",
       "    .dataframe tbody tr th {\n",
       "        vertical-align: top;\n",
       "    }\n",
       "\n",
       "    .dataframe thead th {\n",
       "        text-align: right;\n",
       "    }\n",
       "</style>\n",
       "<table border=\"1\" class=\"dataframe\">\n",
       "  <thead>\n",
       "    <tr style=\"text-align: right;\">\n",
       "      <th></th>\n",
       "      <th>col1</th>\n",
       "      <th>col2</th>\n",
       "      <th>col3</th>\n",
       "      <th>col4</th>\n",
       "      <th>col2</th>\n",
       "      <th>Col4</th>\n",
       "      <th>col6</th>\n",
       "    </tr>\n",
       "  </thead>\n",
       "  <tbody>\n",
       "    <tr>\n",
       "      <td>0</td>\n",
       "      <td>col10</td>\n",
       "      <td>col20</td>\n",
       "      <td>col30</td>\n",
       "      <td>col40</td>\n",
       "      <td>NaN</td>\n",
       "      <td>NaN</td>\n",
       "      <td>NaN</td>\n",
       "    </tr>\n",
       "    <tr>\n",
       "      <td>1</td>\n",
       "      <td>col11</td>\n",
       "      <td>col21</td>\n",
       "      <td>col31</td>\n",
       "      <td>col41</td>\n",
       "      <td>NaN</td>\n",
       "      <td>NaN</td>\n",
       "      <td>NaN</td>\n",
       "    </tr>\n",
       "    <tr>\n",
       "      <td>2</td>\n",
       "      <td>col12</td>\n",
       "      <td>col22</td>\n",
       "      <td>col32</td>\n",
       "      <td>col42</td>\n",
       "      <td>col22</td>\n",
       "      <td>Col42</td>\n",
       "      <td>col62</td>\n",
       "    </tr>\n",
       "    <tr>\n",
       "      <td>3</td>\n",
       "      <td>col13</td>\n",
       "      <td>col23</td>\n",
       "      <td>col33</td>\n",
       "      <td>col43</td>\n",
       "      <td>col23</td>\n",
       "      <td>Col43</td>\n",
       "      <td>col63</td>\n",
       "    </tr>\n",
       "    <tr>\n",
       "      <td>6</td>\n",
       "      <td>NaN</td>\n",
       "      <td>NaN</td>\n",
       "      <td>NaN</td>\n",
       "      <td>NaN</td>\n",
       "      <td>col26</td>\n",
       "      <td>Col46</td>\n",
       "      <td>col66</td>\n",
       "    </tr>\n",
       "    <tr>\n",
       "      <td>7</td>\n",
       "      <td>NaN</td>\n",
       "      <td>NaN</td>\n",
       "      <td>NaN</td>\n",
       "      <td>NaN</td>\n",
       "      <td>col27</td>\n",
       "      <td>Col47</td>\n",
       "      <td>col67</td>\n",
       "    </tr>\n",
       "  </tbody>\n",
       "</table>\n",
       "</div>"
      ],
      "text/plain": [
       "    col1   col2   col3   col4   col2   Col4   col6\n",
       "0  col10  col20  col30  col40    NaN    NaN    NaN\n",
       "1  col11  col21  col31  col41    NaN    NaN    NaN\n",
       "2  col12  col22  col32  col42  col22  Col42  col62\n",
       "3  col13  col23  col33  col43  col23  Col43  col63\n",
       "6    NaN    NaN    NaN    NaN  col26  Col46  col66\n",
       "7    NaN    NaN    NaN    NaN  col27  Col47  col67"
      ]
     },
     "execution_count": 93,
     "metadata": {},
     "output_type": "execute_result"
    }
   ],
   "source": [
    "pd.concat([df1,df4], axis=1)"
   ]
  },
  {
   "cell_type": "markdown",
   "metadata": {},
   "source": [
    "## Database Style Concatenations Using the merge Command\n",
    "\n",
    "+ The most familiar way to concatenate data (for those acquainted with relational databases) is using the join operation provided by the databases.\n",
    "+ Pandas provides a database friendly set of join operations for dataframes.\n",
    "+ Joining by columns: This is the most natural way of joining two dataframes. In this method, we have two dataframes sharing a common column and we can join the two dataframes using that column."
   ]
  },
  {
   "cell_type": "code",
   "execution_count": 94,
   "metadata": {},
   "outputs": [
    {
     "data": {
      "text/plain": [
       "(235, 2)"
      ]
     },
     "execution_count": 94,
     "metadata": {},
     "output_type": "execute_result"
    }
   ],
   "source": [
    "country_data = city_data[['iso3','country']].drop_duplicates()\n",
    "country_data.shape"
   ]
  },
  {
   "cell_type": "code",
   "execution_count": 95,
   "metadata": {},
   "outputs": [
    {
     "data": {
      "text/html": [
       "<div>\n",
       "<style scoped>\n",
       "    .dataframe tbody tr th:only-of-type {\n",
       "        vertical-align: middle;\n",
       "    }\n",
       "\n",
       "    .dataframe tbody tr th {\n",
       "        vertical-align: top;\n",
       "    }\n",
       "\n",
       "    .dataframe thead th {\n",
       "        text-align: right;\n",
       "    }\n",
       "</style>\n",
       "<table border=\"1\" class=\"dataframe\">\n",
       "  <thead>\n",
       "    <tr style=\"text-align: right;\">\n",
       "      <th></th>\n",
       "      <th>iso3</th>\n",
       "      <th>country</th>\n",
       "    </tr>\n",
       "  </thead>\n",
       "  <tbody>\n",
       "    <tr>\n",
       "      <td>0</td>\n",
       "      <td>XKS</td>\n",
       "      <td>Kosovo</td>\n",
       "    </tr>\n",
       "    <tr>\n",
       "      <td>37</td>\n",
       "      <td>XSV</td>\n",
       "      <td>Svalbard</td>\n",
       "    </tr>\n",
       "    <tr>\n",
       "      <td>38</td>\n",
       "      <td>XWB</td>\n",
       "      <td>West Bank</td>\n",
       "    </tr>\n",
       "    <tr>\n",
       "      <td>39</td>\n",
       "      <td>YEM</td>\n",
       "      <td>Yemen</td>\n",
       "    </tr>\n",
       "    <tr>\n",
       "      <td>65</td>\n",
       "      <td>MYT</td>\n",
       "      <td>Mayotte</td>\n",
       "    </tr>\n",
       "  </tbody>\n",
       "</table>\n",
       "</div>"
      ],
      "text/plain": [
       "   iso3    country\n",
       "0   XKS     Kosovo\n",
       "37  XSV   Svalbard\n",
       "38  XWB  West Bank\n",
       "39  YEM      Yemen\n",
       "65  MYT    Mayotte"
      ]
     },
     "execution_count": 95,
     "metadata": {},
     "output_type": "execute_result"
    }
   ],
   "source": [
    "country_data.head()"
   ]
  },
  {
   "cell_type": "code",
   "execution_count": 96,
   "metadata": {},
   "outputs": [
    {
     "data": {
      "text/html": [
       "<div>\n",
       "<style scoped>\n",
       "    .dataframe tbody tr th:only-of-type {\n",
       "        vertical-align: middle;\n",
       "    }\n",
       "\n",
       "    .dataframe tbody tr th {\n",
       "        vertical-align: top;\n",
       "    }\n",
       "\n",
       "    .dataframe thead th {\n",
       "        text-align: right;\n",
       "    }\n",
       "</style>\n",
       "<table border=\"1\" class=\"dataframe\">\n",
       "  <thead>\n",
       "    <tr style=\"text-align: right;\">\n",
       "      <th></th>\n",
       "      <th>city</th>\n",
       "      <th>city_ascii</th>\n",
       "      <th>lat</th>\n",
       "      <th>lng</th>\n",
       "      <th>iso2</th>\n",
       "      <th>iso3</th>\n",
       "      <th>admin_name</th>\n",
       "      <th>capital</th>\n",
       "      <th>population</th>\n",
       "      <th>id</th>\n",
       "      <th>country</th>\n",
       "    </tr>\n",
       "  </thead>\n",
       "  <tbody>\n",
       "    <tr>\n",
       "      <td>0</td>\n",
       "      <td>Malishevë</td>\n",
       "      <td>Malisheve</td>\n",
       "      <td>42.4822</td>\n",
       "      <td>20.7458</td>\n",
       "      <td>XK</td>\n",
       "      <td>XKS</td>\n",
       "      <td>Malishevë</td>\n",
       "      <td>admin</td>\n",
       "      <td>NaN</td>\n",
       "      <td>1901597212</td>\n",
       "      <td>Kosovo</td>\n",
       "    </tr>\n",
       "    <tr>\n",
       "      <td>1</td>\n",
       "      <td>Prizren</td>\n",
       "      <td>Prizren</td>\n",
       "      <td>42.2139</td>\n",
       "      <td>20.7397</td>\n",
       "      <td>XK</td>\n",
       "      <td>XKS</td>\n",
       "      <td>Prizren</td>\n",
       "      <td>admin</td>\n",
       "      <td>NaN</td>\n",
       "      <td>1901360309</td>\n",
       "      <td>Kosovo</td>\n",
       "    </tr>\n",
       "    <tr>\n",
       "      <td>2</td>\n",
       "      <td>Zubin Potok</td>\n",
       "      <td>Zubin Potok</td>\n",
       "      <td>42.9144</td>\n",
       "      <td>20.6897</td>\n",
       "      <td>XK</td>\n",
       "      <td>XKS</td>\n",
       "      <td>Zubin Potok</td>\n",
       "      <td>admin</td>\n",
       "      <td>NaN</td>\n",
       "      <td>1901608808</td>\n",
       "      <td>Kosovo</td>\n",
       "    </tr>\n",
       "    <tr>\n",
       "      <td>3</td>\n",
       "      <td>Kamenicë</td>\n",
       "      <td>Kamenice</td>\n",
       "      <td>42.5781</td>\n",
       "      <td>21.5803</td>\n",
       "      <td>XK</td>\n",
       "      <td>XKS</td>\n",
       "      <td>Kamenicë</td>\n",
       "      <td>admin</td>\n",
       "      <td>NaN</td>\n",
       "      <td>1901851592</td>\n",
       "      <td>Kosovo</td>\n",
       "    </tr>\n",
       "    <tr>\n",
       "      <td>4</td>\n",
       "      <td>Viti</td>\n",
       "      <td>Viti</td>\n",
       "      <td>42.3214</td>\n",
       "      <td>21.3583</td>\n",
       "      <td>XK</td>\n",
       "      <td>XKS</td>\n",
       "      <td>Viti</td>\n",
       "      <td>admin</td>\n",
       "      <td>NaN</td>\n",
       "      <td>1901328795</td>\n",
       "      <td>Kosovo</td>\n",
       "    </tr>\n",
       "  </tbody>\n",
       "</table>\n",
       "</div>"
      ],
      "text/plain": [
       "          city   city_ascii      lat      lng iso2 iso3   admin_name capital  \\\n",
       "0    Malishevë    Malisheve  42.4822  20.7458   XK  XKS    Malishevë   admin   \n",
       "1      Prizren      Prizren  42.2139  20.7397   XK  XKS      Prizren   admin   \n",
       "2  Zubin Potok  Zubin Potok  42.9144  20.6897   XK  XKS  Zubin Potok   admin   \n",
       "3     Kamenicë     Kamenice  42.5781  21.5803   XK  XKS     Kamenicë   admin   \n",
       "4         Viti         Viti  42.3214  21.3583   XK  XKS         Viti   admin   \n",
       "\n",
       "   population          id country  \n",
       "0         NaN  1901597212  Kosovo  \n",
       "1         NaN  1901360309  Kosovo  \n",
       "2         NaN  1901608808  Kosovo  \n",
       "3         NaN  1901851592  Kosovo  \n",
       "4         NaN  1901328795  Kosovo  "
      ]
     },
     "execution_count": 96,
     "metadata": {},
     "output_type": "execute_result"
    }
   ],
   "source": [
    "del(city_data['country'])\n",
    "city_data.merge(country_data, 'inner').head()"
   ]
  },
  {
   "cell_type": "markdown",
   "metadata": {},
   "source": [
    "# Scikit-learn\n",
    "\n",
    "+ It implements a wide range of Machine Learning algorithms covering major areas of Machine Learning like classification, clustering, regression, and so on.\n",
    "+ All the mainstream Machine Learning algorithms like support vector machines, logistic regression, random forests, K-means clustering, hierarchical clustering, and many many more, are implemented efficiently in this library.\n",
    "\n",
    "## Scikit-learn Example: Regression Models\n",
    "### The Dataset\n",
    "\n",
    "+ The diabetes dataset is one of the bundled datasets with the scikit-learn library.\n",
    "+ It contains observations of 10 baseline variables, age, sex, body mass index, average blood pressure and six blood serum measurements for 442 diabetes patients.\n"
   ]
  },
  {
   "cell_type": "code",
   "execution_count": 98,
   "metadata": {},
   "outputs": [
    {
     "data": {
      "text/plain": [
       "(442, 10)"
      ]
     },
     "execution_count": 98,
     "metadata": {},
     "output_type": "execute_result"
    }
   ],
   "source": [
    "from sklearn import datasets\n",
    "diabetes = datasets.load_diabetes()\n",
    "y = diabetes.target\n",
    "X = diabetes.data\n",
    "X.shape"
   ]
  },
  {
   "cell_type": "code",
   "execution_count": 99,
   "metadata": {},
   "outputs": [
    {
     "data": {
      "text/plain": [
       "array([[ 0.03807591,  0.05068012,  0.06169621,  0.02187235, -0.0442235 ,\n",
       "        -0.03482076, -0.04340085, -0.00259226,  0.01990842, -0.01764613],\n",
       "       [-0.00188202, -0.04464164, -0.05147406, -0.02632783, -0.00844872,\n",
       "        -0.01916334,  0.07441156, -0.03949338, -0.06832974, -0.09220405],\n",
       "       [ 0.08529891,  0.05068012,  0.04445121, -0.00567061, -0.04559945,\n",
       "        -0.03419447, -0.03235593, -0.00259226,  0.00286377, -0.02593034],\n",
       "       [-0.08906294, -0.04464164, -0.01159501, -0.03665645,  0.01219057,\n",
       "         0.02499059, -0.03603757,  0.03430886,  0.02269202, -0.00936191],\n",
       "       [ 0.00538306, -0.04464164, -0.03638469,  0.02187235,  0.00393485,\n",
       "         0.01559614,  0.00814208, -0.00259226, -0.03199144, -0.04664087]])"
      ]
     },
     "execution_count": 99,
     "metadata": {},
     "output_type": "execute_result"
    }
   ],
   "source": [
    "X[:5]"
   ]
  },
  {
   "cell_type": "code",
   "execution_count": 100,
   "metadata": {},
   "outputs": [
    {
     "data": {
      "text/plain": [
       "array([151.,  75., 141., 206., 135.,  97., 138.,  63., 110., 310.])"
      ]
     },
     "execution_count": 100,
     "metadata": {},
     "output_type": "execute_result"
    }
   ],
   "source": [
    "y[:10]"
   ]
  },
  {
   "cell_type": "code",
   "execution_count": 101,
   "metadata": {},
   "outputs": [],
   "source": [
    "#Since we are using the data in the form of numpy arrays, we don’t get the name of the features in the data itself.\n",
    "feature_names=['age', 'sex', 'bmi', 'bp',\n",
    "               's1', 's2', 's3', 's4', 's5', 's6']"
   ]
  },
  {
   "cell_type": "markdown",
   "metadata": {},
   "source": [
    "+ Lasso model is an extension of the normal linear regression model which allows us to apply L1 regularization to the model."
   ]
  },
  {
   "cell_type": "code",
   "execution_count": 102,
   "metadata": {},
   "outputs": [],
   "source": [
    "from sklearn import datasets\n",
    "from sklearn.linear_model import Lasso\n",
    "import numpy as np\n",
    "from sklearn import linear_model, datasets\n",
    "from sklearn.model_selection import GridSearchCV"
   ]
  },
  {
   "cell_type": "markdown",
   "metadata": {},
   "source": [
    "+ We will split our data into separate test and train sets of data (train is used to train the model and test is used for model performance testing and evaluation)."
   ]
  },
  {
   "cell_type": "code",
   "execution_count": 104,
   "metadata": {},
   "outputs": [
    {
     "name": "stderr",
     "output_type": "stream",
     "text": [
      "C:\\Users\\INTEL\\Anaconda3\\lib\\site-packages\\sklearn\\model_selection\\_split.py:1978: FutureWarning: The default value of cv will change from 3 to 5 in version 0.22. Specify it explicitly to silence this warning.\n",
      "  warnings.warn(CV_WARNING, FutureWarning)\n",
      "C:\\Users\\INTEL\\Anaconda3\\lib\\site-packages\\sklearn\\model_selection\\_search.py:813: DeprecationWarning: The default of the `iid` parameter will change from True to False in version 0.22 and will be removed in 0.24. This will change numeric results when test-set sizes are unequal.\n",
      "  DeprecationWarning)\n"
     ]
    },
    {
     "data": {
      "text/plain": [
       "GridSearchCV(cv='warn', error_score='raise-deprecating',\n",
       "             estimator=Lasso(alpha=1.0, copy_X=True, fit_intercept=True,\n",
       "                             max_iter=1000, normalize=False, positive=False,\n",
       "                             precompute=False, random_state=0,\n",
       "                             selection='cyclic', tol=0.0001, warm_start=False),\n",
       "             iid='warn', n_jobs=None,\n",
       "             param_grid={'alpha': array([1.00000000e-04, 1.32035178e-04, 1.74332882e-04, 2.30180731e-04,\n",
       "       3.0...\n",
       "       2.80721620e-03, 3.70651291e-03, 4.89390092e-03, 6.46167079e-03,\n",
       "       8.53167852e-03, 1.12648169e-02, 1.48735211e-02, 1.96382800e-02,\n",
       "       2.59294380e-02, 3.42359796e-02, 4.52035366e-02, 5.96845700e-02,\n",
       "       7.88046282e-02, 1.04049831e-01, 1.37382380e-01, 1.81393069e-01,\n",
       "       2.39502662e-01, 3.16227766e-01])},\n",
       "             pre_dispatch='2*n_jobs', refit=True, return_train_score=False,\n",
       "             scoring=None, verbose=0)"
      ]
     },
     "execution_count": 104,
     "metadata": {},
     "output_type": "execute_result"
    }
   ],
   "source": [
    "diabetes = datasets.load_diabetes()\n",
    "X_train = diabetes.data[:310]\n",
    "y_train = diabetes.target[:310]\n",
    "X_test = diabetes.data[310:]\n",
    "y_test = diabetes.data[310:]\n",
    "lasso = Lasso(random_state=0)\n",
    "alphas = np.logspace(-4, -0.5, 30)\n",
    "estimator = GridSearchCV(lasso, dict(alpha=alphas))\n",
    "estimator.fit(X_train, y_train)"
   ]
  },
  {
   "cell_type": "markdown",
   "metadata": {},
   "source": [
    "+ The GridSearchCV object will also score the models that we are learning and we can us the best_estimator_ attribute to identify the model and the optimal value of the hyperparameter that gave us the best score."
   ]
  },
  {
   "cell_type": "code",
   "execution_count": 105,
   "metadata": {},
   "outputs": [
    {
     "data": {
      "text/plain": [
       "0.4654063759023531"
      ]
     },
     "execution_count": 105,
     "metadata": {},
     "output_type": "execute_result"
    }
   ],
   "source": [
    "estimator.best_score_"
   ]
  },
  {
   "cell_type": "code",
   "execution_count": 106,
   "metadata": {},
   "outputs": [
    {
     "data": {
      "text/plain": [
       "Lasso(alpha=0.02592943797404667, copy_X=True, fit_intercept=True, max_iter=1000,\n",
       "      normalize=False, positive=False, precompute=False, random_state=0,\n",
       "      selection='cyclic', tol=0.0001, warm_start=False)"
      ]
     },
     "execution_count": 106,
     "metadata": {},
     "output_type": "execute_result"
    }
   ],
   "source": [
    "estimator.best_estimator_"
   ]
  },
  {
   "cell_type": "code",
   "execution_count": 107,
   "metadata": {},
   "outputs": [
    {
     "data": {
      "text/plain": [
       "array([203.42104984, 177.6595529 , 122.62188598, 212.81136958,\n",
       "       173.61633075, 114.76145025, 202.36033584, 171.70767813,\n",
       "       164.28694562, 191.29091477, 191.41279009, 288.2772433 ,\n",
       "       296.47009002, 234.53378413, 210.61427168, 228.62812055,\n",
       "       156.74489991, 225.08834492, 191.75874632, 102.81600989,\n",
       "       172.373221  , 111.20843429, 290.22242876, 178.64605207,\n",
       "        78.13722832,  86.35832297, 256.41378529, 165.99622543,\n",
       "       121.29260976, 153.48718848, 163.09835143, 180.0932902 ,\n",
       "       161.4330553 , 155.80211635, 143.70181085, 126.13753819,\n",
       "       181.06471818, 105.03679977, 131.0479936 ,  90.50606427,\n",
       "       252.66486639,  84.84786067,  59.41005358, 184.51368208,\n",
       "       201.46598714, 129.96333913,  90.65641478, 200.10932516,\n",
       "        55.2884802 , 171.60459062, 195.40750666, 122.14139787,\n",
       "       231.72783897, 159.49750022, 160.32104862, 165.53701866,\n",
       "       260.73217736, 259.77213787, 204.69526082, 185.66480969,\n",
       "        61.09821961, 209.9214333 , 108.50410841, 141.18424239,\n",
       "       126.10337002, 174.32819351, 214.4947322 , 162.1789921 ,\n",
       "       160.57776438, 134.11449594, 171.63076427,  71.71500885,\n",
       "       263.46782314, 113.73653782, 112.76227977, 134.37721414,\n",
       "       110.67874472,  98.67153573, 157.2591359 ,  78.32019218,\n",
       "       265.97090212,  57.85502185, 100.38532691, 101.91670102,\n",
       "       277.13032245, 168.6443445 ,  64.75637937, 184.37359745,\n",
       "       174.74927914, 188.78215433, 181.56001383,  92.74463449,\n",
       "       145.41037529, 257.78620944, 196.57335354, 276.1920927 ,\n",
       "        50.66776115, 179.12879963, 200.29366671, 167.29501922,\n",
       "       158.93206689, 156.08070427, 233.38241229, 125.30241353,\n",
       "       167.05404644, 171.66748431, 223.17843095, 156.7055944 ,\n",
       "       103.29063169,  84.08205647, 139.87060658, 189.99648341,\n",
       "       200.20182211, 143.61906164, 170.00220231, 112.05886847,\n",
       "       160.76337573, 130.06232976, 261.83022688, 102.24589129,\n",
       "       115.12771477, 119.14505163, 225.96991263,  63.51874043,\n",
       "       134.88829709, 120.01764214,  55.32147904, 189.95346987,\n",
       "       105.8037979 , 120.46197038, 211.35568232,  56.78368048])"
      ]
     },
     "execution_count": 107,
     "metadata": {},
     "output_type": "execute_result"
    }
   ],
   "source": [
    "estimator.predict(X_test)"
   ]
  },
  {
   "cell_type": "markdown",
   "metadata": {},
   "source": [
    "# Neural Networks and Deep Learning\n",
    "## Theano\n",
    "+ The first library popularly used for learning neural networks is Theano.\n",
    "Theano\n",
    "allows us to symbolically define mathematical functions and automatically derive their gradient expression."
   ]
  },
  {
   "cell_type": "code",
   "execution_count": 1,
   "metadata": {},
   "outputs": [
    {
     "name": "stderr",
     "output_type": "stream",
     "text": [
      "WARNING (theano.configdefaults): g++ not available, if using conda: `conda install m2w64-toolchain`\n",
      "C:\\Users\\INTEL\\Anaconda3\\lib\\site-packages\\theano\\configdefaults.py:560: UserWarning: DeprecationWarning: there is no c++ compiler.This is deprecated and with Theano 0.11 a c++ compiler will be mandatory\n",
      "  warnings.warn(\"DeprecationWarning: there is no c++ compiler.\"\n",
      "WARNING (theano.configdefaults): g++ not detected ! Theano will be unable to execute optimized C-implementations (for both CPU and GPU) and will default to Python implementations. Performance will be severely degraded. To remove this warning, set Theano flags cxx to an empty string.\n",
      "WARNING (theano.tensor.blas): Using NumPy C-API based implementation for BLAS functions.\n"
     ]
    }
   ],
   "source": [
    "#pip install theano or conda install theano\n",
    "import theano"
   ]
  },
  {
   "cell_type": "code",
   "execution_count": 2,
   "metadata": {},
   "outputs": [
    {
     "data": {
      "text/plain": [
       "array(10.)"
      ]
     },
     "execution_count": 2,
     "metadata": {},
     "output_type": "execute_result"
    }
   ],
   "source": [
    "import numpy\n",
    "import theano.tensor as T\n",
    "from theano import function\n",
    "x = T.dscalar('x')\n",
    "y = T.dscalar('y')\n",
    "z = x + y\n",
    "f = function([x, y], z)\n",
    "f(8, 2)"
   ]
  },
  {
   "cell_type": "code",
   "execution_count": 3,
   "metadata": {},
   "outputs": [
    {
     "name": "stderr",
     "output_type": "stream",
     "text": [
      "Using TensorFlow backend.\n"
     ]
    }
   ],
   "source": [
    "#conda install keras or pip install keras\n",
    "import keras"
   ]
  },
  {
   "cell_type": "markdown",
   "metadata": {},
   "source": [
    "+ The epochs parameter indicates one complete forward and backward pass of all the training examples. \n",
    "+ The batch_size parameter indicates the total number of samples which are propagated through the NN model at a time for one backward and forward pass for training the model and updating the gradient."
   ]
  },
  {
   "cell_type": "code",
   "execution_count": 6,
   "metadata": {},
   "outputs": [
    {
     "name": "stderr",
     "output_type": "stream",
     "text": [
      "WARNING: Logging before flag parsing goes to stderr.\n",
      "W0831 00:09:45.059211  2508 deprecation_wrapper.py:119] From C:\\Users\\INTEL\\Anaconda3\\lib\\site-packages\\keras\\backend\\tensorflow_backend.py:74: The name tf.get_default_graph is deprecated. Please use tf.compat.v1.get_default_graph instead.\n",
      "\n",
      "W0831 00:09:45.129252  2508 deprecation_wrapper.py:119] From C:\\Users\\INTEL\\Anaconda3\\lib\\site-packages\\keras\\backend\\tensorflow_backend.py:517: The name tf.placeholder is deprecated. Please use tf.compat.v1.placeholder instead.\n",
      "\n",
      "W0831 00:09:45.140264  2508 deprecation_wrapper.py:119] From C:\\Users\\INTEL\\Anaconda3\\lib\\site-packages\\keras\\backend\\tensorflow_backend.py:4138: The name tf.random_uniform is deprecated. Please use tf.random.uniform instead.\n",
      "\n",
      "W0831 00:09:45.275348  2508 deprecation_wrapper.py:119] From C:\\Users\\INTEL\\Anaconda3\\lib\\site-packages\\keras\\optimizers.py:790: The name tf.train.Optimizer is deprecated. Please use tf.compat.v1.train.Optimizer instead.\n",
      "\n",
      "W0831 00:09:45.343399  2508 deprecation_wrapper.py:119] From C:\\Users\\INTEL\\Anaconda3\\lib\\site-packages\\keras\\backend\\tensorflow_backend.py:3376: The name tf.log is deprecated. Please use tf.math.log instead.\n",
      "\n",
      "W0831 00:09:45.359405  2508 deprecation.py:323] From C:\\Users\\INTEL\\Anaconda3\\lib\\site-packages\\tensorflow\\python\\ops\\nn_impl.py:180: add_dispatch_support.<locals>.wrapper (from tensorflow.python.ops.array_ops) is deprecated and will be removed in a future version.\n",
      "Instructions for updating:\n",
      "Use tf.where in 2.0, which has the same broadcast rule as np.where\n",
      "W0831 00:09:46.055747  2508 deprecation_wrapper.py:119] From C:\\Users\\INTEL\\Anaconda3\\lib\\site-packages\\keras\\backend\\tensorflow_backend.py:986: The name tf.assign_add is deprecated. Please use tf.compat.v1.assign_add instead.\n",
      "\n"
     ]
    },
    {
     "name": "stdout",
     "output_type": "stream",
     "text": [
      "Epoch 1/20\n",
      "340/340 [==============================] - 3s 10ms/step - loss: 3.7305 - acc: 0.6147\n",
      "Epoch 2/20\n",
      "340/340 [==============================] - 0s 91us/step - loss: 0.5849 - acc: 0.8559\n",
      "Epoch 3/20\n",
      "340/340 [==============================] - 0s 88us/step - loss: 1.0128 - acc: 0.7882\n",
      "Epoch 4/20\n",
      "340/340 [==============================] - 0s 88us/step - loss: 0.6081 - acc: 0.8441\n",
      "Epoch 5/20\n",
      "340/340 [==============================] - 0s 74us/step - loss: 0.6915 - acc: 0.8235\n",
      "Epoch 6/20\n",
      "340/340 [==============================] - 0s 147us/step - loss: 0.7320 - acc: 0.8176\n",
      "Epoch 7/20\n",
      "340/340 [==============================] - 0s 79us/step - loss: 0.5131 - acc: 0.8529\n",
      "Epoch 8/20\n",
      "340/340 [==============================] - 0s 79us/step - loss: 0.6729 - acc: 0.8529\n",
      "Epoch 9/20\n",
      "340/340 [==============================] - ETA: 0s - loss: 0.5366 - acc: 0.860 - 0s 77us/step - loss: 0.5419 - acc: 0.8471\n",
      "Epoch 10/20\n",
      "340/340 [==============================] - 0s 127us/step - loss: 0.7426 - acc: 0.8294\n",
      "Epoch 11/20\n",
      "340/340 [==============================] - 0s 147us/step - loss: 0.3814 - acc: 0.8941\n",
      "Epoch 12/20\n",
      "340/340 [==============================] - 0s 97us/step - loss: 0.6426 - acc: 0.8529\n",
      "Epoch 13/20\n",
      "340/340 [==============================] - 0s 97us/step - loss: 0.5776 - acc: 0.8412\n",
      "Epoch 14/20\n",
      "340/340 [==============================] - 0s 82us/step - loss: 0.3659 - acc: 0.8765\n",
      "Epoch 15/20\n",
      "340/340 [==============================] - 0s 79us/step - loss: 0.6469 - acc: 0.8382\n",
      "Epoch 16/20\n",
      "340/340 [==============================] - 0s 68us/step - loss: 0.3776 - acc: 0.8794\n",
      "Epoch 17/20\n",
      "340/340 [==============================] - 0s 79us/step - loss: 0.5797 - acc: 0.8382\n",
      "Epoch 18/20\n",
      "340/340 [==============================] - 0s 71us/step - loss: 0.2990 - acc: 0.9029\n",
      "Epoch 19/20\n",
      "340/340 [==============================] - 0s 74us/step - loss: 0.5683 - acc: 0.8441\n",
      "Epoch 20/20\n",
      "340/340 [==============================] - 0s 91us/step - loss: 0.3649 - acc: 0.8824\n"
     ]
    },
    {
     "data": {
      "text/plain": [
       "<keras.callbacks.History at 0x6a988badd8>"
      ]
     },
     "execution_count": 6,
     "metadata": {},
     "output_type": "execute_result"
    }
   ],
   "source": [
    "from sklearn.datasets import load_breast_cancer\n",
    "cancer = load_breast_cancer()\n",
    "X_train = cancer.data[:340]\n",
    "y_train = cancer.target[:340]\n",
    "X_test = cancer.data[340:]\n",
    "y_test = cancer.target[340:]\n",
    "import numpy as np\n",
    "from keras.models import Sequential\n",
    "from keras.layers import Dense, Dropout\n",
    "model = Sequential()\n",
    "model.add(Dense(15, input_dim=30, activation='relu'))\n",
    "model.add(Dense(1, activation='sigmoid'))\n",
    "model.compile(loss='binary_crossentropy', optimizer='rmsprop', metrics=['accuracy'])\n",
    "model.fit(X_train, y_train, epochs=20, batch_size=50)"
   ]
  },
  {
   "cell_type": "code",
   "execution_count": 13,
   "metadata": {},
   "outputs": [],
   "source": [
    "predictions = model.predict_classes(X_test)"
   ]
  },
  {
   "cell_type": "code",
   "execution_count": 10,
   "metadata": {},
   "outputs": [
    {
     "name": "stdout",
     "output_type": "stream",
     "text": [
      "Accuracy: 0.8777292576419214\n"
     ]
    }
   ],
   "source": [
    "from sklearn import metrics\n",
    "print('Accuracy:', metrics.accuracy_score(y_true=y_test, y_pred=predictions))"
   ]
  },
  {
   "cell_type": "code",
   "execution_count": 15,
   "metadata": {},
   "outputs": [
    {
     "name": "stdout",
     "output_type": "stream",
     "text": [
      "              precision    recall  f1-score   support\n",
      "\n",
      "           0       0.70      0.85      0.77        55\n",
      "           1       0.95      0.89      0.92       174\n",
      "\n",
      "    accuracy                           0.88       229\n",
      "   macro avg       0.83      0.87      0.84       229\n",
      "weighted avg       0.89      0.88      0.88       229\n",
      "\n"
     ]
    }
   ],
   "source": [
    "print(metrics.classification_report(y_true=y_test, y_pred=predictions))"
   ]
  },
  {
   "cell_type": "markdown",
   "metadata": {},
   "source": [
    "## The Power of Deep Learning"
   ]
  },
  {
   "cell_type": "code",
   "execution_count": 18,
   "metadata": {},
   "outputs": [
    {
     "name": "stdout",
     "output_type": "stream",
     "text": [
      "Epoch 1/20\n",
      "340/340 [==============================] - 1s 4ms/step - loss: 3.1920 - acc: 0.6941\n",
      "Epoch 2/20\n",
      "340/340 [==============================] - 0s 85us/step - loss: 0.8160 - acc: 0.8206\n",
      "Epoch 3/20\n",
      "340/340 [==============================] - 0s 100us/step - loss: 0.7559 - acc: 0.8559\n",
      "Epoch 4/20\n",
      "340/340 [==============================] - 0s 82us/step - loss: 0.5979 - acc: 0.8500\n",
      "Epoch 5/20\n",
      "340/340 [==============================] - 0s 112us/step - loss: 0.5930 - acc: 0.8765\n",
      "Epoch 6/20\n",
      "340/340 [==============================] - 0s 91us/step - loss: 0.5663 - acc: 0.8618\n",
      "Epoch 7/20\n",
      "340/340 [==============================] - 0s 88us/step - loss: 0.5184 - acc: 0.8765\n",
      "Epoch 8/20\n",
      "340/340 [==============================] - 0s 85us/step - loss: 0.4954 - acc: 0.8853\n",
      "Epoch 9/20\n",
      "340/340 [==============================] - 0s 115us/step - loss: 0.4475 - acc: 0.8912\n",
      "Epoch 10/20\n",
      "340/340 [==============================] - 0s 91us/step - loss: 0.5232 - acc: 0.8647\n",
      "Epoch 11/20\n",
      "340/340 [==============================] - 0s 82us/step - loss: 0.4574 - acc: 0.8794\n",
      "Epoch 12/20\n",
      "340/340 [==============================] - 0s 141us/step - loss: 0.4913 - acc: 0.8882\n",
      "Epoch 13/20\n",
      "340/340 [==============================] - 0s 100us/step - loss: 0.3927 - acc: 0.8912\n",
      "Epoch 14/20\n",
      "340/340 [==============================] - 0s 91us/step - loss: 0.3813 - acc: 0.8971\n",
      "Epoch 15/20\n",
      "340/340 [==============================] - 0s 97us/step - loss: 0.4034 - acc: 0.9000\n",
      "Epoch 16/20\n",
      "340/340 [==============================] - 0s 91us/step - loss: 0.3519 - acc: 0.9029\n",
      "Epoch 17/20\n",
      "340/340 [==============================] - 0s 91us/step - loss: 0.3390 - acc: 0.9118\n",
      "Epoch 18/20\n",
      "340/340 [==============================] - 0s 88us/step - loss: 0.3196 - acc: 0.9029\n",
      "Epoch 19/20\n",
      "340/340 [==============================] - 0s 79us/step - loss: 0.2763 - acc: 0.9206\n",
      "Epoch 20/20\n",
      "340/340 [==============================] - 0s 94us/step - loss: 0.3647 - acc: 0.8882\n"
     ]
    },
    {
     "data": {
      "text/plain": [
       "<keras.callbacks.History at 0x6a9d5222b0>"
      ]
     },
     "execution_count": 18,
     "metadata": {},
     "output_type": "execute_result"
    }
   ],
   "source": [
    "model = Sequential()\n",
    "model.add(Dense(15, input_dim=30, activation='relu'))\n",
    "model.add(Dense(15, activation='relu'))\n",
    "model.add(Dense(15, activation='relu'))\n",
    "model.add(Dense(1, activation='sigmoid'))\n",
    "model.compile(loss='binary_crossentropy',\n",
    "              optimizer='rmsprop',\n",
    "              metrics=['accuracy'])\n",
    "model.fit(X_train, y_train,\n",
    "          epochs=20,\n",
    "          batch_size=50)"
   ]
  },
  {
   "cell_type": "code",
   "execution_count": 19,
   "metadata": {},
   "outputs": [
    {
     "name": "stdout",
     "output_type": "stream",
     "text": [
      "Accuracy: 0.9126637554585153\n",
      "              precision    recall  f1-score   support\n",
      "\n",
      "           0       0.86      0.76      0.81        55\n",
      "           1       0.93      0.96      0.94       174\n",
      "\n",
      "    accuracy                           0.91       229\n",
      "   macro avg       0.89      0.86      0.88       229\n",
      "weighted avg       0.91      0.91      0.91       229\n",
      "\n"
     ]
    }
   ],
   "source": [
    "predictions = model.predict_classes(X_test)\n",
    "print('Accuracy:', metrics.accuracy_score(y_true=y_test, y_pred=predictions))\n",
    "print(metrics.classification_report(y_true=y_test, y_pred=predictions))"
   ]
  },
  {
   "cell_type": "markdown",
   "metadata": {},
   "source": [
    "+ We achieve an overall accuracy and F1 score of 91% and we can see that we also have an F1 score of 83% as compared to 0% from the previous model, for class label 0 (malignant)."
   ]
  },
  {
   "cell_type": "code",
   "execution_count": 20,
   "metadata": {},
   "outputs": [],
   "source": [
    "import nltk"
   ]
  },
  {
   "cell_type": "code",
   "execution_count": null,
   "metadata": {},
   "outputs": [
    {
     "name": "stdout",
     "output_type": "stream",
     "text": [
      "showing info https://raw.githubusercontent.com/nltk/nltk_data/gh-pages/index.xml\n"
     ]
    }
   ],
   "source": [
    "nltk.download()"
   ]
  },
  {
   "cell_type": "code",
   "execution_count": null,
   "metadata": {},
   "outputs": [],
   "source": [
    "nltk.download('all', halt_on_error=False)"
   ]
  },
  {
   "cell_type": "markdown",
   "metadata": {},
   "source": [
    "+ Once the download is finished we will be able to use all the necessary functionalities and the bundled data of the nltk package."
   ]
  }
 ],
 "metadata": {
  "kernelspec": {
   "display_name": "Python 3",
   "language": "python",
   "name": "python3"
  },
  "language_info": {
   "codemirror_mode": {
    "name": "ipython",
    "version": 3
   },
   "file_extension": ".py",
   "mimetype": "text/x-python",
   "name": "python",
   "nbconvert_exporter": "python",
   "pygments_lexer": "ipython3",
   "version": "3.7.3"
  }
 },
 "nbformat": 4,
 "nbformat_minor": 2
}
