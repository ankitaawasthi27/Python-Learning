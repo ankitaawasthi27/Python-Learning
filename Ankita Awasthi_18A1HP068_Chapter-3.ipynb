{
 "cells": [
  {
   "cell_type": "markdown",
   "metadata": {},
   "source": [
    "# Chapter-3 Processing, Wrangling, and Visualizing Data\n",
    "\n",
    "+ Data collection: To understand different data retrieval mechanisms for different data types\n",
    "+ Data description: To understand various attributes and properties of the data collected\n",
    "+ Data wrangling: To prepare data for consumption in the modeling steps\n",
    "+ Data visualization: To visualize different attributes for sharing results, better understanding, and so on"
   ]
  },
  {
   "cell_type": "markdown",
   "metadata": {},
   "source": [
    "# Handling Comma Separated Value Files\n",
    "\n",
    "This notebook showcases methods to extract data from CSVs:\n",
    "+ csv containing delimiter separated values\n",
    "+ csv containing tabular data"
   ]
  },
  {
   "cell_type": "code",
   "execution_count": 1,
   "metadata": {},
   "outputs": [],
   "source": [
    "# import required libraries\n",
    "import csv\n",
    "import pandas as pd\n",
    "from pprint import pprint"
   ]
  },
  {
   "cell_type": "code",
   "execution_count": 2,
   "metadata": {},
   "outputs": [],
   "source": [
    "def print_basic_csv(file_name, delimiter=','):\n",
    "    \"\"\"This function extracts and prints csv content from given filename\n",
    "       Details: https://docs.python.org/2/library/csv.html\n",
    "    Args:\n",
    "        file_name (str): file path to be read\n",
    "        delimiter (str): delimiter used in csv. Default is comma (',')\n",
    "\n",
    "    Returns:\n",
    "        None\n",
    "\n",
    "    \"\"\"\n",
    "    csv_rows = list()\n",
    "    csv_attr_dict = dict()\n",
    "    csv_reader = None\n",
    "\n",
    "    # read csv\n",
    "    csv_reader = csv.reader(open(file_name, 'r'), delimiter=delimiter)\n",
    "        \n",
    "    # iterate and extract data    \n",
    "    for row in csv_reader:\n",
    "        print(row)\n",
    "        csv_rows.append(row)\n",
    "    \n",
    "    # prepare attribute lists\n",
    "    for col in csv_rows[0]:\n",
    "        csv_attr_dict[col]=list()\n",
    "    \n",
    "    # iterate and add data to attribute lists\n",
    "    for row in csv_rows[1:]:\n",
    "        csv_attr_dict['sno'].append(row[0])\n",
    "        csv_attr_dict['fruit'].append(row[1])\n",
    "        csv_attr_dict['color'].append(row[2])\n",
    "        csv_attr_dict['price'].append(row[3])\n",
    "    \n",
    "    # print the result\n",
    "    print(\"\\n\\n\")\n",
    "    print(\"CSV Attributes::\")\n",
    "    pprint(csv_attr_dict)\n",
    "            \n",
    "\n",
    "\n",
    "def print_tabular_data(file_name,delimiter=\",\"):\n",
    "    \"\"\"This function extracts and prints tabular csv content from given filename\n",
    "       Details: http://pandas.pydata.org/pandas-docs/stable/generated/pandas.read_csv.html\n",
    "    Args:\n",
    "        file_name (str): file path to be read\n",
    "        delimiter (str): delimiter used in csv. Default is comma ('\\t')\n",
    "\n",
    "    Returns:\n",
    "        None\n",
    "\n",
    "    \"\"\"\n",
    "    df = pd.read_csv(file_name,sep=delimiter)\n",
    "    print(df)"
   ]
  },
  {
   "cell_type": "markdown",
   "metadata": {},
   "source": [
    "## Parse using CSV module\n",
    "\n",
    "The print_basic_csv() function takes the input file name along with delimiter as input parameters."
   ]
  },
  {
   "cell_type": "code",
   "execution_count": 3,
   "metadata": {},
   "outputs": [
    {
     "name": "stdout",
     "output_type": "stream",
     "text": [
      "['sno', 'fruit', 'color', 'price']\n",
      "['1', 'apple', 'red', '110.85']\n",
      "['2', 'banana', 'yellow', '50.12']\n",
      "['3', 'mango', 'yellow', '70.29']\n",
      "['4', 'orange', 'orange', '80.00']\n",
      "['5', 'kiwi', 'green', '150.00']\n",
      "['6', 'pineapple', 'yellow', '90.00']\n",
      "['7', 'guava', 'green', '20.00']\n",
      "\n",
      "\n",
      "\n",
      "CSV Attributes::\n",
      "{'color': ['red', 'yellow', 'yellow', 'orange', 'green', 'yellow', 'green'],\n",
      " 'fruit': ['apple', 'banana', 'mango', 'orange', 'kiwi', 'pineapple', 'guava'],\n",
      " 'price': ['110.85', '50.12', '70.29', '80.00', '150.00', '90.00', '20.00'],\n",
      " 'sno': ['1', '2', '3', '4', '5', '6', '7']}\n"
     ]
    }
   ],
   "source": [
    "print_basic_csv(r'tabular_csv.csv')"
   ]
  },
  {
   "cell_type": "markdown",
   "metadata": {},
   "source": [
    "The first output in the above cell shows the data in the csv as-is.\n",
    "The second one is the parsed output showcasing the contents of the csv as key-value pairs"
   ]
  },
  {
   "cell_type": "markdown",
   "metadata": {},
   "source": [
    "## Parse using pandas\n",
    "\n",
    "The print_tabular_data() function takes the input file name along with delimiter as input parameters. It uses pandas to do the heavy lifting"
   ]
  },
  {
   "cell_type": "code",
   "execution_count": 4,
   "metadata": {},
   "outputs": [
    {
     "name": "stdout",
     "output_type": "stream",
     "text": [
      "   sno      fruit   color   price\n",
      "0    1      apple     red  110.85\n",
      "1    2     banana  yellow   50.12\n",
      "2    3      mango  yellow   70.29\n",
      "3    4     orange  orange   80.00\n",
      "4    5       kiwi   green  150.00\n",
      "5    6  pineapple  yellow   90.00\n",
      "6    7      guava   green   20.00\n"
     ]
    }
   ],
   "source": [
    "print_tabular_data(r'tabular_csv.csv')"
   ]
  },
  {
   "cell_type": "markdown",
   "metadata": {},
   "source": [
    "The output in the above cell shows how pandas reads a csv and prepares a tabular dataframe"
   ]
  },
  {
   "cell_type": "markdown",
   "metadata": {},
   "source": [
    "## Data Wrangling\n",
    "+ This notebook presents different data wrangling techniques used commonly"
   ]
  },
  {
   "cell_type": "code",
   "execution_count": 5,
   "metadata": {},
   "outputs": [],
   "source": [
    "# import required libraries\n",
    "import random\n",
    "import datetime \n",
    "import numpy as np\n",
    "import pandas as pd\n",
    "from random import randrange\n",
    "from sklearn import preprocessing\n",
    "\n",
    "pd.options.mode.chained_assignment = None"
   ]
  },
  {
   "cell_type": "code",
   "execution_count": 6,
   "metadata": {},
   "outputs": [],
   "source": [
    "def _random_date(start,date_count):\n",
    "    \"\"\"This function generates a random date based on params\n",
    "    Args:\n",
    "        start (date object): the base date\n",
    "        date_count (int): number of dates to be generated\n",
    "    Returns:\n",
    "        list of random dates\n",
    "\n",
    "    \"\"\"\n",
    "    current = start\n",
    "    while date_count > 0:\n",
    "        curr = current + datetime.timedelta(days=randrange(42))\n",
    "        yield curr\n",
    "        date_count-=1\n",
    "\n",
    "\n",
    "def generate_sample_data(row_count=100):\n",
    "    \"\"\"This function generates a random transaction dataset\n",
    "    Args:\n",
    "        row_count (int): number of rows for the dataframe\n",
    "    Returns:\n",
    "        a pandas dataframe\n",
    "\n",
    "    \"\"\"\n",
    "    \n",
    "    # sentinels\n",
    "    startDate = datetime.datetime(2016, 1, 1,13)\n",
    "    serial_number_sentinel = 1000\n",
    "    user_id_sentinel = 5001\n",
    "    product_id_sentinel = 101\n",
    "    price_sentinel = 2000\n",
    "    \n",
    "    \n",
    "    # base list of attributes\n",
    "    data_dict = {\n",
    "    'Serial No': np.arange(row_count)+serial_number_sentinel,\n",
    "    'Date': np.random.permutation(pd.to_datetime([x.strftime(\"%d-%m-%Y\") \n",
    "                                                    for x in _random_date(startDate,\n",
    "                                                                          row_count)]).date\n",
    "                                  ),\n",
    "    'User ID': np.random.permutation(np.random.randint(0,\n",
    "                                                       row_count,\n",
    "                                                       size=int(row_count/10)) + user_id_sentinel).tolist()*10,\n",
    "    'Product ID': np.random.permutation(np.random.randint(0,\n",
    "                                                          row_count,\n",
    "                                                          size=int(row_count/10))+ product_id_sentinel).tolist()*10 ,\n",
    "    'Quantity Purchased': np.random.permutation(np.random.randint(1,\n",
    "                                                                  42,\n",
    "                                                                  size=row_count)),\n",
    "    'Price': np.round(np.abs(np.random.randn(row_count)+1)*price_sentinel,\n",
    "                      decimals=2),\n",
    "    'User Type':np.random.permutation([chr(random.randrange(97, 97 + 3 + 1)) \n",
    "                                            for i in range(row_count)])\n",
    "    }\n",
    "    \n",
    "    # introduce missing values\n",
    "    for index in range(int(np.sqrt(row_count))): \n",
    "        data_dict['Price'][np.argmax(data_dict['Price'] == random.choice(data_dict['Price']))] = np.nan\n",
    "        data_dict['User Type'][np.argmax(data_dict['User Type'] == random.choice(data_dict['User Type']))] = np.nan\n",
    "        data_dict['Date'][np.argmax(data_dict['Date'] == random.choice(data_dict['Date']))] = np.nan\n",
    "        data_dict['Product ID'][np.argmax(data_dict['Product ID'] == random.choice(data_dict['Product ID']))] = 0\n",
    "        data_dict['Serial No'][np.argmax(data_dict['Serial No'] == random.choice(data_dict['Serial No']))] = -1\n",
    "        data_dict['User ID'][np.argmax(data_dict['User ID'] == random.choice(data_dict['User ID']))] = -101\n",
    "        \n",
    "    \n",
    "    # create data frame\n",
    "    df = pd.DataFrame(data_dict)\n",
    "    \n",
    "    return df\n",
    "    \n",
    "\n",
    "def describe_dataframe(df=pd.DataFrame()):\n",
    "    \"\"\"This function generates descriptive stats of a dataframe\n",
    "    Args:\n",
    "        df (dataframe): the dataframe to be analyzed\n",
    "    Returns:\n",
    "        None\n",
    "\n",
    "    \"\"\"\n",
    "    print(\"\\n\\n\")\n",
    "    print(\"*\"*30)\n",
    "    print(\"About the Data\")\n",
    "    print(\"*\"*30)\n",
    "    \n",
    "    print(\"Number of rows::\",df.shape[0])\n",
    "    print(\"Number of columns::\",df.shape[1])\n",
    "    print(\"\\n\")\n",
    "    \n",
    "    print(\"Column Names::\",df.columns.values.tolist())\n",
    "    print(\"\\n\")\n",
    "    \n",
    "    print(\"Column Data Types::\\n\",df.dtypes)\n",
    "    print(\"\\n\")\n",
    "    \n",
    "    print(\"Columns with Missing Values::\",df.columns[df.isnull().any()].tolist())\n",
    "    print(\"\\n\")\n",
    "    \n",
    "    print(\"Number of rows with Missing Values::\",len(pd.isnull(df).any(1).nonzero()[0].tolist()))\n",
    "    print(\"\\n\")\n",
    "    \n",
    "    print(\"Sample Indices with missing data::\",pd.isnull(df).any(1).nonzero()[0].tolist()[0:5])\n",
    "    print(\"\\n\")\n",
    "    \n",
    "    print(\"General Stats::\")\n",
    "    print(df.info())\n",
    "    print(\"\\n\")\n",
    "    \n",
    "    print(\"Summary Stats::\")\n",
    "    print(df.describe())\n",
    "    print(\"\\n\")\n",
    "    \n",
    "    print(\"Dataframe Sample Rows::\")\n",
    "    display(df.head(5))\n",
    "    \n",
    "def cleanup_column_names(df,rename_dict={},do_inplace=True):\n",
    "    \"\"\"This function renames columns of a pandas dataframe\n",
    "       It converts column names to snake case if rename_dict is not passed. \n",
    "    Args:\n",
    "        rename_dict (dict): keys represent old column names and values point to \n",
    "                            newer ones\n",
    "        do_inplace (bool): flag to update existing dataframe or return a new one\n",
    "    Returns:\n",
    "        pandas dataframe if do_inplace is set to False, None otherwise\n",
    "\n",
    "    \"\"\"\n",
    "    if not rename_dict:\n",
    "        return df.rename(columns={col: col.lower().replace(' ','_') \n",
    "                    for col in df.columns.values.tolist()}, \n",
    "                  inplace=do_inplace)\n",
    "    else:\n",
    "        return df.rename(columns=rename_dict,inplace=do_inplace)\n",
    "\n",
    "def expand_user_type(u_type):\n",
    "    \"\"\"This function maps user types to user classes\n",
    "    Args:\n",
    "        u_type (str): user type value\n",
    "    Returns:\n",
    "        (str) user_class value\n",
    "\n",
    "    \"\"\"\n",
    "    if u_type in ['a','b']:\n",
    "        return 'new'\n",
    "    elif u_type == 'c':\n",
    "        return 'existing'\n",
    "    elif u_type == 'd':\n",
    "        return 'loyal_existing'\n",
    "    else:\n",
    "        return 'error'"
   ]
  },
  {
   "cell_type": "markdown",
   "metadata": {},
   "source": [
    "## Generate a Sample Dataset"
   ]
  },
  {
   "cell_type": "code",
   "execution_count": 7,
   "metadata": {},
   "outputs": [],
   "source": [
    "df = generate_sample_data(row_count=1000)"
   ]
  },
  {
   "cell_type": "code",
   "execution_count": 8,
   "metadata": {},
   "outputs": [
    {
     "name": "stdout",
     "output_type": "stream",
     "text": [
      "\n",
      "\n",
      "\n",
      "******************************\n",
      "About the Data\n",
      "******************************\n",
      "Number of rows:: 1000\n",
      "Number of columns:: 7\n",
      "\n",
      "\n",
      "Column Names:: ['Serial No', 'Date', 'User ID', 'Product ID', 'Quantity Purchased', 'Price', 'User Type']\n",
      "\n",
      "\n",
      "Column Data Types::\n",
      " Serial No               int32\n",
      "Date                   object\n",
      "User ID                 int64\n",
      "Product ID              int64\n",
      "Quantity Purchased      int32\n",
      "Price                 float64\n",
      "User Type              object\n",
      "dtype: object\n",
      "\n",
      "\n",
      "Columns with Missing Values:: ['Date', 'Price']\n",
      "\n",
      "\n",
      "Number of rows with Missing Values:: 59\n",
      "\n",
      "\n",
      "Sample Indices with missing data:: [0, 1, 5, 6, 7]\n",
      "\n",
      "\n",
      "General Stats::\n",
      "<class 'pandas.core.frame.DataFrame'>\n",
      "RangeIndex: 1000 entries, 0 to 999\n",
      "Data columns (total 7 columns):\n",
      "Serial No             1000 non-null int32\n",
      "Date                  969 non-null object\n",
      "User ID               1000 non-null int64\n",
      "Product ID            1000 non-null int64\n",
      "Quantity Purchased    1000 non-null int32\n",
      "Price                 969 non-null float64\n",
      "User Type             1000 non-null object\n",
      "dtypes: float64(1), int32(2), int64(2), object(2)\n",
      "memory usage: 47.0+ KB\n",
      "None\n",
      "\n",
      "\n",
      "Summary Stats::\n"
     ]
    },
    {
     "name": "stderr",
     "output_type": "stream",
     "text": [
      "C:\\Users\\INTEL\\Anaconda3\\lib\\site-packages\\ipykernel_launcher.py:98: FutureWarning: Series.nonzero() is deprecated and will be removed in a future version.Use Series.to_numpy().nonzero() instead\n",
      "C:\\Users\\INTEL\\Anaconda3\\lib\\site-packages\\ipykernel_launcher.py:101: FutureWarning: Series.nonzero() is deprecated and will be removed in a future version.Use Series.to_numpy().nonzero() instead\n"
     ]
    },
    {
     "name": "stdout",
     "output_type": "stream",
     "text": [
      "         Serial No      User ID   Product ID  Quantity Purchased        Price\n",
      "count  1000.000000  1000.000000  1000.000000          1000.00000   969.000000\n",
      "mean   1454.546000  5484.152000   596.067000            20.79500  2355.524211\n",
      "std     382.264233   340.533032   290.781355            11.86017  1614.154609\n",
      "min      -1.000000  -101.000000     0.000000             1.00000     2.740000\n",
      "25%    1227.750000  5243.000000   361.000000            10.00000  1028.740000\n",
      "50%    1485.500000  5472.000000   561.000000            21.00000  2114.040000\n",
      "75%    1739.250000  5741.000000   838.000000            31.00000  3344.950000\n",
      "max    1999.000000  5989.000000  1088.000000            41.00000  7810.220000\n",
      "\n",
      "\n",
      "Dataframe Sample Rows::\n"
     ]
    },
    {
     "data": {
      "text/html": [
       "<div>\n",
       "<style scoped>\n",
       "    .dataframe tbody tr th:only-of-type {\n",
       "        vertical-align: middle;\n",
       "    }\n",
       "\n",
       "    .dataframe tbody tr th {\n",
       "        vertical-align: top;\n",
       "    }\n",
       "\n",
       "    .dataframe thead th {\n",
       "        text-align: right;\n",
       "    }\n",
       "</style>\n",
       "<table border=\"1\" class=\"dataframe\">\n",
       "  <thead>\n",
       "    <tr style=\"text-align: right;\">\n",
       "      <th></th>\n",
       "      <th>Serial No</th>\n",
       "      <th>Date</th>\n",
       "      <th>User ID</th>\n",
       "      <th>Product ID</th>\n",
       "      <th>Quantity Purchased</th>\n",
       "      <th>Price</th>\n",
       "      <th>User Type</th>\n",
       "    </tr>\n",
       "  </thead>\n",
       "  <tbody>\n",
       "    <tr>\n",
       "      <th>0</th>\n",
       "      <td>1000</td>\n",
       "      <td>NaN</td>\n",
       "      <td>-101</td>\n",
       "      <td>0</td>\n",
       "      <td>7</td>\n",
       "      <td>1902.95</td>\n",
       "      <td>n</td>\n",
       "    </tr>\n",
       "    <tr>\n",
       "      <th>1</th>\n",
       "      <td>1001</td>\n",
       "      <td>NaN</td>\n",
       "      <td>5642</td>\n",
       "      <td>240</td>\n",
       "      <td>4</td>\n",
       "      <td>1272.74</td>\n",
       "      <td>n</td>\n",
       "    </tr>\n",
       "    <tr>\n",
       "      <th>2</th>\n",
       "      <td>1002</td>\n",
       "      <td>2016-04-02</td>\n",
       "      <td>5243</td>\n",
       "      <td>120</td>\n",
       "      <td>6</td>\n",
       "      <td>202.13</td>\n",
       "      <td>n</td>\n",
       "    </tr>\n",
       "    <tr>\n",
       "      <th>3</th>\n",
       "      <td>1003</td>\n",
       "      <td>2016-02-02</td>\n",
       "      <td>5117</td>\n",
       "      <td>468</td>\n",
       "      <td>26</td>\n",
       "      <td>1639.30</td>\n",
       "      <td>n</td>\n",
       "    </tr>\n",
       "    <tr>\n",
       "      <th>4</th>\n",
       "      <td>1004</td>\n",
       "      <td>2016-05-01</td>\n",
       "      <td>5053</td>\n",
       "      <td>210</td>\n",
       "      <td>36</td>\n",
       "      <td>1589.92</td>\n",
       "      <td>n</td>\n",
       "    </tr>\n",
       "  </tbody>\n",
       "</table>\n",
       "</div>"
      ],
      "text/plain": [
       "   Serial No        Date  User ID  Product ID  Quantity Purchased    Price  \\\n",
       "0       1000         NaN     -101           0                   7  1902.95   \n",
       "1       1001         NaN     5642         240                   4  1272.74   \n",
       "2       1002  2016-04-02     5243         120                   6   202.13   \n",
       "3       1003  2016-02-02     5117         468                  26  1639.30   \n",
       "4       1004  2016-05-01     5053         210                  36  1589.92   \n",
       "\n",
       "  User Type  \n",
       "0         n  \n",
       "1         n  \n",
       "2         n  \n",
       "3         n  \n",
       "4         n  "
      ]
     },
     "metadata": {},
     "output_type": "display_data"
    }
   ],
   "source": [
    "#describe the dataset\n",
    "describe_dataframe(df)"
   ]
  },
  {
   "cell_type": "markdown",
   "metadata": {},
   "source": [
    "## Rename Columns"
   ]
  },
  {
   "cell_type": "code",
   "execution_count": 9,
   "metadata": {},
   "outputs": [
    {
     "name": "stdout",
     "output_type": "stream",
     "text": [
      "Dataframe columns:\n",
      "['Serial No', 'Date', 'User ID', 'Product ID', 'Quantity Purchased', 'Price', 'User Type']\n"
     ]
    }
   ],
   "source": [
    "print(\"Dataframe columns:\\n{}\".format(df.columns.tolist()))"
   ]
  },
  {
   "cell_type": "code",
   "execution_count": 10,
   "metadata": {},
   "outputs": [],
   "source": [
    "cleanup_column_names(df)"
   ]
  },
  {
   "cell_type": "code",
   "execution_count": 11,
   "metadata": {},
   "outputs": [
    {
     "name": "stdout",
     "output_type": "stream",
     "text": [
      "Dataframe columns:\n",
      "['serial_no', 'date', 'user_id', 'product_id', 'quantity_purchased', 'price', 'user_type']\n"
     ]
    }
   ],
   "source": [
    "print(\"Dataframe columns:\\n{}\".format(df.columns.tolist()))"
   ]
  },
  {
   "cell_type": "markdown",
   "metadata": {},
   "source": [
    "## Sort Rows on defined attributes"
   ]
  },
  {
   "cell_type": "code",
   "execution_count": 13,
   "metadata": {},
   "outputs": [
    {
     "data": {
      "text/html": [
       "<div>\n",
       "<style scoped>\n",
       "    .dataframe tbody tr th:only-of-type {\n",
       "        vertical-align: middle;\n",
       "    }\n",
       "\n",
       "    .dataframe tbody tr th {\n",
       "        vertical-align: top;\n",
       "    }\n",
       "\n",
       "    .dataframe thead th {\n",
       "        text-align: right;\n",
       "    }\n",
       "</style>\n",
       "<table border=\"1\" class=\"dataframe\">\n",
       "  <thead>\n",
       "    <tr style=\"text-align: right;\">\n",
       "      <th></th>\n",
       "      <th>serial_no</th>\n",
       "      <th>date</th>\n",
       "      <th>user_id</th>\n",
       "      <th>product_id</th>\n",
       "      <th>quantity_purchased</th>\n",
       "      <th>price</th>\n",
       "      <th>user_type</th>\n",
       "    </tr>\n",
       "  </thead>\n",
       "  <tbody>\n",
       "    <tr>\n",
       "      <th>259</th>\n",
       "      <td>-1</td>\n",
       "      <td>2016-03-01</td>\n",
       "      <td>5944</td>\n",
       "      <td>824</td>\n",
       "      <td>1</td>\n",
       "      <td>6068.53</td>\n",
       "      <td>b</td>\n",
       "    </tr>\n",
       "    <tr>\n",
       "      <th>887</th>\n",
       "      <td>-1</td>\n",
       "      <td>2016-01-18</td>\n",
       "      <td>5760</td>\n",
       "      <td>800</td>\n",
       "      <td>8</td>\n",
       "      <td>4393.19</td>\n",
       "      <td>c</td>\n",
       "    </tr>\n",
       "    <tr>\n",
       "      <th>844</th>\n",
       "      <td>-1</td>\n",
       "      <td>2016-01-21</td>\n",
       "      <td>5554</td>\n",
       "      <td>505</td>\n",
       "      <td>16</td>\n",
       "      <td>4294.92</td>\n",
       "      <td>a</td>\n",
       "    </tr>\n",
       "    <tr>\n",
       "      <th>784</th>\n",
       "      <td>-1</td>\n",
       "      <td>2016-02-02</td>\n",
       "      <td>5078</td>\n",
       "      <td>852</td>\n",
       "      <td>25</td>\n",
       "      <td>4030.69</td>\n",
       "      <td>b</td>\n",
       "    </tr>\n",
       "    <tr>\n",
       "      <th>16</th>\n",
       "      <td>-1</td>\n",
       "      <td>2016-03-01</td>\n",
       "      <td>5264</td>\n",
       "      <td>424</td>\n",
       "      <td>38</td>\n",
       "      <td>3839.58</td>\n",
       "      <td>c</td>\n",
       "    </tr>\n",
       "  </tbody>\n",
       "</table>\n",
       "</div>"
      ],
      "text/plain": [
       "     serial_no        date  user_id  product_id  quantity_purchased    price  \\\n",
       "259         -1  2016-03-01     5944         824                   1  6068.53   \n",
       "887         -1  2016-01-18     5760         800                   8  4393.19   \n",
       "844         -1  2016-01-21     5554         505                  16  4294.92   \n",
       "784         -1  2016-02-02     5078         852                  25  4030.69   \n",
       "16          -1  2016-03-01     5264         424                  38  3839.58   \n",
       "\n",
       "    user_type  \n",
       "259         b  \n",
       "887         c  \n",
       "844         a  \n",
       "784         b  \n",
       "16          c  "
      ]
     },
     "metadata": {},
     "output_type": "display_data"
    }
   ],
   "source": [
    "display(df.sort_values(['serial_no', 'price'], \n",
    "                         ascending=[True, False]).head())"
   ]
  },
  {
   "cell_type": "markdown",
   "metadata": {},
   "source": [
    "## Rearrange Columns in a Dataframe"
   ]
  },
  {
   "cell_type": "code",
   "execution_count": 14,
   "metadata": {},
   "outputs": [
    {
     "data": {
      "text/html": [
       "<div>\n",
       "<style scoped>\n",
       "    .dataframe tbody tr th:only-of-type {\n",
       "        vertical-align: middle;\n",
       "    }\n",
       "\n",
       "    .dataframe tbody tr th {\n",
       "        vertical-align: top;\n",
       "    }\n",
       "\n",
       "    .dataframe thead th {\n",
       "        text-align: right;\n",
       "    }\n",
       "</style>\n",
       "<table border=\"1\" class=\"dataframe\">\n",
       "  <thead>\n",
       "    <tr style=\"text-align: right;\">\n",
       "      <th></th>\n",
       "      <th>serial_no</th>\n",
       "      <th>date</th>\n",
       "      <th>user_id</th>\n",
       "      <th>user_type</th>\n",
       "      <th>product_id</th>\n",
       "      <th>quantity_purchased</th>\n",
       "      <th>price</th>\n",
       "    </tr>\n",
       "  </thead>\n",
       "  <tbody>\n",
       "    <tr>\n",
       "      <th>0</th>\n",
       "      <td>1000</td>\n",
       "      <td>NaN</td>\n",
       "      <td>-101</td>\n",
       "      <td>n</td>\n",
       "      <td>0</td>\n",
       "      <td>7</td>\n",
       "      <td>1902.95</td>\n",
       "    </tr>\n",
       "    <tr>\n",
       "      <th>1</th>\n",
       "      <td>1001</td>\n",
       "      <td>NaN</td>\n",
       "      <td>5642</td>\n",
       "      <td>n</td>\n",
       "      <td>240</td>\n",
       "      <td>4</td>\n",
       "      <td>1272.74</td>\n",
       "    </tr>\n",
       "    <tr>\n",
       "      <th>2</th>\n",
       "      <td>1002</td>\n",
       "      <td>2016-04-02</td>\n",
       "      <td>5243</td>\n",
       "      <td>n</td>\n",
       "      <td>120</td>\n",
       "      <td>6</td>\n",
       "      <td>202.13</td>\n",
       "    </tr>\n",
       "    <tr>\n",
       "      <th>3</th>\n",
       "      <td>1003</td>\n",
       "      <td>2016-02-02</td>\n",
       "      <td>5117</td>\n",
       "      <td>n</td>\n",
       "      <td>468</td>\n",
       "      <td>26</td>\n",
       "      <td>1639.30</td>\n",
       "    </tr>\n",
       "    <tr>\n",
       "      <th>4</th>\n",
       "      <td>1004</td>\n",
       "      <td>2016-05-01</td>\n",
       "      <td>5053</td>\n",
       "      <td>n</td>\n",
       "      <td>210</td>\n",
       "      <td>36</td>\n",
       "      <td>1589.92</td>\n",
       "    </tr>\n",
       "  </tbody>\n",
       "</table>\n",
       "</div>"
      ],
      "text/plain": [
       "   serial_no        date  user_id user_type  product_id  quantity_purchased  \\\n",
       "0       1000         NaN     -101         n           0                   7   \n",
       "1       1001         NaN     5642         n         240                   4   \n",
       "2       1002  2016-04-02     5243         n         120                   6   \n",
       "3       1003  2016-02-02     5117         n         468                  26   \n",
       "4       1004  2016-05-01     5053         n         210                  36   \n",
       "\n",
       "     price  \n",
       "0  1902.95  \n",
       "1  1272.74  \n",
       "2   202.13  \n",
       "3  1639.30  \n",
       "4  1589.92  "
      ]
     },
     "metadata": {},
     "output_type": "display_data"
    }
   ],
   "source": [
    "display(df[['serial_no','date','user_id','user_type',\n",
    "              'product_id','quantity_purchased','price']].head())"
   ]
  },
  {
   "cell_type": "markdown",
   "metadata": {},
   "source": [
    "## Filtering Columns\n",
    "+ Using Column Index"
   ]
  },
  {
   "cell_type": "code",
   "execution_count": 15,
   "metadata": {},
   "outputs": [
    {
     "name": "stdout",
     "output_type": "stream",
     "text": [
      "[  0 240 120 468 210 777 184 458 598 947]\n"
     ]
    }
   ],
   "source": [
    "# print 10 values from column at index 3\n",
    "print(df.iloc[:,3].values[0:10])"
   ]
  },
  {
   "cell_type": "markdown",
   "metadata": {},
   "source": [
    "+ Using Column Name"
   ]
  },
  {
   "cell_type": "code",
   "execution_count": 16,
   "metadata": {},
   "outputs": [
    {
     "name": "stdout",
     "output_type": "stream",
     "text": [
      "[ 7  4  6 26 36  1 15 20  4 23]\n"
     ]
    }
   ],
   "source": [
    "# print 10 values of quantity purchased\n",
    "print(df.quantity_purchased.values[0:10])"
   ]
  },
  {
   "cell_type": "markdown",
   "metadata": {},
   "source": [
    "+ Using Column Datatype"
   ]
  },
  {
   "cell_type": "code",
   "execution_count": 17,
   "metadata": {},
   "outputs": [
    {
     "name": "stdout",
     "output_type": "stream",
     "text": [
      "[1902.95 1272.74  202.13 1639.3  1589.92 3777.23 1137.45  905.37 5348.81\n",
      "  755.64]\n"
     ]
    }
   ],
   "source": [
    "# print 10 values of columns with data type float\n",
    "print(df.select_dtypes(include=['float64']).values[:10,0])"
   ]
  },
  {
   "cell_type": "markdown",
   "metadata": {},
   "source": [
    "## Filtering Rows\n",
    "+ Select specific rows"
   ]
  },
  {
   "cell_type": "code",
   "execution_count": 18,
   "metadata": {},
   "outputs": [
    {
     "data": {
      "text/html": [
       "<div>\n",
       "<style scoped>\n",
       "    .dataframe tbody tr th:only-of-type {\n",
       "        vertical-align: middle;\n",
       "    }\n",
       "\n",
       "    .dataframe tbody tr th {\n",
       "        vertical-align: top;\n",
       "    }\n",
       "\n",
       "    .dataframe thead th {\n",
       "        text-align: right;\n",
       "    }\n",
       "</style>\n",
       "<table border=\"1\" class=\"dataframe\">\n",
       "  <thead>\n",
       "    <tr style=\"text-align: right;\">\n",
       "      <th></th>\n",
       "      <th>serial_no</th>\n",
       "      <th>date</th>\n",
       "      <th>user_id</th>\n",
       "      <th>product_id</th>\n",
       "      <th>quantity_purchased</th>\n",
       "      <th>price</th>\n",
       "      <th>user_type</th>\n",
       "    </tr>\n",
       "  </thead>\n",
       "  <tbody>\n",
       "    <tr>\n",
       "      <th>10</th>\n",
       "      <td>1010</td>\n",
       "      <td>2016-03-01</td>\n",
       "      <td>5554</td>\n",
       "      <td>281</td>\n",
       "      <td>8</td>\n",
       "      <td>5146.46</td>\n",
       "      <td>n</td>\n",
       "    </tr>\n",
       "    <tr>\n",
       "      <th>501</th>\n",
       "      <td>1501</td>\n",
       "      <td>2016-01-31</td>\n",
       "      <td>5642</td>\n",
       "      <td>240</td>\n",
       "      <td>15</td>\n",
       "      <td>1890.20</td>\n",
       "      <td>b</td>\n",
       "    </tr>\n",
       "    <tr>\n",
       "      <th>20</th>\n",
       "      <td>1020</td>\n",
       "      <td>2016-11-01</td>\n",
       "      <td>5090</td>\n",
       "      <td>431</td>\n",
       "      <td>2</td>\n",
       "      <td>2850.94</td>\n",
       "      <td>n</td>\n",
       "    </tr>\n",
       "  </tbody>\n",
       "</table>\n",
       "</div>"
      ],
      "text/plain": [
       "     serial_no        date  user_id  product_id  quantity_purchased    price  \\\n",
       "10        1010  2016-03-01     5554         281                   8  5146.46   \n",
       "501       1501  2016-01-31     5642         240                  15  1890.20   \n",
       "20        1020  2016-11-01     5090         431                   2  2850.94   \n",
       "\n",
       "    user_type  \n",
       "10          n  \n",
       "501         b  \n",
       "20          n  "
      ]
     },
     "metadata": {},
     "output_type": "display_data"
    }
   ],
   "source": [
    "display(df.iloc[[10,501,20]])"
   ]
  },
  {
   "cell_type": "markdown",
   "metadata": {},
   "source": [
    "+ Exclude Specific Row indices"
   ]
  },
  {
   "cell_type": "code",
   "execution_count": 19,
   "metadata": {},
   "outputs": [
    {
     "data": {
      "text/html": [
       "<div>\n",
       "<style scoped>\n",
       "    .dataframe tbody tr th:only-of-type {\n",
       "        vertical-align: middle;\n",
       "    }\n",
       "\n",
       "    .dataframe tbody tr th {\n",
       "        vertical-align: top;\n",
       "    }\n",
       "\n",
       "    .dataframe thead th {\n",
       "        text-align: right;\n",
       "    }\n",
       "</style>\n",
       "<table border=\"1\" class=\"dataframe\">\n",
       "  <thead>\n",
       "    <tr style=\"text-align: right;\">\n",
       "      <th></th>\n",
       "      <th>serial_no</th>\n",
       "      <th>date</th>\n",
       "      <th>user_id</th>\n",
       "      <th>product_id</th>\n",
       "      <th>quantity_purchased</th>\n",
       "      <th>price</th>\n",
       "      <th>user_type</th>\n",
       "    </tr>\n",
       "  </thead>\n",
       "  <tbody>\n",
       "    <tr>\n",
       "      <th>1</th>\n",
       "      <td>1001</td>\n",
       "      <td>NaN</td>\n",
       "      <td>5642</td>\n",
       "      <td>240</td>\n",
       "      <td>4</td>\n",
       "      <td>1272.74</td>\n",
       "      <td>n</td>\n",
       "    </tr>\n",
       "    <tr>\n",
       "      <th>2</th>\n",
       "      <td>1002</td>\n",
       "      <td>2016-04-02</td>\n",
       "      <td>5243</td>\n",
       "      <td>120</td>\n",
       "      <td>6</td>\n",
       "      <td>202.13</td>\n",
       "      <td>n</td>\n",
       "    </tr>\n",
       "    <tr>\n",
       "      <th>3</th>\n",
       "      <td>1003</td>\n",
       "      <td>2016-02-02</td>\n",
       "      <td>5117</td>\n",
       "      <td>468</td>\n",
       "      <td>26</td>\n",
       "      <td>1639.30</td>\n",
       "      <td>n</td>\n",
       "    </tr>\n",
       "    <tr>\n",
       "      <th>4</th>\n",
       "      <td>1004</td>\n",
       "      <td>2016-05-01</td>\n",
       "      <td>5053</td>\n",
       "      <td>210</td>\n",
       "      <td>36</td>\n",
       "      <td>1589.92</td>\n",
       "      <td>n</td>\n",
       "    </tr>\n",
       "    <tr>\n",
       "      <th>5</th>\n",
       "      <td>1005</td>\n",
       "      <td>NaN</td>\n",
       "      <td>5708</td>\n",
       "      <td>777</td>\n",
       "      <td>1</td>\n",
       "      <td>3777.23</td>\n",
       "      <td>n</td>\n",
       "    </tr>\n",
       "  </tbody>\n",
       "</table>\n",
       "</div>"
      ],
      "text/plain": [
       "   serial_no        date  user_id  product_id  quantity_purchased    price  \\\n",
       "1       1001         NaN     5642         240                   4  1272.74   \n",
       "2       1002  2016-04-02     5243         120                   6   202.13   \n",
       "3       1003  2016-02-02     5117         468                  26  1639.30   \n",
       "4       1004  2016-05-01     5053         210                  36  1589.92   \n",
       "5       1005         NaN     5708         777                   1  3777.23   \n",
       "\n",
       "  user_type  \n",
       "1         n  \n",
       "2         n  \n",
       "3         n  \n",
       "4         n  \n",
       "5         n  "
      ]
     },
     "metadata": {},
     "output_type": "display_data"
    }
   ],
   "source": [
    "display(df.drop([0,24,51], axis=0).head())"
   ]
  },
  {
   "cell_type": "markdown",
   "metadata": {},
   "source": [
    "+ Conditional Filtering"
   ]
  },
  {
   "cell_type": "code",
   "execution_count": 20,
   "metadata": {},
   "outputs": [
    {
     "data": {
      "text/html": [
       "<div>\n",
       "<style scoped>\n",
       "    .dataframe tbody tr th:only-of-type {\n",
       "        vertical-align: middle;\n",
       "    }\n",
       "\n",
       "    .dataframe tbody tr th {\n",
       "        vertical-align: top;\n",
       "    }\n",
       "\n",
       "    .dataframe thead th {\n",
       "        text-align: right;\n",
       "    }\n",
       "</style>\n",
       "<table border=\"1\" class=\"dataframe\">\n",
       "  <thead>\n",
       "    <tr style=\"text-align: right;\">\n",
       "      <th></th>\n",
       "      <th>serial_no</th>\n",
       "      <th>date</th>\n",
       "      <th>user_id</th>\n",
       "      <th>product_id</th>\n",
       "      <th>quantity_purchased</th>\n",
       "      <th>price</th>\n",
       "      <th>user_type</th>\n",
       "    </tr>\n",
       "  </thead>\n",
       "  <tbody>\n",
       "    <tr>\n",
       "      <th>3</th>\n",
       "      <td>1003</td>\n",
       "      <td>2016-02-02</td>\n",
       "      <td>5117</td>\n",
       "      <td>468</td>\n",
       "      <td>26</td>\n",
       "      <td>1639.30</td>\n",
       "      <td>n</td>\n",
       "    </tr>\n",
       "    <tr>\n",
       "      <th>4</th>\n",
       "      <td>1004</td>\n",
       "      <td>2016-05-01</td>\n",
       "      <td>5053</td>\n",
       "      <td>210</td>\n",
       "      <td>36</td>\n",
       "      <td>1589.92</td>\n",
       "      <td>n</td>\n",
       "    </tr>\n",
       "    <tr>\n",
       "      <th>16</th>\n",
       "      <td>-1</td>\n",
       "      <td>2016-03-01</td>\n",
       "      <td>5264</td>\n",
       "      <td>424</td>\n",
       "      <td>38</td>\n",
       "      <td>3839.58</td>\n",
       "      <td>c</td>\n",
       "    </tr>\n",
       "    <tr>\n",
       "      <th>22</th>\n",
       "      <td>1022</td>\n",
       "      <td>2016-03-01</td>\n",
       "      <td>5669</td>\n",
       "      <td>995</td>\n",
       "      <td>28</td>\n",
       "      <td>15.02</td>\n",
       "      <td>n</td>\n",
       "    </tr>\n",
       "    <tr>\n",
       "      <th>26</th>\n",
       "      <td>1026</td>\n",
       "      <td>2016-01-20</td>\n",
       "      <td>5353</td>\n",
       "      <td>395</td>\n",
       "      <td>36</td>\n",
       "      <td>1639.36</td>\n",
       "      <td>n</td>\n",
       "    </tr>\n",
       "  </tbody>\n",
       "</table>\n",
       "</div>"
      ],
      "text/plain": [
       "    serial_no        date  user_id  product_id  quantity_purchased    price  \\\n",
       "3        1003  2016-02-02     5117         468                  26  1639.30   \n",
       "4        1004  2016-05-01     5053         210                  36  1589.92   \n",
       "16         -1  2016-03-01     5264         424                  38  3839.58   \n",
       "22       1022  2016-03-01     5669         995                  28    15.02   \n",
       "26       1026  2016-01-20     5353         395                  36  1639.36   \n",
       "\n",
       "   user_type  \n",
       "3          n  \n",
       "4          n  \n",
       "16         c  \n",
       "22         n  \n",
       "26         n  "
      ]
     },
     "metadata": {},
     "output_type": "display_data"
    }
   ],
   "source": [
    "display(df[df.quantity_purchased>25].head())"
   ]
  },
  {
   "cell_type": "markdown",
   "metadata": {},
   "source": [
    "+ Offset from top of the dataframe"
   ]
  },
  {
   "cell_type": "code",
   "execution_count": 21,
   "metadata": {},
   "outputs": [
    {
     "data": {
      "text/html": [
       "<div>\n",
       "<style scoped>\n",
       "    .dataframe tbody tr th:only-of-type {\n",
       "        vertical-align: middle;\n",
       "    }\n",
       "\n",
       "    .dataframe tbody tr th {\n",
       "        vertical-align: top;\n",
       "    }\n",
       "\n",
       "    .dataframe thead th {\n",
       "        text-align: right;\n",
       "    }\n",
       "</style>\n",
       "<table border=\"1\" class=\"dataframe\">\n",
       "  <thead>\n",
       "    <tr style=\"text-align: right;\">\n",
       "      <th></th>\n",
       "      <th>serial_no</th>\n",
       "      <th>date</th>\n",
       "      <th>user_id</th>\n",
       "      <th>product_id</th>\n",
       "      <th>quantity_purchased</th>\n",
       "      <th>price</th>\n",
       "      <th>user_type</th>\n",
       "    </tr>\n",
       "  </thead>\n",
       "  <tbody>\n",
       "    <tr>\n",
       "      <th>100</th>\n",
       "      <td>1100</td>\n",
       "      <td>2016-10-02</td>\n",
       "      <td>5937</td>\n",
       "      <td>873</td>\n",
       "      <td>23</td>\n",
       "      <td>2953.36</td>\n",
       "      <td>a</td>\n",
       "    </tr>\n",
       "    <tr>\n",
       "      <th>101</th>\n",
       "      <td>1101</td>\n",
       "      <td>2016-10-01</td>\n",
       "      <td>5642</td>\n",
       "      <td>240</td>\n",
       "      <td>17</td>\n",
       "      <td>1916.11</td>\n",
       "      <td>a</td>\n",
       "    </tr>\n",
       "    <tr>\n",
       "      <th>102</th>\n",
       "      <td>1102</td>\n",
       "      <td>2016-01-19</td>\n",
       "      <td>5243</td>\n",
       "      <td>120</td>\n",
       "      <td>20</td>\n",
       "      <td>3100.74</td>\n",
       "      <td>c</td>\n",
       "    </tr>\n",
       "    <tr>\n",
       "      <th>103</th>\n",
       "      <td>1103</td>\n",
       "      <td>2016-01-25</td>\n",
       "      <td>5117</td>\n",
       "      <td>468</td>\n",
       "      <td>26</td>\n",
       "      <td>4217.24</td>\n",
       "      <td>d</td>\n",
       "    </tr>\n",
       "    <tr>\n",
       "      <th>104</th>\n",
       "      <td>1104</td>\n",
       "      <td>2016-01-16</td>\n",
       "      <td>5053</td>\n",
       "      <td>210</td>\n",
       "      <td>5</td>\n",
       "      <td>1842.58</td>\n",
       "      <td>b</td>\n",
       "    </tr>\n",
       "  </tbody>\n",
       "</table>\n",
       "</div>"
      ],
      "text/plain": [
       "     serial_no        date  user_id  product_id  quantity_purchased    price  \\\n",
       "100       1100  2016-10-02     5937         873                  23  2953.36   \n",
       "101       1101  2016-10-01     5642         240                  17  1916.11   \n",
       "102       1102  2016-01-19     5243         120                  20  3100.74   \n",
       "103       1103  2016-01-25     5117         468                  26  4217.24   \n",
       "104       1104  2016-01-16     5053         210                   5  1842.58   \n",
       "\n",
       "    user_type  \n",
       "100         a  \n",
       "101         a  \n",
       "102         c  \n",
       "103         d  \n",
       "104         b  "
      ]
     },
     "metadata": {},
     "output_type": "display_data"
    }
   ],
   "source": [
    "display(df[100:].head())"
   ]
  },
  {
   "cell_type": "markdown",
   "metadata": {},
   "source": [
    "+ Offset from bottom of the dataframe"
   ]
  },
  {
   "cell_type": "code",
   "execution_count": 22,
   "metadata": {},
   "outputs": [
    {
     "data": {
      "text/html": [
       "<div>\n",
       "<style scoped>\n",
       "    .dataframe tbody tr th:only-of-type {\n",
       "        vertical-align: middle;\n",
       "    }\n",
       "\n",
       "    .dataframe tbody tr th {\n",
       "        vertical-align: top;\n",
       "    }\n",
       "\n",
       "    .dataframe thead th {\n",
       "        text-align: right;\n",
       "    }\n",
       "</style>\n",
       "<table border=\"1\" class=\"dataframe\">\n",
       "  <thead>\n",
       "    <tr style=\"text-align: right;\">\n",
       "      <th></th>\n",
       "      <th>serial_no</th>\n",
       "      <th>date</th>\n",
       "      <th>user_id</th>\n",
       "      <th>product_id</th>\n",
       "      <th>quantity_purchased</th>\n",
       "      <th>price</th>\n",
       "      <th>user_type</th>\n",
       "    </tr>\n",
       "  </thead>\n",
       "  <tbody>\n",
       "    <tr>\n",
       "      <th>990</th>\n",
       "      <td>1990</td>\n",
       "      <td>2016-01-30</td>\n",
       "      <td>5412</td>\n",
       "      <td>1006</td>\n",
       "      <td>34</td>\n",
       "      <td>3170.27</td>\n",
       "      <td>c</td>\n",
       "    </tr>\n",
       "    <tr>\n",
       "      <th>991</th>\n",
       "      <td>1991</td>\n",
       "      <td>2016-01-26</td>\n",
       "      <td>5109</td>\n",
       "      <td>330</td>\n",
       "      <td>37</td>\n",
       "      <td>1529.99</td>\n",
       "      <td>b</td>\n",
       "    </tr>\n",
       "    <tr>\n",
       "      <th>992</th>\n",
       "      <td>1992</td>\n",
       "      <td>2016-01-02</td>\n",
       "      <td>5269</td>\n",
       "      <td>154</td>\n",
       "      <td>18</td>\n",
       "      <td>394.78</td>\n",
       "      <td>b</td>\n",
       "    </tr>\n",
       "    <tr>\n",
       "      <th>993</th>\n",
       "      <td>1993</td>\n",
       "      <td>2016-01-24</td>\n",
       "      <td>5046</td>\n",
       "      <td>711</td>\n",
       "      <td>20</td>\n",
       "      <td>839.53</td>\n",
       "      <td>b</td>\n",
       "    </tr>\n",
       "    <tr>\n",
       "      <th>994</th>\n",
       "      <td>1994</td>\n",
       "      <td>2016-01-16</td>\n",
       "      <td>5931</td>\n",
       "      <td>203</td>\n",
       "      <td>5</td>\n",
       "      <td>1049.97</td>\n",
       "      <td>d</td>\n",
       "    </tr>\n",
       "  </tbody>\n",
       "</table>\n",
       "</div>"
      ],
      "text/plain": [
       "     serial_no        date  user_id  product_id  quantity_purchased    price  \\\n",
       "990       1990  2016-01-30     5412        1006                  34  3170.27   \n",
       "991       1991  2016-01-26     5109         330                  37  1529.99   \n",
       "992       1992  2016-01-02     5269         154                  18   394.78   \n",
       "993       1993  2016-01-24     5046         711                  20   839.53   \n",
       "994       1994  2016-01-16     5931         203                   5  1049.97   \n",
       "\n",
       "    user_type  \n",
       "990         c  \n",
       "991         b  \n",
       "992         b  \n",
       "993         b  \n",
       "994         d  "
      ]
     },
     "metadata": {},
     "output_type": "display_data"
    }
   ],
   "source": [
    "display(df[-10:].head())"
   ]
  },
  {
   "cell_type": "markdown",
   "metadata": {},
   "source": [
    "## TypeCasting/Data Type Conversion"
   ]
  },
  {
   "cell_type": "code",
   "execution_count": 23,
   "metadata": {},
   "outputs": [
    {
     "name": "stdout",
     "output_type": "stream",
     "text": [
      "serial_no                      int32\n",
      "date                  datetime64[ns]\n",
      "user_id                        int64\n",
      "product_id                     int64\n",
      "quantity_purchased             int32\n",
      "price                        float64\n",
      "user_type                     object\n",
      "dtype: object\n"
     ]
    }
   ],
   "source": [
    "df['date'] = pd.to_datetime(df.date)\n",
    "# compare dtypes of the original df with this one\n",
    "print(df.dtypes)"
   ]
  },
  {
   "cell_type": "markdown",
   "metadata": {},
   "source": [
    "## Apply/Map Usage\n",
    "+ Map : Create a derived attribute using map"
   ]
  },
  {
   "cell_type": "code",
   "execution_count": 24,
   "metadata": {},
   "outputs": [
    {
     "data": {
      "text/html": [
       "<div>\n",
       "<style scoped>\n",
       "    .dataframe tbody tr th:only-of-type {\n",
       "        vertical-align: middle;\n",
       "    }\n",
       "\n",
       "    .dataframe tbody tr th {\n",
       "        vertical-align: top;\n",
       "    }\n",
       "\n",
       "    .dataframe thead th {\n",
       "        text-align: right;\n",
       "    }\n",
       "</style>\n",
       "<table border=\"1\" class=\"dataframe\">\n",
       "  <thead>\n",
       "    <tr style=\"text-align: right;\">\n",
       "      <th></th>\n",
       "      <th>serial_no</th>\n",
       "      <th>date</th>\n",
       "      <th>user_id</th>\n",
       "      <th>product_id</th>\n",
       "      <th>quantity_purchased</th>\n",
       "      <th>price</th>\n",
       "      <th>user_type</th>\n",
       "      <th>user_class</th>\n",
       "    </tr>\n",
       "  </thead>\n",
       "  <tbody>\n",
       "    <tr>\n",
       "      <th>995</th>\n",
       "      <td>1995</td>\n",
       "      <td>2016-01-19</td>\n",
       "      <td>5264</td>\n",
       "      <td>702</td>\n",
       "      <td>18</td>\n",
       "      <td>2310.92</td>\n",
       "      <td>c</td>\n",
       "      <td>existing</td>\n",
       "    </tr>\n",
       "    <tr>\n",
       "      <th>996</th>\n",
       "      <td>1996</td>\n",
       "      <td>2016-02-02</td>\n",
       "      <td>5098</td>\n",
       "      <td>728</td>\n",
       "      <td>14</td>\n",
       "      <td>3138.19</td>\n",
       "      <td>a</td>\n",
       "      <td>new</td>\n",
       "    </tr>\n",
       "    <tr>\n",
       "      <th>997</th>\n",
       "      <td>1997</td>\n",
       "      <td>2016-03-01</td>\n",
       "      <td>5353</td>\n",
       "      <td>661</td>\n",
       "      <td>38</td>\n",
       "      <td>2031.50</td>\n",
       "      <td>c</td>\n",
       "      <td>existing</td>\n",
       "    </tr>\n",
       "    <tr>\n",
       "      <th>998</th>\n",
       "      <td>1998</td>\n",
       "      <td>2016-10-02</td>\n",
       "      <td>5070</td>\n",
       "      <td>899</td>\n",
       "      <td>8</td>\n",
       "      <td>729.06</td>\n",
       "      <td>b</td>\n",
       "      <td>new</td>\n",
       "    </tr>\n",
       "    <tr>\n",
       "      <th>999</th>\n",
       "      <td>1999</td>\n",
       "      <td>2016-01-14</td>\n",
       "      <td>5983</td>\n",
       "      <td>477</td>\n",
       "      <td>29</td>\n",
       "      <td>3893.11</td>\n",
       "      <td>d</td>\n",
       "      <td>loyal_existing</td>\n",
       "    </tr>\n",
       "  </tbody>\n",
       "</table>\n",
       "</div>"
      ],
      "text/plain": [
       "     serial_no       date  user_id  product_id  quantity_purchased    price  \\\n",
       "995       1995 2016-01-19     5264         702                  18  2310.92   \n",
       "996       1996 2016-02-02     5098         728                  14  3138.19   \n",
       "997       1997 2016-03-01     5353         661                  38  2031.50   \n",
       "998       1998 2016-10-02     5070         899                   8   729.06   \n",
       "999       1999 2016-01-14     5983         477                  29  3893.11   \n",
       "\n",
       "    user_type      user_class  \n",
       "995         c        existing  \n",
       "996         a             new  \n",
       "997         c        existing  \n",
       "998         b             new  \n",
       "999         d  loyal_existing  "
      ]
     },
     "metadata": {},
     "output_type": "display_data"
    }
   ],
   "source": [
    "df['user_class'] = df['user_type'].map(expand_user_type)\n",
    "display(df.tail())"
   ]
  },
  {
   "cell_type": "markdown",
   "metadata": {},
   "source": [
    "+ Apply: Using apply to get attribute ranges"
   ]
  },
  {
   "cell_type": "code",
   "execution_count": 25,
   "metadata": {},
   "outputs": [
    {
     "data": {
      "text/plain": [
       "serial_no             2000.00\n",
       "user_id               6090.00\n",
       "product_id            1088.00\n",
       "quantity_purchased      40.00\n",
       "price                 7807.48\n",
       "dtype: float64"
      ]
     },
     "metadata": {},
     "output_type": "display_data"
    }
   ],
   "source": [
    "display(df.select_dtypes(include=[np.number]).apply(lambda x: \n",
    "                                                        x.max()- x.min()))"
   ]
  },
  {
   "cell_type": "markdown",
   "metadata": {},
   "source": [
    "+ Applymap: Extract week from date"
   ]
  },
  {
   "cell_type": "code",
   "execution_count": 26,
   "metadata": {},
   "outputs": [],
   "source": [
    "df['purchase_week'] = df[['date']].applymap(lambda dt:dt.week \n",
    "                                                if not pd.isnull(dt.week) \n",
    "                                                else 0)"
   ]
  },
  {
   "cell_type": "code",
   "execution_count": 27,
   "metadata": {},
   "outputs": [
    {
     "data": {
      "text/html": [
       "<div>\n",
       "<style scoped>\n",
       "    .dataframe tbody tr th:only-of-type {\n",
       "        vertical-align: middle;\n",
       "    }\n",
       "\n",
       "    .dataframe tbody tr th {\n",
       "        vertical-align: top;\n",
       "    }\n",
       "\n",
       "    .dataframe thead th {\n",
       "        text-align: right;\n",
       "    }\n",
       "</style>\n",
       "<table border=\"1\" class=\"dataframe\">\n",
       "  <thead>\n",
       "    <tr style=\"text-align: right;\">\n",
       "      <th></th>\n",
       "      <th>serial_no</th>\n",
       "      <th>date</th>\n",
       "      <th>user_id</th>\n",
       "      <th>product_id</th>\n",
       "      <th>quantity_purchased</th>\n",
       "      <th>price</th>\n",
       "      <th>user_type</th>\n",
       "      <th>user_class</th>\n",
       "      <th>purchase_week</th>\n",
       "    </tr>\n",
       "  </thead>\n",
       "  <tbody>\n",
       "    <tr>\n",
       "      <th>0</th>\n",
       "      <td>1000</td>\n",
       "      <td>NaT</td>\n",
       "      <td>-101</td>\n",
       "      <td>0</td>\n",
       "      <td>7</td>\n",
       "      <td>1902.95</td>\n",
       "      <td>n</td>\n",
       "      <td>error</td>\n",
       "      <td>0</td>\n",
       "    </tr>\n",
       "    <tr>\n",
       "      <th>1</th>\n",
       "      <td>1001</td>\n",
       "      <td>NaT</td>\n",
       "      <td>5642</td>\n",
       "      <td>240</td>\n",
       "      <td>4</td>\n",
       "      <td>1272.74</td>\n",
       "      <td>n</td>\n",
       "      <td>error</td>\n",
       "      <td>0</td>\n",
       "    </tr>\n",
       "    <tr>\n",
       "      <th>2</th>\n",
       "      <td>1002</td>\n",
       "      <td>2016-04-02</td>\n",
       "      <td>5243</td>\n",
       "      <td>120</td>\n",
       "      <td>6</td>\n",
       "      <td>202.13</td>\n",
       "      <td>n</td>\n",
       "      <td>error</td>\n",
       "      <td>13</td>\n",
       "    </tr>\n",
       "    <tr>\n",
       "      <th>3</th>\n",
       "      <td>1003</td>\n",
       "      <td>2016-02-02</td>\n",
       "      <td>5117</td>\n",
       "      <td>468</td>\n",
       "      <td>26</td>\n",
       "      <td>1639.30</td>\n",
       "      <td>n</td>\n",
       "      <td>error</td>\n",
       "      <td>5</td>\n",
       "    </tr>\n",
       "    <tr>\n",
       "      <th>4</th>\n",
       "      <td>1004</td>\n",
       "      <td>2016-05-01</td>\n",
       "      <td>5053</td>\n",
       "      <td>210</td>\n",
       "      <td>36</td>\n",
       "      <td>1589.92</td>\n",
       "      <td>n</td>\n",
       "      <td>error</td>\n",
       "      <td>17</td>\n",
       "    </tr>\n",
       "  </tbody>\n",
       "</table>\n",
       "</div>"
      ],
      "text/plain": [
       "   serial_no       date  user_id  product_id  quantity_purchased    price  \\\n",
       "0       1000        NaT     -101           0                   7  1902.95   \n",
       "1       1001        NaT     5642         240                   4  1272.74   \n",
       "2       1002 2016-04-02     5243         120                   6   202.13   \n",
       "3       1003 2016-02-02     5117         468                  26  1639.30   \n",
       "4       1004 2016-05-01     5053         210                  36  1589.92   \n",
       "\n",
       "  user_type user_class  purchase_week  \n",
       "0         n      error              0  \n",
       "1         n      error              0  \n",
       "2         n      error             13  \n",
       "3         n      error              5  \n",
       "4         n      error             17  "
      ]
     },
     "metadata": {},
     "output_type": "display_data"
    }
   ],
   "source": [
    "display(df.head())"
   ]
  },
  {
   "cell_type": "markdown",
   "metadata": {},
   "source": [
    "## Missing Values\n",
    "+ Drop Rows with missing dates"
   ]
  },
  {
   "cell_type": "code",
   "execution_count": 28,
   "metadata": {},
   "outputs": [
    {
     "data": {
      "text/html": [
       "<div>\n",
       "<style scoped>\n",
       "    .dataframe tbody tr th:only-of-type {\n",
       "        vertical-align: middle;\n",
       "    }\n",
       "\n",
       "    .dataframe tbody tr th {\n",
       "        vertical-align: top;\n",
       "    }\n",
       "\n",
       "    .dataframe thead th {\n",
       "        text-align: right;\n",
       "    }\n",
       "</style>\n",
       "<table border=\"1\" class=\"dataframe\">\n",
       "  <thead>\n",
       "    <tr style=\"text-align: right;\">\n",
       "      <th></th>\n",
       "      <th>serial_no</th>\n",
       "      <th>date</th>\n",
       "      <th>user_id</th>\n",
       "      <th>product_id</th>\n",
       "      <th>quantity_purchased</th>\n",
       "      <th>price</th>\n",
       "      <th>user_type</th>\n",
       "      <th>user_class</th>\n",
       "      <th>purchase_week</th>\n",
       "    </tr>\n",
       "  </thead>\n",
       "  <tbody>\n",
       "    <tr>\n",
       "      <th>2</th>\n",
       "      <td>1002</td>\n",
       "      <td>2016-04-02</td>\n",
       "      <td>5243</td>\n",
       "      <td>120</td>\n",
       "      <td>6</td>\n",
       "      <td>202.13</td>\n",
       "      <td>n</td>\n",
       "      <td>error</td>\n",
       "      <td>13</td>\n",
       "    </tr>\n",
       "    <tr>\n",
       "      <th>3</th>\n",
       "      <td>1003</td>\n",
       "      <td>2016-02-02</td>\n",
       "      <td>5117</td>\n",
       "      <td>468</td>\n",
       "      <td>26</td>\n",
       "      <td>1639.30</td>\n",
       "      <td>n</td>\n",
       "      <td>error</td>\n",
       "      <td>5</td>\n",
       "    </tr>\n",
       "    <tr>\n",
       "      <th>4</th>\n",
       "      <td>1004</td>\n",
       "      <td>2016-05-01</td>\n",
       "      <td>5053</td>\n",
       "      <td>210</td>\n",
       "      <td>36</td>\n",
       "      <td>1589.92</td>\n",
       "      <td>n</td>\n",
       "      <td>error</td>\n",
       "      <td>17</td>\n",
       "    </tr>\n",
       "    <tr>\n",
       "      <th>8</th>\n",
       "      <td>1008</td>\n",
       "      <td>2016-01-30</td>\n",
       "      <td>5809</td>\n",
       "      <td>598</td>\n",
       "      <td>4</td>\n",
       "      <td>5348.81</td>\n",
       "      <td>n</td>\n",
       "      <td>error</td>\n",
       "      <td>4</td>\n",
       "    </tr>\n",
       "    <tr>\n",
       "      <th>9</th>\n",
       "      <td>1009</td>\n",
       "      <td>2016-04-01</td>\n",
       "      <td>5561</td>\n",
       "      <td>947</td>\n",
       "      <td>23</td>\n",
       "      <td>755.64</td>\n",
       "      <td>n</td>\n",
       "      <td>error</td>\n",
       "      <td>13</td>\n",
       "    </tr>\n",
       "  </tbody>\n",
       "</table>\n",
       "</div>"
      ],
      "text/plain": [
       "   serial_no       date  user_id  product_id  quantity_purchased    price  \\\n",
       "2       1002 2016-04-02     5243         120                   6   202.13   \n",
       "3       1003 2016-02-02     5117         468                  26  1639.30   \n",
       "4       1004 2016-05-01     5053         210                  36  1589.92   \n",
       "8       1008 2016-01-30     5809         598                   4  5348.81   \n",
       "9       1009 2016-04-01     5561         947                  23   755.64   \n",
       "\n",
       "  user_type user_class  purchase_week  \n",
       "2         n      error             13  \n",
       "3         n      error              5  \n",
       "4         n      error             17  \n",
       "8         n      error              4  \n",
       "9         n      error             13  "
      ]
     },
     "metadata": {},
     "output_type": "display_data"
    }
   ],
   "source": [
    "df_dropped = df.dropna(subset=['date'])\n",
    "display(df_dropped.head())"
   ]
  },
  {
   "cell_type": "markdown",
   "metadata": {},
   "source": [
    "+ Fill Missing Price values with mean price"
   ]
  },
  {
   "cell_type": "code",
   "execution_count": 29,
   "metadata": {},
   "outputs": [],
   "source": [
    "df_dropped['price'].fillna(value=np.round(df.price.mean(),decimals=2),\n",
    "                                inplace=True)"
   ]
  },
  {
   "cell_type": "markdown",
   "metadata": {},
   "source": [
    "+ Fill Missing user_type values with value from previous row (forward fill)"
   ]
  },
  {
   "cell_type": "code",
   "execution_count": 30,
   "metadata": {},
   "outputs": [],
   "source": [
    "df_dropped['user_type'].fillna(method='ffill',inplace=True)"
   ]
  },
  {
   "cell_type": "markdown",
   "metadata": {},
   "source": [
    "+ Fill Missing user_type values with value from next row (backward fill)"
   ]
  },
  {
   "cell_type": "code",
   "execution_count": 32,
   "metadata": {},
   "outputs": [],
   "source": [
    "df_dropped['user_type'].fillna(method='bfill',inplace=True)"
   ]
  },
  {
   "cell_type": "markdown",
   "metadata": {},
   "source": [
    "## Duplicates\n",
    "+ Drop Duplicate serial_no rows"
   ]
  },
  {
   "cell_type": "code",
   "execution_count": 33,
   "metadata": {},
   "outputs": [
    {
     "data": {
      "text/html": [
       "<div>\n",
       "<style scoped>\n",
       "    .dataframe tbody tr th:only-of-type {\n",
       "        vertical-align: middle;\n",
       "    }\n",
       "\n",
       "    .dataframe tbody tr th {\n",
       "        vertical-align: top;\n",
       "    }\n",
       "\n",
       "    .dataframe thead th {\n",
       "        text-align: right;\n",
       "    }\n",
       "</style>\n",
       "<table border=\"1\" class=\"dataframe\">\n",
       "  <thead>\n",
       "    <tr style=\"text-align: right;\">\n",
       "      <th></th>\n",
       "      <th>serial_no</th>\n",
       "      <th>date</th>\n",
       "      <th>user_id</th>\n",
       "      <th>product_id</th>\n",
       "      <th>quantity_purchased</th>\n",
       "      <th>price</th>\n",
       "      <th>user_type</th>\n",
       "      <th>user_class</th>\n",
       "      <th>purchase_week</th>\n",
       "    </tr>\n",
       "  </thead>\n",
       "  <tbody>\n",
       "    <tr>\n",
       "      <th>76</th>\n",
       "      <td>-1</td>\n",
       "      <td>2016-07-02</td>\n",
       "      <td>5865</td>\n",
       "      <td>1065</td>\n",
       "      <td>8</td>\n",
       "      <td>2018.40</td>\n",
       "      <td>b</td>\n",
       "      <td>new</td>\n",
       "      <td>26</td>\n",
       "    </tr>\n",
       "    <tr>\n",
       "      <th>85</th>\n",
       "      <td>-1</td>\n",
       "      <td>2016-01-14</td>\n",
       "      <td>5114</td>\n",
       "      <td>525</td>\n",
       "      <td>39</td>\n",
       "      <td>1590.62</td>\n",
       "      <td>d</td>\n",
       "      <td>loyal_existing</td>\n",
       "      <td>2</td>\n",
       "    </tr>\n",
       "    <tr>\n",
       "      <th>126</th>\n",
       "      <td>-1</td>\n",
       "      <td>2016-01-16</td>\n",
       "      <td>5353</td>\n",
       "      <td>395</td>\n",
       "      <td>4</td>\n",
       "      <td>727.70</td>\n",
       "      <td>b</td>\n",
       "      <td>new</td>\n",
       "      <td>2</td>\n",
       "    </tr>\n",
       "    <tr>\n",
       "      <th>165</th>\n",
       "      <td>-1</td>\n",
       "      <td>2016-04-01</td>\n",
       "      <td>5894</td>\n",
       "      <td>380</td>\n",
       "      <td>8</td>\n",
       "      <td>2355.52</td>\n",
       "      <td>d</td>\n",
       "      <td>loyal_existing</td>\n",
       "      <td>13</td>\n",
       "    </tr>\n",
       "    <tr>\n",
       "      <th>181</th>\n",
       "      <td>-1</td>\n",
       "      <td>2016-07-01</td>\n",
       "      <td>5817</td>\n",
       "      <td>560</td>\n",
       "      <td>30</td>\n",
       "      <td>2436.90</td>\n",
       "      <td>a</td>\n",
       "      <td>new</td>\n",
       "      <td>26</td>\n",
       "    </tr>\n",
       "  </tbody>\n",
       "</table>\n",
       "</div>"
      ],
      "text/plain": [
       "     serial_no       date  user_id  product_id  quantity_purchased    price  \\\n",
       "76          -1 2016-07-02     5865        1065                   8  2018.40   \n",
       "85          -1 2016-01-14     5114         525                  39  1590.62   \n",
       "126         -1 2016-01-16     5353         395                   4   727.70   \n",
       "165         -1 2016-04-01     5894         380                   8  2355.52   \n",
       "181         -1 2016-07-01     5817         560                  30  2436.90   \n",
       "\n",
       "    user_type      user_class  purchase_week  \n",
       "76          b             new             26  \n",
       "85          d  loyal_existing              2  \n",
       "126         b             new              2  \n",
       "165         d  loyal_existing             13  \n",
       "181         a             new             26  "
      ]
     },
     "metadata": {},
     "output_type": "display_data"
    },
    {
     "name": "stdout",
     "output_type": "stream",
     "text": [
      "Shape of df=(969, 9)\n"
     ]
    }
   ],
   "source": [
    "# sample duplicates\n",
    "display(df_dropped[df_dropped.duplicated(subset=['serial_no'])].head())\n",
    "print(\"Shape of df={}\".format(df_dropped.shape))"
   ]
  },
  {
   "cell_type": "code",
   "execution_count": 34,
   "metadata": {},
   "outputs": [],
   "source": [
    "df_dropped.drop_duplicates(subset=['serial_no'],inplace=True)"
   ]
  },
  {
   "cell_type": "code",
   "execution_count": 35,
   "metadata": {},
   "outputs": [
    {
     "data": {
      "text/html": [
       "<div>\n",
       "<style scoped>\n",
       "    .dataframe tbody tr th:only-of-type {\n",
       "        vertical-align: middle;\n",
       "    }\n",
       "\n",
       "    .dataframe tbody tr th {\n",
       "        vertical-align: top;\n",
       "    }\n",
       "\n",
       "    .dataframe thead th {\n",
       "        text-align: right;\n",
       "    }\n",
       "</style>\n",
       "<table border=\"1\" class=\"dataframe\">\n",
       "  <thead>\n",
       "    <tr style=\"text-align: right;\">\n",
       "      <th></th>\n",
       "      <th>serial_no</th>\n",
       "      <th>date</th>\n",
       "      <th>user_id</th>\n",
       "      <th>product_id</th>\n",
       "      <th>quantity_purchased</th>\n",
       "      <th>price</th>\n",
       "      <th>user_type</th>\n",
       "      <th>user_class</th>\n",
       "      <th>purchase_week</th>\n",
       "    </tr>\n",
       "  </thead>\n",
       "  <tbody>\n",
       "    <tr>\n",
       "      <th>2</th>\n",
       "      <td>1002</td>\n",
       "      <td>2016-04-02</td>\n",
       "      <td>5243</td>\n",
       "      <td>120</td>\n",
       "      <td>6</td>\n",
       "      <td>202.13</td>\n",
       "      <td>n</td>\n",
       "      <td>error</td>\n",
       "      <td>13</td>\n",
       "    </tr>\n",
       "    <tr>\n",
       "      <th>3</th>\n",
       "      <td>1003</td>\n",
       "      <td>2016-02-02</td>\n",
       "      <td>5117</td>\n",
       "      <td>468</td>\n",
       "      <td>26</td>\n",
       "      <td>1639.30</td>\n",
       "      <td>n</td>\n",
       "      <td>error</td>\n",
       "      <td>5</td>\n",
       "    </tr>\n",
       "    <tr>\n",
       "      <th>4</th>\n",
       "      <td>1004</td>\n",
       "      <td>2016-05-01</td>\n",
       "      <td>5053</td>\n",
       "      <td>210</td>\n",
       "      <td>36</td>\n",
       "      <td>1589.92</td>\n",
       "      <td>n</td>\n",
       "      <td>error</td>\n",
       "      <td>17</td>\n",
       "    </tr>\n",
       "    <tr>\n",
       "      <th>8</th>\n",
       "      <td>1008</td>\n",
       "      <td>2016-01-30</td>\n",
       "      <td>5809</td>\n",
       "      <td>598</td>\n",
       "      <td>4</td>\n",
       "      <td>5348.81</td>\n",
       "      <td>n</td>\n",
       "      <td>error</td>\n",
       "      <td>4</td>\n",
       "    </tr>\n",
       "    <tr>\n",
       "      <th>9</th>\n",
       "      <td>1009</td>\n",
       "      <td>2016-04-01</td>\n",
       "      <td>5561</td>\n",
       "      <td>947</td>\n",
       "      <td>23</td>\n",
       "      <td>755.64</td>\n",
       "      <td>n</td>\n",
       "      <td>error</td>\n",
       "      <td>13</td>\n",
       "    </tr>\n",
       "  </tbody>\n",
       "</table>\n",
       "</div>"
      ],
      "text/plain": [
       "   serial_no       date  user_id  product_id  quantity_purchased    price  \\\n",
       "2       1002 2016-04-02     5243         120                   6   202.13   \n",
       "3       1003 2016-02-02     5117         468                  26  1639.30   \n",
       "4       1004 2016-05-01     5053         210                  36  1589.92   \n",
       "8       1008 2016-01-30     5809         598                   4  5348.81   \n",
       "9       1009 2016-04-01     5561         947                  23   755.64   \n",
       "\n",
       "  user_type user_class  purchase_week  \n",
       "2         n      error             13  \n",
       "3         n      error              5  \n",
       "4         n      error             17  \n",
       "8         n      error              4  \n",
       "9         n      error             13  "
      ]
     },
     "metadata": {},
     "output_type": "display_data"
    },
    {
     "name": "stdout",
     "output_type": "stream",
     "text": [
      "Shape of df=(940, 9)\n"
     ]
    }
   ],
   "source": [
    "# updated dataframe\n",
    "display(df_dropped.head())\n",
    "print(\"Shape of df={}\".format(df_dropped.shape))"
   ]
  },
  {
   "cell_type": "markdown",
   "metadata": {},
   "source": [
    "+ Remove rows which have less than 3 attributes with non-missing data"
   ]
  },
  {
   "cell_type": "code",
   "execution_count": 36,
   "metadata": {},
   "outputs": [
    {
     "data": {
      "text/html": [
       "<div>\n",
       "<style scoped>\n",
       "    .dataframe tbody tr th:only-of-type {\n",
       "        vertical-align: middle;\n",
       "    }\n",
       "\n",
       "    .dataframe tbody tr th {\n",
       "        vertical-align: top;\n",
       "    }\n",
       "\n",
       "    .dataframe thead th {\n",
       "        text-align: right;\n",
       "    }\n",
       "</style>\n",
       "<table border=\"1\" class=\"dataframe\">\n",
       "  <thead>\n",
       "    <tr style=\"text-align: right;\">\n",
       "      <th></th>\n",
       "      <th>serial_no</th>\n",
       "      <th>date</th>\n",
       "      <th>user_id</th>\n",
       "      <th>product_id</th>\n",
       "      <th>quantity_purchased</th>\n",
       "      <th>price</th>\n",
       "      <th>user_type</th>\n",
       "      <th>user_class</th>\n",
       "      <th>purchase_week</th>\n",
       "    </tr>\n",
       "  </thead>\n",
       "  <tbody>\n",
       "    <tr>\n",
       "      <th>0</th>\n",
       "      <td>1000</td>\n",
       "      <td>NaT</td>\n",
       "      <td>-101</td>\n",
       "      <td>0</td>\n",
       "      <td>7</td>\n",
       "      <td>1902.95</td>\n",
       "      <td>n</td>\n",
       "      <td>error</td>\n",
       "      <td>0</td>\n",
       "    </tr>\n",
       "    <tr>\n",
       "      <th>1</th>\n",
       "      <td>1001</td>\n",
       "      <td>NaT</td>\n",
       "      <td>5642</td>\n",
       "      <td>240</td>\n",
       "      <td>4</td>\n",
       "      <td>1272.74</td>\n",
       "      <td>n</td>\n",
       "      <td>error</td>\n",
       "      <td>0</td>\n",
       "    </tr>\n",
       "    <tr>\n",
       "      <th>2</th>\n",
       "      <td>1002</td>\n",
       "      <td>2016-04-02</td>\n",
       "      <td>5243</td>\n",
       "      <td>120</td>\n",
       "      <td>6</td>\n",
       "      <td>202.13</td>\n",
       "      <td>n</td>\n",
       "      <td>error</td>\n",
       "      <td>13</td>\n",
       "    </tr>\n",
       "    <tr>\n",
       "      <th>3</th>\n",
       "      <td>1003</td>\n",
       "      <td>2016-02-02</td>\n",
       "      <td>5117</td>\n",
       "      <td>468</td>\n",
       "      <td>26</td>\n",
       "      <td>1639.30</td>\n",
       "      <td>n</td>\n",
       "      <td>error</td>\n",
       "      <td>5</td>\n",
       "    </tr>\n",
       "    <tr>\n",
       "      <th>4</th>\n",
       "      <td>1004</td>\n",
       "      <td>2016-05-01</td>\n",
       "      <td>5053</td>\n",
       "      <td>210</td>\n",
       "      <td>36</td>\n",
       "      <td>1589.92</td>\n",
       "      <td>n</td>\n",
       "      <td>error</td>\n",
       "      <td>17</td>\n",
       "    </tr>\n",
       "  </tbody>\n",
       "</table>\n",
       "</div>"
      ],
      "text/plain": [
       "   serial_no       date  user_id  product_id  quantity_purchased    price  \\\n",
       "0       1000        NaT     -101           0                   7  1902.95   \n",
       "1       1001        NaT     5642         240                   4  1272.74   \n",
       "2       1002 2016-04-02     5243         120                   6   202.13   \n",
       "3       1003 2016-02-02     5117         468                  26  1639.30   \n",
       "4       1004 2016-05-01     5053         210                  36  1589.92   \n",
       "\n",
       "  user_type user_class  purchase_week  \n",
       "0         n      error              0  \n",
       "1         n      error              0  \n",
       "2         n      error             13  \n",
       "3         n      error              5  \n",
       "4         n      error             17  "
      ]
     },
     "metadata": {},
     "output_type": "display_data"
    },
    {
     "name": "stdout",
     "output_type": "stream",
     "text": [
      "Shape of df=(1000, 9)\n"
     ]
    }
   ],
   "source": [
    "display(df.dropna(thresh=3).head())\n",
    "print(\"Shape of df={}\".format(df.dropna(thresh=3).shape))"
   ]
  },
  {
   "cell_type": "markdown",
   "metadata": {},
   "source": [
    "## Encode Categoricals\n",
    "+ One Hot Encoding using get_dummies()"
   ]
  },
  {
   "cell_type": "code",
   "execution_count": 37,
   "metadata": {},
   "outputs": [
    {
     "data": {
      "text/html": [
       "<div>\n",
       "<style scoped>\n",
       "    .dataframe tbody tr th:only-of-type {\n",
       "        vertical-align: middle;\n",
       "    }\n",
       "\n",
       "    .dataframe tbody tr th {\n",
       "        vertical-align: top;\n",
       "    }\n",
       "\n",
       "    .dataframe thead th {\n",
       "        text-align: right;\n",
       "    }\n",
       "</style>\n",
       "<table border=\"1\" class=\"dataframe\">\n",
       "  <thead>\n",
       "    <tr style=\"text-align: right;\">\n",
       "      <th></th>\n",
       "      <th>serial_no</th>\n",
       "      <th>date</th>\n",
       "      <th>user_id</th>\n",
       "      <th>product_id</th>\n",
       "      <th>quantity_purchased</th>\n",
       "      <th>price</th>\n",
       "      <th>user_class</th>\n",
       "      <th>purchase_week</th>\n",
       "      <th>user_type_a</th>\n",
       "      <th>user_type_b</th>\n",
       "      <th>user_type_c</th>\n",
       "      <th>user_type_d</th>\n",
       "      <th>user_type_n</th>\n",
       "    </tr>\n",
       "  </thead>\n",
       "  <tbody>\n",
       "    <tr>\n",
       "      <th>0</th>\n",
       "      <td>1000</td>\n",
       "      <td>NaT</td>\n",
       "      <td>-101</td>\n",
       "      <td>0</td>\n",
       "      <td>7</td>\n",
       "      <td>1902.95</td>\n",
       "      <td>error</td>\n",
       "      <td>0</td>\n",
       "      <td>0</td>\n",
       "      <td>0</td>\n",
       "      <td>0</td>\n",
       "      <td>0</td>\n",
       "      <td>1</td>\n",
       "    </tr>\n",
       "    <tr>\n",
       "      <th>1</th>\n",
       "      <td>1001</td>\n",
       "      <td>NaT</td>\n",
       "      <td>5642</td>\n",
       "      <td>240</td>\n",
       "      <td>4</td>\n",
       "      <td>1272.74</td>\n",
       "      <td>error</td>\n",
       "      <td>0</td>\n",
       "      <td>0</td>\n",
       "      <td>0</td>\n",
       "      <td>0</td>\n",
       "      <td>0</td>\n",
       "      <td>1</td>\n",
       "    </tr>\n",
       "    <tr>\n",
       "      <th>2</th>\n",
       "      <td>1002</td>\n",
       "      <td>2016-04-02</td>\n",
       "      <td>5243</td>\n",
       "      <td>120</td>\n",
       "      <td>6</td>\n",
       "      <td>202.13</td>\n",
       "      <td>error</td>\n",
       "      <td>13</td>\n",
       "      <td>0</td>\n",
       "      <td>0</td>\n",
       "      <td>0</td>\n",
       "      <td>0</td>\n",
       "      <td>1</td>\n",
       "    </tr>\n",
       "    <tr>\n",
       "      <th>3</th>\n",
       "      <td>1003</td>\n",
       "      <td>2016-02-02</td>\n",
       "      <td>5117</td>\n",
       "      <td>468</td>\n",
       "      <td>26</td>\n",
       "      <td>1639.30</td>\n",
       "      <td>error</td>\n",
       "      <td>5</td>\n",
       "      <td>0</td>\n",
       "      <td>0</td>\n",
       "      <td>0</td>\n",
       "      <td>0</td>\n",
       "      <td>1</td>\n",
       "    </tr>\n",
       "    <tr>\n",
       "      <th>4</th>\n",
       "      <td>1004</td>\n",
       "      <td>2016-05-01</td>\n",
       "      <td>5053</td>\n",
       "      <td>210</td>\n",
       "      <td>36</td>\n",
       "      <td>1589.92</td>\n",
       "      <td>error</td>\n",
       "      <td>17</td>\n",
       "      <td>0</td>\n",
       "      <td>0</td>\n",
       "      <td>0</td>\n",
       "      <td>0</td>\n",
       "      <td>1</td>\n",
       "    </tr>\n",
       "  </tbody>\n",
       "</table>\n",
       "</div>"
      ],
      "text/plain": [
       "   serial_no       date  user_id  product_id  quantity_purchased    price  \\\n",
       "0       1000        NaT     -101           0                   7  1902.95   \n",
       "1       1001        NaT     5642         240                   4  1272.74   \n",
       "2       1002 2016-04-02     5243         120                   6   202.13   \n",
       "3       1003 2016-02-02     5117         468                  26  1639.30   \n",
       "4       1004 2016-05-01     5053         210                  36  1589.92   \n",
       "\n",
       "  user_class  purchase_week  user_type_a  user_type_b  user_type_c  \\\n",
       "0      error              0            0            0            0   \n",
       "1      error              0            0            0            0   \n",
       "2      error             13            0            0            0   \n",
       "3      error              5            0            0            0   \n",
       "4      error             17            0            0            0   \n",
       "\n",
       "   user_type_d  user_type_n  \n",
       "0            0            1  \n",
       "1            0            1  \n",
       "2            0            1  \n",
       "3            0            1  \n",
       "4            0            1  "
      ]
     },
     "metadata": {},
     "output_type": "display_data"
    }
   ],
   "source": [
    "display(pd.get_dummies(df,columns=['user_type']).head())"
   ]
  },
  {
   "cell_type": "markdown",
   "metadata": {},
   "source": [
    "+ Label Mapping"
   ]
  },
  {
   "cell_type": "code",
   "execution_count": 38,
   "metadata": {},
   "outputs": [
    {
     "data": {
      "text/html": [
       "<div>\n",
       "<style scoped>\n",
       "    .dataframe tbody tr th:only-of-type {\n",
       "        vertical-align: middle;\n",
       "    }\n",
       "\n",
       "    .dataframe tbody tr th {\n",
       "        vertical-align: top;\n",
       "    }\n",
       "\n",
       "    .dataframe thead th {\n",
       "        text-align: right;\n",
       "    }\n",
       "</style>\n",
       "<table border=\"1\" class=\"dataframe\">\n",
       "  <thead>\n",
       "    <tr style=\"text-align: right;\">\n",
       "      <th></th>\n",
       "      <th>serial_no</th>\n",
       "      <th>date</th>\n",
       "      <th>user_id</th>\n",
       "      <th>product_id</th>\n",
       "      <th>quantity_purchased</th>\n",
       "      <th>price</th>\n",
       "      <th>user_type</th>\n",
       "      <th>user_class</th>\n",
       "      <th>purchase_week</th>\n",
       "      <th>encoded_user_type</th>\n",
       "    </tr>\n",
       "  </thead>\n",
       "  <tbody>\n",
       "    <tr>\n",
       "      <th>995</th>\n",
       "      <td>1995</td>\n",
       "      <td>2016-01-19</td>\n",
       "      <td>5264</td>\n",
       "      <td>702</td>\n",
       "      <td>18</td>\n",
       "      <td>2310.92</td>\n",
       "      <td>c</td>\n",
       "      <td>existing</td>\n",
       "      <td>3</td>\n",
       "      <td>2.0</td>\n",
       "    </tr>\n",
       "    <tr>\n",
       "      <th>996</th>\n",
       "      <td>1996</td>\n",
       "      <td>2016-02-02</td>\n",
       "      <td>5098</td>\n",
       "      <td>728</td>\n",
       "      <td>14</td>\n",
       "      <td>3138.19</td>\n",
       "      <td>a</td>\n",
       "      <td>new</td>\n",
       "      <td>5</td>\n",
       "      <td>0.0</td>\n",
       "    </tr>\n",
       "    <tr>\n",
       "      <th>997</th>\n",
       "      <td>1997</td>\n",
       "      <td>2016-03-01</td>\n",
       "      <td>5353</td>\n",
       "      <td>661</td>\n",
       "      <td>38</td>\n",
       "      <td>2031.50</td>\n",
       "      <td>c</td>\n",
       "      <td>existing</td>\n",
       "      <td>9</td>\n",
       "      <td>2.0</td>\n",
       "    </tr>\n",
       "    <tr>\n",
       "      <th>998</th>\n",
       "      <td>1998</td>\n",
       "      <td>2016-10-02</td>\n",
       "      <td>5070</td>\n",
       "      <td>899</td>\n",
       "      <td>8</td>\n",
       "      <td>729.06</td>\n",
       "      <td>b</td>\n",
       "      <td>new</td>\n",
       "      <td>39</td>\n",
       "      <td>1.0</td>\n",
       "    </tr>\n",
       "    <tr>\n",
       "      <th>999</th>\n",
       "      <td>1999</td>\n",
       "      <td>2016-01-14</td>\n",
       "      <td>5983</td>\n",
       "      <td>477</td>\n",
       "      <td>29</td>\n",
       "      <td>3893.11</td>\n",
       "      <td>d</td>\n",
       "      <td>loyal_existing</td>\n",
       "      <td>2</td>\n",
       "      <td>3.0</td>\n",
       "    </tr>\n",
       "  </tbody>\n",
       "</table>\n",
       "</div>"
      ],
      "text/plain": [
       "     serial_no       date  user_id  product_id  quantity_purchased    price  \\\n",
       "995       1995 2016-01-19     5264         702                  18  2310.92   \n",
       "996       1996 2016-02-02     5098         728                  14  3138.19   \n",
       "997       1997 2016-03-01     5353         661                  38  2031.50   \n",
       "998       1998 2016-10-02     5070         899                   8   729.06   \n",
       "999       1999 2016-01-14     5983         477                  29  3893.11   \n",
       "\n",
       "    user_type      user_class  purchase_week  encoded_user_type  \n",
       "995         c        existing              3                2.0  \n",
       "996         a             new              5                0.0  \n",
       "997         c        existing              9                2.0  \n",
       "998         b             new             39                1.0  \n",
       "999         d  loyal_existing              2                3.0  "
      ]
     },
     "metadata": {},
     "output_type": "display_data"
    }
   ],
   "source": [
    "type_map={'a':0,'b':1,'c':2,'d':3,np.NAN:-1}\n",
    "df['encoded_user_type'] = df.user_type.map(type_map)\n",
    "display((df.tail()))"
   ]
  },
  {
   "cell_type": "markdown",
   "metadata": {},
   "source": [
    "## Random Sampling data from DataFrame"
   ]
  },
  {
   "cell_type": "code",
   "execution_count": 39,
   "metadata": {},
   "outputs": [
    {
     "data": {
      "text/html": [
       "<div>\n",
       "<style scoped>\n",
       "    .dataframe tbody tr th:only-of-type {\n",
       "        vertical-align: middle;\n",
       "    }\n",
       "\n",
       "    .dataframe tbody tr th {\n",
       "        vertical-align: top;\n",
       "    }\n",
       "\n",
       "    .dataframe thead th {\n",
       "        text-align: right;\n",
       "    }\n",
       "</style>\n",
       "<table border=\"1\" class=\"dataframe\">\n",
       "  <thead>\n",
       "    <tr style=\"text-align: right;\">\n",
       "      <th></th>\n",
       "      <th>serial_no</th>\n",
       "      <th>date</th>\n",
       "      <th>user_id</th>\n",
       "      <th>product_id</th>\n",
       "      <th>quantity_purchased</th>\n",
       "      <th>price</th>\n",
       "      <th>user_type</th>\n",
       "      <th>user_class</th>\n",
       "      <th>purchase_week</th>\n",
       "      <th>encoded_user_type</th>\n",
       "    </tr>\n",
       "  </thead>\n",
       "  <tbody>\n",
       "    <tr>\n",
       "      <th>102</th>\n",
       "      <td>1102</td>\n",
       "      <td>2016-01-19</td>\n",
       "      <td>5243</td>\n",
       "      <td>120</td>\n",
       "      <td>20</td>\n",
       "      <td>3100.74</td>\n",
       "      <td>c</td>\n",
       "      <td>existing</td>\n",
       "      <td>3</td>\n",
       "      <td>2.0</td>\n",
       "    </tr>\n",
       "    <tr>\n",
       "      <th>435</th>\n",
       "      <td>1435</td>\n",
       "      <td>2016-11-01</td>\n",
       "      <td>5632</td>\n",
       "      <td>139</td>\n",
       "      <td>23</td>\n",
       "      <td>408.87</td>\n",
       "      <td>d</td>\n",
       "      <td>loyal_existing</td>\n",
       "      <td>44</td>\n",
       "      <td>3.0</td>\n",
       "    </tr>\n",
       "    <tr>\n",
       "      <th>860</th>\n",
       "      <td>1860</td>\n",
       "      <td>2016-11-01</td>\n",
       "      <td>5741</td>\n",
       "      <td>589</td>\n",
       "      <td>9</td>\n",
       "      <td>2910.69</td>\n",
       "      <td>c</td>\n",
       "      <td>existing</td>\n",
       "      <td>44</td>\n",
       "      <td>2.0</td>\n",
       "    </tr>\n",
       "    <tr>\n",
       "      <th>270</th>\n",
       "      <td>1270</td>\n",
       "      <td>2016-01-23</td>\n",
       "      <td>5908</td>\n",
       "      <td>508</td>\n",
       "      <td>33</td>\n",
       "      <td>2205.02</td>\n",
       "      <td>c</td>\n",
       "      <td>existing</td>\n",
       "      <td>3</td>\n",
       "      <td>2.0</td>\n",
       "    </tr>\n",
       "    <tr>\n",
       "      <th>106</th>\n",
       "      <td>1106</td>\n",
       "      <td>2016-01-13</td>\n",
       "      <td>5801</td>\n",
       "      <td>184</td>\n",
       "      <td>29</td>\n",
       "      <td>3895.55</td>\n",
       "      <td>c</td>\n",
       "      <td>existing</td>\n",
       "      <td>2</td>\n",
       "      <td>2.0</td>\n",
       "    </tr>\n",
       "  </tbody>\n",
       "</table>\n",
       "</div>"
      ],
      "text/plain": [
       "     serial_no       date  user_id  product_id  quantity_purchased    price  \\\n",
       "102       1102 2016-01-19     5243         120                  20  3100.74   \n",
       "435       1435 2016-11-01     5632         139                  23   408.87   \n",
       "860       1860 2016-11-01     5741         589                   9  2910.69   \n",
       "270       1270 2016-01-23     5908         508                  33  2205.02   \n",
       "106       1106 2016-01-13     5801         184                  29  3895.55   \n",
       "\n",
       "    user_type      user_class  purchase_week  encoded_user_type  \n",
       "102         c        existing              3                2.0  \n",
       "435         d  loyal_existing             44                3.0  \n",
       "860         c        existing             44                2.0  \n",
       "270         c        existing              3                2.0  \n",
       "106         c        existing              2                2.0  "
      ]
     },
     "metadata": {},
     "output_type": "display_data"
    }
   ],
   "source": [
    "display(df.sample(frac=0.2, replace=True, random_state=42).head())"
   ]
  },
  {
   "cell_type": "markdown",
   "metadata": {},
   "source": [
    "## Normalizing Numeric Values\n",
    "+ Normalize price values using Min-Max Scaler"
   ]
  },
  {
   "cell_type": "code",
   "execution_count": 40,
   "metadata": {},
   "outputs": [],
   "source": [
    "df_normalized = df.dropna().copy()\n",
    "min_max_scaler = preprocessing.MinMaxScaler()\n",
    "np_scaled = min_max_scaler.fit_transform(df_normalized['price'].values.reshape(-1,1))\n",
    "df_normalized['price'] = np_scaled.reshape(-1,1)"
   ]
  },
  {
   "cell_type": "code",
   "execution_count": 41,
   "metadata": {},
   "outputs": [
    {
     "data": {
      "text/html": [
       "<div>\n",
       "<style scoped>\n",
       "    .dataframe tbody tr th:only-of-type {\n",
       "        vertical-align: middle;\n",
       "    }\n",
       "\n",
       "    .dataframe tbody tr th {\n",
       "        vertical-align: top;\n",
       "    }\n",
       "\n",
       "    .dataframe thead th {\n",
       "        text-align: right;\n",
       "    }\n",
       "</style>\n",
       "<table border=\"1\" class=\"dataframe\">\n",
       "  <thead>\n",
       "    <tr style=\"text-align: right;\">\n",
       "      <th></th>\n",
       "      <th>serial_no</th>\n",
       "      <th>date</th>\n",
       "      <th>user_id</th>\n",
       "      <th>product_id</th>\n",
       "      <th>quantity_purchased</th>\n",
       "      <th>price</th>\n",
       "      <th>user_type</th>\n",
       "      <th>user_class</th>\n",
       "      <th>purchase_week</th>\n",
       "      <th>encoded_user_type</th>\n",
       "    </tr>\n",
       "  </thead>\n",
       "  <tbody>\n",
       "    <tr>\n",
       "      <th>16</th>\n",
       "      <td>-1</td>\n",
       "      <td>2016-03-01</td>\n",
       "      <td>5264</td>\n",
       "      <td>424</td>\n",
       "      <td>38</td>\n",
       "      <td>0.491431</td>\n",
       "      <td>c</td>\n",
       "      <td>existing</td>\n",
       "      <td>9</td>\n",
       "      <td>2.0</td>\n",
       "    </tr>\n",
       "    <tr>\n",
       "      <th>29</th>\n",
       "      <td>1029</td>\n",
       "      <td>2016-11-01</td>\n",
       "      <td>5811</td>\n",
       "      <td>872</td>\n",
       "      <td>20</td>\n",
       "      <td>0.193724</td>\n",
       "      <td>b</td>\n",
       "      <td>new</td>\n",
       "      <td>44</td>\n",
       "      <td>1.0</td>\n",
       "    </tr>\n",
       "    <tr>\n",
       "      <th>38</th>\n",
       "      <td>1038</td>\n",
       "      <td>2016-05-01</td>\n",
       "      <td>5089</td>\n",
       "      <td>344</td>\n",
       "      <td>26</td>\n",
       "      <td>0.272956</td>\n",
       "      <td>d</td>\n",
       "      <td>loyal_existing</td>\n",
       "      <td>17</td>\n",
       "      <td>3.0</td>\n",
       "    </tr>\n",
       "    <tr>\n",
       "      <th>39</th>\n",
       "      <td>1039</td>\n",
       "      <td>2016-08-01</td>\n",
       "      <td>5517</td>\n",
       "      <td>788</td>\n",
       "      <td>41</td>\n",
       "      <td>0.080682</td>\n",
       "      <td>d</td>\n",
       "      <td>loyal_existing</td>\n",
       "      <td>31</td>\n",
       "      <td>3.0</td>\n",
       "    </tr>\n",
       "    <tr>\n",
       "      <th>41</th>\n",
       "      <td>1041</td>\n",
       "      <td>2016-11-01</td>\n",
       "      <td>5106</td>\n",
       "      <td>636</td>\n",
       "      <td>14</td>\n",
       "      <td>0.166362</td>\n",
       "      <td>c</td>\n",
       "      <td>existing</td>\n",
       "      <td>44</td>\n",
       "      <td>2.0</td>\n",
       "    </tr>\n",
       "  </tbody>\n",
       "</table>\n",
       "</div>"
      ],
      "text/plain": [
       "    serial_no       date  user_id  product_id  quantity_purchased     price  \\\n",
       "16         -1 2016-03-01     5264         424                  38  0.491431   \n",
       "29       1029 2016-11-01     5811         872                  20  0.193724   \n",
       "38       1038 2016-05-01     5089         344                  26  0.272956   \n",
       "39       1039 2016-08-01     5517         788                  41  0.080682   \n",
       "41       1041 2016-11-01     5106         636                  14  0.166362   \n",
       "\n",
       "   user_type      user_class  purchase_week  encoded_user_type  \n",
       "16         c        existing              9                2.0  \n",
       "29         b             new             44                1.0  \n",
       "38         d  loyal_existing             17                3.0  \n",
       "39         d  loyal_existing             31                3.0  \n",
       "41         c        existing             44                2.0  "
      ]
     },
     "metadata": {},
     "output_type": "display_data"
    }
   ],
   "source": [
    "display(df_normalized.head())"
   ]
  },
  {
   "cell_type": "markdown",
   "metadata": {},
   "source": [
    "+ Normalize quantity purchased values using Robust Scaler"
   ]
  },
  {
   "cell_type": "code",
   "execution_count": 42,
   "metadata": {},
   "outputs": [],
   "source": [
    "df_normalized = df.dropna().copy()\n",
    "robust_scaler = preprocessing.RobustScaler()\n",
    "rs_scaled = robust_scaler.fit_transform(df_normalized['quantity_purchased'].values.reshape(-1,1))\n",
    "df_normalized['quantity_purchased'] = rs_scaled.reshape(-1,1)"
   ]
  },
  {
   "cell_type": "code",
   "execution_count": 43,
   "metadata": {},
   "outputs": [
    {
     "data": {
      "text/html": [
       "<div>\n",
       "<style scoped>\n",
       "    .dataframe tbody tr th:only-of-type {\n",
       "        vertical-align: middle;\n",
       "    }\n",
       "\n",
       "    .dataframe tbody tr th {\n",
       "        vertical-align: top;\n",
       "    }\n",
       "\n",
       "    .dataframe thead th {\n",
       "        text-align: right;\n",
       "    }\n",
       "</style>\n",
       "<table border=\"1\" class=\"dataframe\">\n",
       "  <thead>\n",
       "    <tr style=\"text-align: right;\">\n",
       "      <th></th>\n",
       "      <th>serial_no</th>\n",
       "      <th>date</th>\n",
       "      <th>user_id</th>\n",
       "      <th>product_id</th>\n",
       "      <th>quantity_purchased</th>\n",
       "      <th>price</th>\n",
       "      <th>user_type</th>\n",
       "      <th>user_class</th>\n",
       "      <th>purchase_week</th>\n",
       "      <th>encoded_user_type</th>\n",
       "    </tr>\n",
       "  </thead>\n",
       "  <tbody>\n",
       "    <tr>\n",
       "      <th>16</th>\n",
       "      <td>-1</td>\n",
       "      <td>2016-03-01</td>\n",
       "      <td>5264</td>\n",
       "      <td>424</td>\n",
       "      <td>0.809524</td>\n",
       "      <td>3839.58</td>\n",
       "      <td>c</td>\n",
       "      <td>existing</td>\n",
       "      <td>9</td>\n",
       "      <td>2.0</td>\n",
       "    </tr>\n",
       "    <tr>\n",
       "      <th>29</th>\n",
       "      <td>1029</td>\n",
       "      <td>2016-11-01</td>\n",
       "      <td>5811</td>\n",
       "      <td>872</td>\n",
       "      <td>-0.047619</td>\n",
       "      <td>1515.24</td>\n",
       "      <td>b</td>\n",
       "      <td>new</td>\n",
       "      <td>44</td>\n",
       "      <td>1.0</td>\n",
       "    </tr>\n",
       "    <tr>\n",
       "      <th>38</th>\n",
       "      <td>1038</td>\n",
       "      <td>2016-05-01</td>\n",
       "      <td>5089</td>\n",
       "      <td>344</td>\n",
       "      <td>0.238095</td>\n",
       "      <td>2133.84</td>\n",
       "      <td>d</td>\n",
       "      <td>loyal_existing</td>\n",
       "      <td>17</td>\n",
       "      <td>3.0</td>\n",
       "    </tr>\n",
       "    <tr>\n",
       "      <th>39</th>\n",
       "      <td>1039</td>\n",
       "      <td>2016-08-01</td>\n",
       "      <td>5517</td>\n",
       "      <td>788</td>\n",
       "      <td>0.952381</td>\n",
       "      <td>632.66</td>\n",
       "      <td>d</td>\n",
       "      <td>loyal_existing</td>\n",
       "      <td>31</td>\n",
       "      <td>3.0</td>\n",
       "    </tr>\n",
       "    <tr>\n",
       "      <th>41</th>\n",
       "      <td>1041</td>\n",
       "      <td>2016-11-01</td>\n",
       "      <td>5106</td>\n",
       "      <td>636</td>\n",
       "      <td>-0.333333</td>\n",
       "      <td>1301.61</td>\n",
       "      <td>c</td>\n",
       "      <td>existing</td>\n",
       "      <td>44</td>\n",
       "      <td>2.0</td>\n",
       "    </tr>\n",
       "  </tbody>\n",
       "</table>\n",
       "</div>"
      ],
      "text/plain": [
       "    serial_no       date  user_id  product_id  quantity_purchased    price  \\\n",
       "16         -1 2016-03-01     5264         424            0.809524  3839.58   \n",
       "29       1029 2016-11-01     5811         872           -0.047619  1515.24   \n",
       "38       1038 2016-05-01     5089         344            0.238095  2133.84   \n",
       "39       1039 2016-08-01     5517         788            0.952381   632.66   \n",
       "41       1041 2016-11-01     5106         636           -0.333333  1301.61   \n",
       "\n",
       "   user_type      user_class  purchase_week  encoded_user_type  \n",
       "16         c        existing              9                2.0  \n",
       "29         b             new             44                1.0  \n",
       "38         d  loyal_existing             17                3.0  \n",
       "39         d  loyal_existing             31                3.0  \n",
       "41         c        existing             44                2.0  "
      ]
     },
     "metadata": {},
     "output_type": "display_data"
    }
   ],
   "source": [
    "display(df_normalized.head())"
   ]
  },
  {
   "cell_type": "markdown",
   "metadata": {},
   "source": [
    "## Data Summarization\n",
    "+ Condition based aggregation"
   ]
  },
  {
   "cell_type": "code",
   "execution_count": 44,
   "metadata": {},
   "outputs": [
    {
     "name": "stdout",
     "output_type": "stream",
     "text": [
      "Mean price of items purchased by user_type=a :: 2452.2727966101706\n"
     ]
    }
   ],
   "source": [
    "print(\"Mean price of items purchased by user_type=a :: {}\".format(df['price'][df['user_type']=='a'].mean()))"
   ]
  },
  {
   "cell_type": "markdown",
   "metadata": {},
   "source": [
    "+ Condtion based counts"
   ]
  },
  {
   "cell_type": "code",
   "execution_count": 45,
   "metadata": {},
   "outputs": [
    {
     "name": "stdout",
     "output_type": "stream",
     "text": [
      "4     159\n",
      "3     159\n",
      "2     118\n",
      "5      59\n",
      "39     51\n",
      "31     51\n",
      "9      50\n",
      "44     46\n",
      "22     46\n",
      "13     44\n",
      "53     42\n",
      "26     41\n",
      "35     37\n",
      "0      31\n",
      "18     25\n",
      "17     21\n",
      "48     20\n",
      "Name: purchase_week, dtype: int64\n"
     ]
    }
   ],
   "source": [
    "print(df['purchase_week'].value_counts())"
   ]
  },
  {
   "cell_type": "markdown",
   "metadata": {},
   "source": [
    "## Group By\n",
    "+ Group By certain attributes"
   ]
  },
  {
   "cell_type": "code",
   "execution_count": 46,
   "metadata": {},
   "outputs": [
    {
     "name": "stdout",
     "output_type": "stream",
     "text": [
      "user_class\n",
      "error               493\n",
      "existing           5573\n",
      "loyal_existing     4539\n",
      "new               10190\n",
      "Name: quantity_purchased, dtype: int32\n"
     ]
    }
   ],
   "source": [
    "print(df.groupby(['user_class'])['quantity_purchased'].sum())"
   ]
  },
  {
   "cell_type": "markdown",
   "metadata": {},
   "source": [
    "+ Group By with different aggregate functions"
   ]
  },
  {
   "cell_type": "code",
   "execution_count": 47,
   "metadata": {},
   "outputs": [
    {
     "data": {
      "text/html": [
       "<div>\n",
       "<style scoped>\n",
       "    .dataframe tbody tr th:only-of-type {\n",
       "        vertical-align: middle;\n",
       "    }\n",
       "\n",
       "    .dataframe tbody tr th {\n",
       "        vertical-align: top;\n",
       "    }\n",
       "\n",
       "    .dataframe thead th {\n",
       "        text-align: right;\n",
       "    }\n",
       "</style>\n",
       "<table border=\"1\" class=\"dataframe\">\n",
       "  <thead>\n",
       "    <tr style=\"text-align: right;\">\n",
       "      <th></th>\n",
       "      <th>sum</th>\n",
       "      <th>mean</th>\n",
       "      <th>count_nonzero</th>\n",
       "    </tr>\n",
       "    <tr>\n",
       "      <th>user_class</th>\n",
       "      <th></th>\n",
       "      <th></th>\n",
       "      <th></th>\n",
       "    </tr>\n",
       "  </thead>\n",
       "  <tbody>\n",
       "    <tr>\n",
       "      <th>error</th>\n",
       "      <td>493</td>\n",
       "      <td>15.903226</td>\n",
       "      <td>31</td>\n",
       "    </tr>\n",
       "    <tr>\n",
       "      <th>existing</th>\n",
       "      <td>5573</td>\n",
       "      <td>21.600775</td>\n",
       "      <td>258</td>\n",
       "    </tr>\n",
       "    <tr>\n",
       "      <th>loyal_existing</th>\n",
       "      <td>4539</td>\n",
       "      <td>20.726027</td>\n",
       "      <td>219</td>\n",
       "    </tr>\n",
       "    <tr>\n",
       "      <th>new</th>\n",
       "      <td>10190</td>\n",
       "      <td>20.711382</td>\n",
       "      <td>492</td>\n",
       "    </tr>\n",
       "  </tbody>\n",
       "</table>\n",
       "</div>"
      ],
      "text/plain": [
       "                  sum       mean  count_nonzero\n",
       "user_class                                     \n",
       "error             493  15.903226             31\n",
       "existing         5573  21.600775            258\n",
       "loyal_existing   4539  20.726027            219\n",
       "new             10190  20.711382            492"
      ]
     },
     "metadata": {},
     "output_type": "display_data"
    }
   ],
   "source": [
    "display(df.groupby(['user_class'])['quantity_purchased'].agg([np.sum,\n",
    "                                                                np.mean,\n",
    "                                                                np.count_nonzero]))"
   ]
  },
  {
   "cell_type": "markdown",
   "metadata": {},
   "source": [
    "+ Group by specific aggregate functions for each attribute"
   ]
  },
  {
   "cell_type": "code",
   "execution_count": 48,
   "metadata": {},
   "outputs": [
    {
     "data": {
      "text/html": [
       "<div>\n",
       "<style scoped>\n",
       "    .dataframe tbody tr th:only-of-type {\n",
       "        vertical-align: middle;\n",
       "    }\n",
       "\n",
       "    .dataframe tbody tr th {\n",
       "        vertical-align: top;\n",
       "    }\n",
       "\n",
       "    .dataframe thead th {\n",
       "        text-align: right;\n",
       "    }\n",
       "</style>\n",
       "<table border=\"1\" class=\"dataframe\">\n",
       "  <thead>\n",
       "    <tr style=\"text-align: right;\">\n",
       "      <th></th>\n",
       "      <th></th>\n",
       "      <th>price</th>\n",
       "      <th>quantity_purchased</th>\n",
       "    </tr>\n",
       "    <tr>\n",
       "      <th>user_class</th>\n",
       "      <th>user_type</th>\n",
       "      <th></th>\n",
       "      <th></th>\n",
       "    </tr>\n",
       "  </thead>\n",
       "  <tbody>\n",
       "    <tr>\n",
       "      <th>error</th>\n",
       "      <th>n</th>\n",
       "      <td>2097.818333</td>\n",
       "      <td>40</td>\n",
       "    </tr>\n",
       "    <tr>\n",
       "      <th>existing</th>\n",
       "      <th>c</th>\n",
       "      <td>2151.669190</td>\n",
       "      <td>41</td>\n",
       "    </tr>\n",
       "    <tr>\n",
       "      <th>loyal_existing</th>\n",
       "      <th>d</th>\n",
       "      <td>2453.508619</td>\n",
       "      <td>41</td>\n",
       "    </tr>\n",
       "    <tr>\n",
       "      <th rowspan=\"2\" valign=\"top\">new</th>\n",
       "      <th>a</th>\n",
       "      <td>2452.272797</td>\n",
       "      <td>41</td>\n",
       "    </tr>\n",
       "    <tr>\n",
       "      <th>b</th>\n",
       "      <td>2415.174512</td>\n",
       "      <td>41</td>\n",
       "    </tr>\n",
       "  </tbody>\n",
       "</table>\n",
       "</div>"
      ],
      "text/plain": [
       "                                price  quantity_purchased\n",
       "user_class     user_type                                 \n",
       "error          n          2097.818333                  40\n",
       "existing       c          2151.669190                  41\n",
       "loyal_existing d          2453.508619                  41\n",
       "new            a          2452.272797                  41\n",
       "               b          2415.174512                  41"
      ]
     },
     "metadata": {},
     "output_type": "display_data"
    }
   ],
   "source": [
    "display(df.groupby(['user_class','user_type']).agg({'price':np.mean,\n",
    "                                                        'quantity_purchased':np.max}))"
   ]
  },
  {
   "cell_type": "markdown",
   "metadata": {},
   "source": [
    "+ Group by with multiple agg for each attribute"
   ]
  },
  {
   "cell_type": "code",
   "execution_count": 49,
   "metadata": {},
   "outputs": [
    {
     "name": "stderr",
     "output_type": "stream",
     "text": [
      "C:\\Users\\INTEL\\Anaconda3\\lib\\site-packages\\pandas\\core\\groupby\\generic.py:1315: FutureWarning: using a dict with renaming is deprecated and will be removed in a future version\n",
      "  return super(DataFrameGroupBy, self).aggregate(arg, *args, **kwargs)\n"
     ]
    },
    {
     "data": {
      "text/html": [
       "<div>\n",
       "<style scoped>\n",
       "    .dataframe tbody tr th:only-of-type {\n",
       "        vertical-align: middle;\n",
       "    }\n",
       "\n",
       "    .dataframe tbody tr th {\n",
       "        vertical-align: top;\n",
       "    }\n",
       "\n",
       "    .dataframe thead tr th {\n",
       "        text-align: left;\n",
       "    }\n",
       "\n",
       "    .dataframe thead tr:last-of-type th {\n",
       "        text-align: right;\n",
       "    }\n",
       "</style>\n",
       "<table border=\"1\" class=\"dataframe\">\n",
       "  <thead>\n",
       "    <tr>\n",
       "      <th></th>\n",
       "      <th></th>\n",
       "      <th colspan=\"4\" halign=\"left\">price</th>\n",
       "      <th>quantity_purchased</th>\n",
       "    </tr>\n",
       "    <tr>\n",
       "      <th></th>\n",
       "      <th></th>\n",
       "      <th>total_price</th>\n",
       "      <th>mean_price</th>\n",
       "      <th>variance_price</th>\n",
       "      <th>count</th>\n",
       "      <th>sum</th>\n",
       "    </tr>\n",
       "    <tr>\n",
       "      <th>user_class</th>\n",
       "      <th>user_type</th>\n",
       "      <th></th>\n",
       "      <th></th>\n",
       "      <th></th>\n",
       "      <th></th>\n",
       "      <th></th>\n",
       "    </tr>\n",
       "  </thead>\n",
       "  <tbody>\n",
       "    <tr>\n",
       "      <th>error</th>\n",
       "      <th>n</th>\n",
       "      <td>62934.55</td>\n",
       "      <td>2097.818333</td>\n",
       "      <td>1589.009617</td>\n",
       "      <td>31.0</td>\n",
       "      <td>493</td>\n",
       "    </tr>\n",
       "    <tr>\n",
       "      <th>existing</th>\n",
       "      <th>c</th>\n",
       "      <td>531462.29</td>\n",
       "      <td>2151.669190</td>\n",
       "      <td>1556.339321</td>\n",
       "      <td>258.0</td>\n",
       "      <td>5573</td>\n",
       "    </tr>\n",
       "    <tr>\n",
       "      <th>loyal_existing</th>\n",
       "      <th>d</th>\n",
       "      <td>515236.81</td>\n",
       "      <td>2453.508619</td>\n",
       "      <td>1664.388639</td>\n",
       "      <td>219.0</td>\n",
       "      <td>4539</td>\n",
       "    </tr>\n",
       "    <tr>\n",
       "      <th rowspan=\"2\" valign=\"top\">new</th>\n",
       "      <th>a</th>\n",
       "      <td>578736.38</td>\n",
       "      <td>2452.272797</td>\n",
       "      <td>1564.933521</td>\n",
       "      <td>238.0</td>\n",
       "      <td>5043</td>\n",
       "    </tr>\n",
       "    <tr>\n",
       "      <th>b</th>\n",
       "      <td>594132.93</td>\n",
       "      <td>2415.174512</td>\n",
       "      <td>1667.443809</td>\n",
       "      <td>254.0</td>\n",
       "      <td>5147</td>\n",
       "    </tr>\n",
       "  </tbody>\n",
       "</table>\n",
       "</div>"
      ],
      "text/plain": [
       "                               price                                     \\\n",
       "                         total_price   mean_price variance_price  count   \n",
       "user_class     user_type                                                  \n",
       "error          n            62934.55  2097.818333    1589.009617   31.0   \n",
       "existing       c           531462.29  2151.669190    1556.339321  258.0   \n",
       "loyal_existing d           515236.81  2453.508619    1664.388639  219.0   \n",
       "new            a           578736.38  2452.272797    1564.933521  238.0   \n",
       "               b           594132.93  2415.174512    1667.443809  254.0   \n",
       "\n",
       "                         quantity_purchased  \n",
       "                                        sum  \n",
       "user_class     user_type                     \n",
       "error          n                        493  \n",
       "existing       c                       5573  \n",
       "loyal_existing d                       4539  \n",
       "new            a                       5043  \n",
       "               b                       5147  "
      ]
     },
     "metadata": {},
     "output_type": "display_data"
    }
   ],
   "source": [
    "display(df.groupby(['user_class','user_type']).agg({'price':{\n",
    "                                                                'total_price':np.sum,\n",
    "                                                                'mean_price':np.mean,\n",
    "                                                                'variance_price':np.std,\n",
    "                                                                'count':np.count_nonzero},\n",
    "                                                   'quantity_purchased':np.sum}))  "
   ]
  },
  {
   "cell_type": "markdown",
   "metadata": {},
   "source": [
    "## Pivot Tables"
   ]
  },
  {
   "cell_type": "code",
   "execution_count": 50,
   "metadata": {},
   "outputs": [
    {
     "data": {
      "text/html": [
       "<div>\n",
       "<style scoped>\n",
       "    .dataframe tbody tr th:only-of-type {\n",
       "        vertical-align: middle;\n",
       "    }\n",
       "\n",
       "    .dataframe tbody tr th {\n",
       "        vertical-align: top;\n",
       "    }\n",
       "\n",
       "    .dataframe thead th {\n",
       "        text-align: right;\n",
       "    }\n",
       "</style>\n",
       "<table border=\"1\" class=\"dataframe\">\n",
       "  <thead>\n",
       "    <tr style=\"text-align: right;\">\n",
       "      <th>user_type</th>\n",
       "      <th>a</th>\n",
       "      <th>b</th>\n",
       "      <th>c</th>\n",
       "      <th>d</th>\n",
       "      <th>n</th>\n",
       "    </tr>\n",
       "    <tr>\n",
       "      <th>date</th>\n",
       "      <th></th>\n",
       "      <th></th>\n",
       "      <th></th>\n",
       "      <th></th>\n",
       "      <th></th>\n",
       "    </tr>\n",
       "  </thead>\n",
       "  <tbody>\n",
       "    <tr>\n",
       "      <th>2016-01-01</th>\n",
       "      <td>3176.890000</td>\n",
       "      <td>3015.810000</td>\n",
       "      <td>3149.761667</td>\n",
       "      <td>3438.735000</td>\n",
       "      <td>NaN</td>\n",
       "    </tr>\n",
       "    <tr>\n",
       "      <th>2016-01-02</th>\n",
       "      <td>2030.662857</td>\n",
       "      <td>1883.312000</td>\n",
       "      <td>1626.016667</td>\n",
       "      <td>1489.067500</td>\n",
       "      <td>NaN</td>\n",
       "    </tr>\n",
       "    <tr>\n",
       "      <th>2016-01-13</th>\n",
       "      <td>1652.088333</td>\n",
       "      <td>3928.870000</td>\n",
       "      <td>2018.634000</td>\n",
       "      <td>3620.562000</td>\n",
       "      <td>NaN</td>\n",
       "    </tr>\n",
       "    <tr>\n",
       "      <th>2016-01-14</th>\n",
       "      <td>2229.615714</td>\n",
       "      <td>1215.030000</td>\n",
       "      <td>2453.520000</td>\n",
       "      <td>2204.156667</td>\n",
       "      <td>NaN</td>\n",
       "    </tr>\n",
       "    <tr>\n",
       "      <th>2016-01-15</th>\n",
       "      <td>2122.128750</td>\n",
       "      <td>1620.722500</td>\n",
       "      <td>1898.537500</td>\n",
       "      <td>3466.855000</td>\n",
       "      <td>NaN</td>\n",
       "    </tr>\n",
       "    <tr>\n",
       "      <th>2016-01-16</th>\n",
       "      <td>3266.776000</td>\n",
       "      <td>2174.146000</td>\n",
       "      <td>899.085000</td>\n",
       "      <td>1920.764000</td>\n",
       "      <td>NaN</td>\n",
       "    </tr>\n",
       "    <tr>\n",
       "      <th>2016-01-17</th>\n",
       "      <td>1904.707143</td>\n",
       "      <td>2648.916250</td>\n",
       "      <td>1491.685714</td>\n",
       "      <td>2051.525000</td>\n",
       "      <td>2218.150</td>\n",
       "    </tr>\n",
       "    <tr>\n",
       "      <th>2016-01-18</th>\n",
       "      <td>1772.482500</td>\n",
       "      <td>3452.943333</td>\n",
       "      <td>3017.102500</td>\n",
       "      <td>2065.742500</td>\n",
       "      <td>NaN</td>\n",
       "    </tr>\n",
       "    <tr>\n",
       "      <th>2016-01-19</th>\n",
       "      <td>3118.252857</td>\n",
       "      <td>2000.426000</td>\n",
       "      <td>1488.728571</td>\n",
       "      <td>1878.136667</td>\n",
       "      <td>23.360</td>\n",
       "    </tr>\n",
       "    <tr>\n",
       "      <th>2016-01-20</th>\n",
       "      <td>2971.316667</td>\n",
       "      <td>3528.840000</td>\n",
       "      <td>3235.658000</td>\n",
       "      <td>3006.670000</td>\n",
       "      <td>1639.360</td>\n",
       "    </tr>\n",
       "    <tr>\n",
       "      <th>2016-01-21</th>\n",
       "      <td>2818.610000</td>\n",
       "      <td>2208.988333</td>\n",
       "      <td>2025.571000</td>\n",
       "      <td>2493.018889</td>\n",
       "      <td>NaN</td>\n",
       "    </tr>\n",
       "    <tr>\n",
       "      <th>2016-01-22</th>\n",
       "      <td>2593.715000</td>\n",
       "      <td>3339.472500</td>\n",
       "      <td>952.755000</td>\n",
       "      <td>2804.990000</td>\n",
       "      <td>4128.825</td>\n",
       "    </tr>\n",
       "    <tr>\n",
       "      <th>2016-01-23</th>\n",
       "      <td>2165.722000</td>\n",
       "      <td>1792.070000</td>\n",
       "      <td>2219.251429</td>\n",
       "      <td>2219.254000</td>\n",
       "      <td>3163.700</td>\n",
       "    </tr>\n",
       "    <tr>\n",
       "      <th>2016-01-24</th>\n",
       "      <td>1743.058750</td>\n",
       "      <td>2014.896667</td>\n",
       "      <td>2041.410000</td>\n",
       "      <td>2960.852500</td>\n",
       "      <td>NaN</td>\n",
       "    </tr>\n",
       "    <tr>\n",
       "      <th>2016-01-25</th>\n",
       "      <td>2261.915000</td>\n",
       "      <td>1160.197778</td>\n",
       "      <td>1967.447143</td>\n",
       "      <td>2962.660000</td>\n",
       "      <td>NaN</td>\n",
       "    </tr>\n",
       "    <tr>\n",
       "      <th>2016-01-26</th>\n",
       "      <td>2747.666000</td>\n",
       "      <td>2382.331667</td>\n",
       "      <td>3171.613333</td>\n",
       "      <td>2440.173333</td>\n",
       "      <td>NaN</td>\n",
       "    </tr>\n",
       "    <tr>\n",
       "      <th>2016-01-27</th>\n",
       "      <td>2012.126667</td>\n",
       "      <td>2620.500000</td>\n",
       "      <td>1779.728750</td>\n",
       "      <td>2257.830000</td>\n",
       "      <td>1490.940</td>\n",
       "    </tr>\n",
       "    <tr>\n",
       "      <th>2016-01-28</th>\n",
       "      <td>1400.276000</td>\n",
       "      <td>2508.633333</td>\n",
       "      <td>4102.214000</td>\n",
       "      <td>NaN</td>\n",
       "      <td>NaN</td>\n",
       "    </tr>\n",
       "    <tr>\n",
       "      <th>2016-01-29</th>\n",
       "      <td>2095.674000</td>\n",
       "      <td>2464.503333</td>\n",
       "      <td>1691.334444</td>\n",
       "      <td>768.122000</td>\n",
       "      <td>NaN</td>\n",
       "    </tr>\n",
       "    <tr>\n",
       "      <th>2016-01-30</th>\n",
       "      <td>2616.022000</td>\n",
       "      <td>4377.008000</td>\n",
       "      <td>2824.661818</td>\n",
       "      <td>2014.230000</td>\n",
       "      <td>5348.810</td>\n",
       "    </tr>\n",
       "    <tr>\n",
       "      <th>2016-01-31</th>\n",
       "      <td>2134.381667</td>\n",
       "      <td>2001.433333</td>\n",
       "      <td>3125.750000</td>\n",
       "      <td>4623.590000</td>\n",
       "      <td>NaN</td>\n",
       "    </tr>\n",
       "    <tr>\n",
       "      <th>2016-02-01</th>\n",
       "      <td>2494.150000</td>\n",
       "      <td>2862.485556</td>\n",
       "      <td>1695.875000</td>\n",
       "      <td>2458.658333</td>\n",
       "      <td>NaN</td>\n",
       "    </tr>\n",
       "    <tr>\n",
       "      <th>2016-02-02</th>\n",
       "      <td>2971.825000</td>\n",
       "      <td>3124.287500</td>\n",
       "      <td>2809.243750</td>\n",
       "      <td>2172.338333</td>\n",
       "      <td>1639.300</td>\n",
       "    </tr>\n",
       "    <tr>\n",
       "      <th>2016-03-01</th>\n",
       "      <td>2540.053333</td>\n",
       "      <td>2684.285714</td>\n",
       "      <td>2719.285000</td>\n",
       "      <td>2924.238571</td>\n",
       "      <td>2580.740</td>\n",
       "    </tr>\n",
       "    <tr>\n",
       "      <th>2016-03-02</th>\n",
       "      <td>2765.973000</td>\n",
       "      <td>NaN</td>\n",
       "      <td>2697.024000</td>\n",
       "      <td>939.705714</td>\n",
       "      <td>NaN</td>\n",
       "    </tr>\n",
       "    <tr>\n",
       "      <th>2016-04-01</th>\n",
       "      <td>2915.498000</td>\n",
       "      <td>2534.130000</td>\n",
       "      <td>2754.185000</td>\n",
       "      <td>2020.230000</td>\n",
       "      <td>1495.360</td>\n",
       "    </tr>\n",
       "    <tr>\n",
       "      <th>2016-04-02</th>\n",
       "      <td>2006.580000</td>\n",
       "      <td>2102.510000</td>\n",
       "      <td>1771.770000</td>\n",
       "      <td>1542.226667</td>\n",
       "      <td>202.130</td>\n",
       "    </tr>\n",
       "    <tr>\n",
       "      <th>2016-05-01</th>\n",
       "      <td>2738.656667</td>\n",
       "      <td>2045.728000</td>\n",
       "      <td>2900.755714</td>\n",
       "      <td>2352.245000</td>\n",
       "      <td>1589.920</td>\n",
       "    </tr>\n",
       "    <tr>\n",
       "      <th>2016-05-02</th>\n",
       "      <td>2564.790000</td>\n",
       "      <td>1036.538333</td>\n",
       "      <td>2100.078333</td>\n",
       "      <td>2302.995000</td>\n",
       "      <td>NaN</td>\n",
       "    </tr>\n",
       "    <tr>\n",
       "      <th>2016-06-01</th>\n",
       "      <td>2556.650000</td>\n",
       "      <td>3103.110833</td>\n",
       "      <td>1157.234286</td>\n",
       "      <td>4501.820000</td>\n",
       "      <td>NaN</td>\n",
       "    </tr>\n",
       "    <tr>\n",
       "      <th>2016-06-02</th>\n",
       "      <td>3688.863333</td>\n",
       "      <td>1949.790000</td>\n",
       "      <td>2607.213333</td>\n",
       "      <td>3945.975000</td>\n",
       "      <td>NaN</td>\n",
       "    </tr>\n",
       "    <tr>\n",
       "      <th>2016-07-01</th>\n",
       "      <td>3177.596000</td>\n",
       "      <td>2720.921667</td>\n",
       "      <td>1929.800000</td>\n",
       "      <td>4591.563333</td>\n",
       "      <td>NaN</td>\n",
       "    </tr>\n",
       "    <tr>\n",
       "      <th>2016-07-02</th>\n",
       "      <td>2849.502500</td>\n",
       "      <td>2292.965000</td>\n",
       "      <td>2834.545000</td>\n",
       "      <td>2760.415714</td>\n",
       "      <td>NaN</td>\n",
       "    </tr>\n",
       "    <tr>\n",
       "      <th>2016-08-01</th>\n",
       "      <td>3260.243750</td>\n",
       "      <td>2850.832500</td>\n",
       "      <td>2666.800000</td>\n",
       "      <td>2568.005556</td>\n",
       "      <td>NaN</td>\n",
       "    </tr>\n",
       "    <tr>\n",
       "      <th>2016-08-02</th>\n",
       "      <td>1368.922000</td>\n",
       "      <td>964.227500</td>\n",
       "      <td>2247.453333</td>\n",
       "      <td>1664.301667</td>\n",
       "      <td>NaN</td>\n",
       "    </tr>\n",
       "    <tr>\n",
       "      <th>2016-09-01</th>\n",
       "      <td>2937.750000</td>\n",
       "      <td>2881.683750</td>\n",
       "      <td>1549.567143</td>\n",
       "      <td>2997.377500</td>\n",
       "      <td>NaN</td>\n",
       "    </tr>\n",
       "    <tr>\n",
       "      <th>2016-09-02</th>\n",
       "      <td>2759.270000</td>\n",
       "      <td>3144.875000</td>\n",
       "      <td>2235.572500</td>\n",
       "      <td>2597.410000</td>\n",
       "      <td>NaN</td>\n",
       "    </tr>\n",
       "    <tr>\n",
       "      <th>2016-10-01</th>\n",
       "      <td>2410.605556</td>\n",
       "      <td>3499.583750</td>\n",
       "      <td>1480.484000</td>\n",
       "      <td>3331.185000</td>\n",
       "      <td>1718.180</td>\n",
       "    </tr>\n",
       "    <tr>\n",
       "      <th>2016-10-02</th>\n",
       "      <td>3037.700000</td>\n",
       "      <td>1711.924286</td>\n",
       "      <td>2094.838333</td>\n",
       "      <td>2736.530000</td>\n",
       "      <td>3108.320</td>\n",
       "    </tr>\n",
       "    <tr>\n",
       "      <th>2016-11-01</th>\n",
       "      <td>3656.194000</td>\n",
       "      <td>2329.461000</td>\n",
       "      <td>1426.026250</td>\n",
       "      <td>1448.355000</td>\n",
       "      <td>1710.770</td>\n",
       "    </tr>\n",
       "    <tr>\n",
       "      <th>2016-11-02</th>\n",
       "      <td>1843.623333</td>\n",
       "      <td>1586.520000</td>\n",
       "      <td>1380.255000</td>\n",
       "      <td>3049.800000</td>\n",
       "      <td>NaN</td>\n",
       "    </tr>\n",
       "    <tr>\n",
       "      <th>2016-12-01</th>\n",
       "      <td>1502.200000</td>\n",
       "      <td>394.525000</td>\n",
       "      <td>2373.664000</td>\n",
       "      <td>2194.235714</td>\n",
       "      <td>NaN</td>\n",
       "    </tr>\n",
       "  </tbody>\n",
       "</table>\n",
       "</div>"
      ],
      "text/plain": [
       "user_type             a            b            c            d         n\n",
       "date                                                                    \n",
       "2016-01-01  3176.890000  3015.810000  3149.761667  3438.735000       NaN\n",
       "2016-01-02  2030.662857  1883.312000  1626.016667  1489.067500       NaN\n",
       "2016-01-13  1652.088333  3928.870000  2018.634000  3620.562000       NaN\n",
       "2016-01-14  2229.615714  1215.030000  2453.520000  2204.156667       NaN\n",
       "2016-01-15  2122.128750  1620.722500  1898.537500  3466.855000       NaN\n",
       "2016-01-16  3266.776000  2174.146000   899.085000  1920.764000       NaN\n",
       "2016-01-17  1904.707143  2648.916250  1491.685714  2051.525000  2218.150\n",
       "2016-01-18  1772.482500  3452.943333  3017.102500  2065.742500       NaN\n",
       "2016-01-19  3118.252857  2000.426000  1488.728571  1878.136667    23.360\n",
       "2016-01-20  2971.316667  3528.840000  3235.658000  3006.670000  1639.360\n",
       "2016-01-21  2818.610000  2208.988333  2025.571000  2493.018889       NaN\n",
       "2016-01-22  2593.715000  3339.472500   952.755000  2804.990000  4128.825\n",
       "2016-01-23  2165.722000  1792.070000  2219.251429  2219.254000  3163.700\n",
       "2016-01-24  1743.058750  2014.896667  2041.410000  2960.852500       NaN\n",
       "2016-01-25  2261.915000  1160.197778  1967.447143  2962.660000       NaN\n",
       "2016-01-26  2747.666000  2382.331667  3171.613333  2440.173333       NaN\n",
       "2016-01-27  2012.126667  2620.500000  1779.728750  2257.830000  1490.940\n",
       "2016-01-28  1400.276000  2508.633333  4102.214000          NaN       NaN\n",
       "2016-01-29  2095.674000  2464.503333  1691.334444   768.122000       NaN\n",
       "2016-01-30  2616.022000  4377.008000  2824.661818  2014.230000  5348.810\n",
       "2016-01-31  2134.381667  2001.433333  3125.750000  4623.590000       NaN\n",
       "2016-02-01  2494.150000  2862.485556  1695.875000  2458.658333       NaN\n",
       "2016-02-02  2971.825000  3124.287500  2809.243750  2172.338333  1639.300\n",
       "2016-03-01  2540.053333  2684.285714  2719.285000  2924.238571  2580.740\n",
       "2016-03-02  2765.973000          NaN  2697.024000   939.705714       NaN\n",
       "2016-04-01  2915.498000  2534.130000  2754.185000  2020.230000  1495.360\n",
       "2016-04-02  2006.580000  2102.510000  1771.770000  1542.226667   202.130\n",
       "2016-05-01  2738.656667  2045.728000  2900.755714  2352.245000  1589.920\n",
       "2016-05-02  2564.790000  1036.538333  2100.078333  2302.995000       NaN\n",
       "2016-06-01  2556.650000  3103.110833  1157.234286  4501.820000       NaN\n",
       "2016-06-02  3688.863333  1949.790000  2607.213333  3945.975000       NaN\n",
       "2016-07-01  3177.596000  2720.921667  1929.800000  4591.563333       NaN\n",
       "2016-07-02  2849.502500  2292.965000  2834.545000  2760.415714       NaN\n",
       "2016-08-01  3260.243750  2850.832500  2666.800000  2568.005556       NaN\n",
       "2016-08-02  1368.922000   964.227500  2247.453333  1664.301667       NaN\n",
       "2016-09-01  2937.750000  2881.683750  1549.567143  2997.377500       NaN\n",
       "2016-09-02  2759.270000  3144.875000  2235.572500  2597.410000       NaN\n",
       "2016-10-01  2410.605556  3499.583750  1480.484000  3331.185000  1718.180\n",
       "2016-10-02  3037.700000  1711.924286  2094.838333  2736.530000  3108.320\n",
       "2016-11-01  3656.194000  2329.461000  1426.026250  1448.355000  1710.770\n",
       "2016-11-02  1843.623333  1586.520000  1380.255000  3049.800000       NaN\n",
       "2016-12-01  1502.200000   394.525000  2373.664000  2194.235714       NaN"
      ]
     },
     "metadata": {},
     "output_type": "display_data"
    }
   ],
   "source": [
    "display(df.pivot_table(index='date', columns='user_type', \n",
    "                         values='price',aggfunc=np.mean))"
   ]
  },
  {
   "cell_type": "markdown",
   "metadata": {},
   "source": [
    "+ Stack a Dataframe"
   ]
  },
  {
   "cell_type": "code",
   "execution_count": 51,
   "metadata": {},
   "outputs": [
    {
     "name": "stdout",
     "output_type": "stream",
     "text": [
      "0    serial_no                            1000\n",
      "     user_id                              -101\n",
      "     product_id                              0\n",
      "     quantity_purchased                      7\n",
      "     price                             1902.95\n",
      "     user_type                               n\n",
      "     user_class                          error\n",
      "     purchase_week                           0\n",
      "1    serial_no                            1001\n",
      "     user_id                              5642\n",
      "     product_id                            240\n",
      "     quantity_purchased                      4\n",
      "     price                             1272.74\n",
      "     user_type                               n\n",
      "     user_class                          error\n",
      "     purchase_week                           0\n",
      "2    serial_no                            1002\n",
      "     date                  2016-04-02 00:00:00\n",
      "     user_id                              5243\n",
      "     product_id                            120\n",
      "     quantity_purchased                      6\n",
      "     price                              202.13\n",
      "     user_type                               n\n",
      "     user_class                          error\n",
      "     purchase_week                          13\n",
      "3    serial_no                            1003\n",
      "     date                  2016-02-02 00:00:00\n",
      "     user_id                              5117\n",
      "     product_id                            468\n",
      "     quantity_purchased                     26\n",
      "                                  ...         \n",
      "997  serial_no                            1997\n",
      "     date                  2016-03-01 00:00:00\n",
      "     user_id                              5353\n",
      "     product_id                            661\n",
      "     quantity_purchased                     38\n",
      "     price                              2031.5\n",
      "     user_type                               c\n",
      "     user_class                       existing\n",
      "     purchase_week                           9\n",
      "     encoded_user_type                       2\n",
      "998  serial_no                            1998\n",
      "     date                  2016-10-02 00:00:00\n",
      "     user_id                              5070\n",
      "     product_id                            899\n",
      "     quantity_purchased                      8\n",
      "     price                              729.06\n",
      "     user_type                               b\n",
      "     user_class                            new\n",
      "     purchase_week                          39\n",
      "     encoded_user_type                       1\n",
      "999  serial_no                            1999\n",
      "     date                  2016-01-14 00:00:00\n",
      "     user_id                              5983\n",
      "     product_id                            477\n",
      "     quantity_purchased                     29\n",
      "     price                             3893.11\n",
      "     user_type                               d\n",
      "     user_class                 loyal_existing\n",
      "     purchase_week                           2\n",
      "     encoded_user_type                       3\n",
      "Length: 9907, dtype: object\n"
     ]
    }
   ],
   "source": [
    "print(df.stack())"
   ]
  },
  {
   "cell_type": "markdown",
   "metadata": {},
   "source": [
    "## Data Visualization\n",
    "+ This script showcases following data viz using :\n",
    "\n",
    "+ pandas\n",
    "+ plots and sub plots\n",
    "+ hist\n",
    "+ box\n",
    "+ scatter\n",
    "+ timeseries\n",
    "+ matplotlib"
   ]
  },
  {
   "cell_type": "code",
   "execution_count": 52,
   "metadata": {},
   "outputs": [],
   "source": [
    "#matplotlib inline\n",
    "# import required libraries\n",
    "import random\n",
    "import datetime \n",
    "import numpy as np\n",
    "import pandas as pd\n",
    "from random import randrange\n",
    "\n",
    "import matplotlib.pyplot as plt\n",
    "\n",
    "import seaborn as sns\n",
    "\n",
    "sns.set_style('whitegrid')\n",
    "sns.set_context('talk')\n",
    "\n",
    "params = {'legend.fontsize': 'small',\n",
    "          'figure.figsize': (10, 5),\n",
    "         'axes.labelsize': 'medium',\n",
    "         'axes.titlesize':'medium',\n",
    "         'xtick.labelsize':'medium',\n",
    "         'ytick.labelsize':'medium'}\n",
    "\n",
    "plt.rcParams.update(params)\n",
    "\n",
    "from IPython.display import display, HTML"
   ]
  },
  {
   "cell_type": "code",
   "execution_count": 53,
   "metadata": {},
   "outputs": [],
   "source": [
    "def _random_date(start,date_count):\n",
    "    \"\"\"This function generates a random date based on params\n",
    "    Args:\n",
    "        start (date object): the base date\n",
    "        date_count (int): number of dates to be generated\n",
    "    Returns:\n",
    "        list of random dates\n",
    "\n",
    "    \"\"\"\n",
    "    current = start\n",
    "    while date_count > 0:\n",
    "        curr = current + datetime.timedelta(days=randrange(42))\n",
    "        yield curr\n",
    "        date_count-=1\n",
    "\n",
    "\n",
    "def generate_sample_data(row_count=100):\n",
    "    \"\"\"This function generates a random transaction dataset\n",
    "    Args:\n",
    "        row_count (int): number of rows for the dataframe\n",
    "    Returns:\n",
    "        a pandas dataframe\n",
    "\n",
    "    \"\"\"\n",
    "    \n",
    "    # sentinels\n",
    "    startDate = datetime.datetime(2016, 1, 1,13)\n",
    "    serial_number_sentinel = 1000\n",
    "    user_id_sentinel = 5001\n",
    "    product_id_sentinel = 101\n",
    "    price_sentinel = 2000\n",
    "    \n",
    "    \n",
    "    # base list of attributes\n",
    "    data_dict = {\n",
    "    'Serial No': np.arange(row_count)+serial_number_sentinel,\n",
    "    'Date': np.random.permutation(pd.to_datetime([x.strftime(\"%d-%m-%Y\") \n",
    "                                                    for x in _random_date(startDate,\n",
    "                                                                          row_count)]).date\n",
    "                                  ),\n",
    "    'User ID': np.random.permutation(np.random.randint(0,\n",
    "                                                       row_count,\n",
    "                                                       size=int(row_count/10)) + user_id_sentinel).tolist()*10,\n",
    "    'Product ID': np.random.permutation(np.random.randint(0,\n",
    "                                                          row_count,\n",
    "                                                          size=int(row_count/10)) + product_id_sentinel).tolist()*10 ,\n",
    "    'Quantity Purchased': np.random.permutation(np.random.randint(1,\n",
    "                                                                  42,\n",
    "                                                                  size=row_count)),\n",
    "    'Price': np.round(np.abs(np.random.randn(row_count)+1)*price_sentinel,\n",
    "                      decimals=2),\n",
    "    'User Type':np.random.permutation([chr(random.randrange(97, 97 + 3 + 1)) \n",
    "                                            for i in range(row_count)])\n",
    "    }\n",
    "    \n",
    "    # introduce missing values\n",
    "    for index in range(int(np.sqrt(row_count))): \n",
    "        data_dict['Price'][np.argmax(data_dict['Price'] == random.choice(data_dict['Price']))] = np.nan\n",
    "        data_dict['User Type'][np.argmax(data_dict['User Type'] == random.choice(data_dict['User Type']))] = np.nan\n",
    "        data_dict['Date'][np.argmax(data_dict['Date'] == random.choice(data_dict['Date']))] = np.nan\n",
    "        data_dict['Product ID'][np.argmax(data_dict['Product ID'] == random.choice(data_dict['Product ID']))] = 0\n",
    "        data_dict['Serial No'][np.argmax(data_dict['Serial No'] == random.choice(data_dict['Serial No']))] = -1\n",
    "        data_dict['User ID'][np.argmax(data_dict['User ID'] == random.choice(data_dict['User ID']))] = -101\n",
    "        \n",
    "    \n",
    "    # create data frame\n",
    "    df = pd.DataFrame(data_dict)\n",
    "    \n",
    "    return df\n",
    "    \n",
    "    \n",
    "def cleanup_column_names(df,rename_dict={},do_inplace=True):\n",
    "    \"\"\"This function renames columns of a pandas dataframe\n",
    "       It converts column names to snake case if rename_dict is not passed. \n",
    "    Args:\n",
    "        rename_dict (dict): keys represent old column names and values point to \n",
    "                            newer ones\n",
    "        do_inplace (bool): flag to update existing dataframe or return a new one\n",
    "    Returns:\n",
    "        pandas dataframe if do_inplace is set to False, None otherwise\n",
    "\n",
    "    \"\"\"\n",
    "    if not rename_dict:\n",
    "        return df.rename(columns={col: col.lower().replace(' ','_') \n",
    "                    for col in df.columns.values.tolist()}, \n",
    "                  inplace=do_inplace)\n",
    "    else:\n",
    "        return df.rename(columns=rename_dict,inplace=do_inplace)\n",
    "\n",
    "def expand_user_type(u_type):\n",
    "    \"\"\"This function maps user types to user classes\n",
    "    Args:\n",
    "        u_type (str): user type value\n",
    "    Returns:\n",
    "        (str) user_class value\n",
    "\n",
    "    \"\"\"\n",
    "    if u_type in ['a','b']:\n",
    "        return 'new'\n",
    "    elif u_type == 'c':\n",
    "        return 'existing'\n",
    "    elif u_type == 'd':\n",
    "        return 'loyal_existing'\n",
    "    else:\n",
    "        return 'error'"
   ]
  },
  {
   "cell_type": "code",
   "execution_count": 54,
   "metadata": {},
   "outputs": [],
   "source": [
    "df = generate_sample_data(row_count=1000)\n",
    "cleanup_column_names(df)\n",
    "\n",
    "df['date'] = pd.to_datetime(df.date)\n",
    "\n",
    "\n",
    "df['user_class'] = df['user_type'].map(expand_user_type)\n",
    "\n",
    "df['purchase_week'] = df[['date']].applymap(lambda dt:dt.week \n",
    "                                            if not pd.isnull(dt.week) \n",
    "                                            else 0)\n",
    "\n",
    "df = df.dropna(subset=['date'])\n",
    "df['price'].fillna(value=np.round(df.price.mean(),decimals=2),\n",
    "                            inplace=True)"
   ]
  },
  {
   "cell_type": "code",
   "execution_count": 55,
   "metadata": {},
   "outputs": [
    {
     "data": {
      "text/html": [
       "<div>\n",
       "<style scoped>\n",
       "    .dataframe tbody tr th:only-of-type {\n",
       "        vertical-align: middle;\n",
       "    }\n",
       "\n",
       "    .dataframe tbody tr th {\n",
       "        vertical-align: top;\n",
       "    }\n",
       "\n",
       "    .dataframe thead th {\n",
       "        text-align: right;\n",
       "    }\n",
       "</style>\n",
       "<table border=\"1\" class=\"dataframe\">\n",
       "  <thead>\n",
       "    <tr style=\"text-align: right;\">\n",
       "      <th></th>\n",
       "      <th>serial_no</th>\n",
       "      <th>date</th>\n",
       "      <th>user_id</th>\n",
       "      <th>product_id</th>\n",
       "      <th>quantity_purchased</th>\n",
       "      <th>price</th>\n",
       "      <th>user_type</th>\n",
       "      <th>user_class</th>\n",
       "      <th>purchase_week</th>\n",
       "    </tr>\n",
       "  </thead>\n",
       "  <tbody>\n",
       "    <tr>\n",
       "      <th>3</th>\n",
       "      <td>1003</td>\n",
       "      <td>2016-01-14</td>\n",
       "      <td>5510</td>\n",
       "      <td>667</td>\n",
       "      <td>20</td>\n",
       "      <td>3208.73</td>\n",
       "      <td>n</td>\n",
       "      <td>error</td>\n",
       "      <td>2</td>\n",
       "    </tr>\n",
       "    <tr>\n",
       "      <th>4</th>\n",
       "      <td>1004</td>\n",
       "      <td>2016-01-24</td>\n",
       "      <td>5062</td>\n",
       "      <td>140</td>\n",
       "      <td>15</td>\n",
       "      <td>6103.68</td>\n",
       "      <td>n</td>\n",
       "      <td>error</td>\n",
       "      <td>3</td>\n",
       "    </tr>\n",
       "    <tr>\n",
       "      <th>8</th>\n",
       "      <td>1008</td>\n",
       "      <td>2016-04-02</td>\n",
       "      <td>5977</td>\n",
       "      <td>341</td>\n",
       "      <td>15</td>\n",
       "      <td>2059.36</td>\n",
       "      <td>n</td>\n",
       "      <td>error</td>\n",
       "      <td>13</td>\n",
       "    </tr>\n",
       "    <tr>\n",
       "      <th>9</th>\n",
       "      <td>1009</td>\n",
       "      <td>2016-10-02</td>\n",
       "      <td>5105</td>\n",
       "      <td>240</td>\n",
       "      <td>27</td>\n",
       "      <td>1846.71</td>\n",
       "      <td>n</td>\n",
       "      <td>error</td>\n",
       "      <td>39</td>\n",
       "    </tr>\n",
       "    <tr>\n",
       "      <th>13</th>\n",
       "      <td>1013</td>\n",
       "      <td>2016-01-18</td>\n",
       "      <td>5870</td>\n",
       "      <td>521</td>\n",
       "      <td>30</td>\n",
       "      <td>1051.37</td>\n",
       "      <td>n</td>\n",
       "      <td>error</td>\n",
       "      <td>3</td>\n",
       "    </tr>\n",
       "  </tbody>\n",
       "</table>\n",
       "</div>"
      ],
      "text/plain": [
       "    serial_no       date  user_id  product_id  quantity_purchased    price  \\\n",
       "3        1003 2016-01-14     5510         667                  20  3208.73   \n",
       "4        1004 2016-01-24     5062         140                  15  6103.68   \n",
       "8        1008 2016-04-02     5977         341                  15  2059.36   \n",
       "9        1009 2016-10-02     5105         240                  27  1846.71   \n",
       "13       1013 2016-01-18     5870         521                  30  1051.37   \n",
       "\n",
       "   user_type user_class  purchase_week  \n",
       "3          n      error              2  \n",
       "4          n      error              3  \n",
       "8          n      error             13  \n",
       "9          n      error             39  \n",
       "13         n      error              3  "
      ]
     },
     "metadata": {},
     "output_type": "display_data"
    }
   ],
   "source": [
    "display(df.head())"
   ]
  },
  {
   "cell_type": "markdown",
   "metadata": {},
   "source": [
    "## Visualizations\n",
    "### Line Charts"
   ]
  },
  {
   "cell_type": "code",
   "execution_count": 56,
   "metadata": {},
   "outputs": [
    {
     "data": {
      "image/png": "[encoded data removed]",
      "text/plain": [
       "<Figure size 432x288 with 1 Axes>"
      ]
     },
     "metadata": {
      "needs_background": "light"
     },
     "output_type": "display_data"
    }
   ],
   "source": [
    "max_user_id = df.user_id.value_counts().index[0]\n",
    "df[df.user_id == max_user_id][['price']].plot(style='blue')\n",
    "plt.title('Price Trends for Particular User')\n",
    "plt.show()"
   ]
  },
  {
   "cell_type": "code",
   "execution_count": 57,
   "metadata": {},
   "outputs": [
    {
     "data": {
      "image/png": "[encoded data removed]",
      "text/plain": [
       "<Figure size 432x288 with 1 Axes>"
      ]
     },
     "metadata": {
      "needs_background": "light"
     },
     "output_type": "display_data"
    }
   ],
   "source": [
    "df[df.user_id == max_user_id].plot(x='date',y='price',style='blue')   \n",
    "plt.title('Price Trends for Particular User Over Time')\n",
    "plt.show()"
   ]
  },
  {
   "cell_type": "markdown",
   "metadata": {},
   "source": [
    "### Bar plot"
   ]
  },
  {
   "cell_type": "code",
   "execution_count": 60,
   "metadata": {},
   "outputs": [
    {
     "data": {
      "image/png": "[encoded data removed]",
      "text/plain": [
       "<Figure size 432x288 with 1 Axes>"
      ]
     },
     "metadata": {
      "needs_background": "light"
     },
     "output_type": "display_data"
    }
   ],
   "source": [
    "df[['purchase_week',\n",
    "    'quantity_purchased']].groupby('purchase_week').sum().plot.barh(\n",
    "                                                            color='green')\n",
    "plt.title('Quantities Purchased per Week')\n",
    "plt.show()"
   ]
  },
  {
   "cell_type": "markdown",
   "metadata": {},
   "source": [
    "### Histograms"
   ]
  },
  {
   "cell_type": "code",
   "execution_count": 62,
   "metadata": {},
   "outputs": [
    {
     "data": {
      "image/png": "[encoded data removed]",
      "text/plain": [
       "<Figure size 432x288 with 1 Axes>"
      ]
     },
     "metadata": {
      "needs_background": "light"
     },
     "output_type": "display_data"
    }
   ],
   "source": [
    "df.price.hist(color='blue')\n",
    "plt.title('Price Distribution')\n",
    "plt.show()"
   ]
  },
  {
   "cell_type": "code",
   "execution_count": 63,
   "metadata": {},
   "outputs": [
    {
     "data": {
      "image/png": "[encoded data removed]",
      "text/plain": [
       "<Figure size 432x288 with 16 Axes>"
      ]
     },
     "metadata": {
      "needs_background": "light"
     },
     "output_type": "display_data"
    }
   ],
   "source": [
    "df[['price','purchase_week']].hist(by='purchase_week',sharex=True)\n",
    "#plt.title('Price Distribution per Week')\n",
    "plt.show()"
   ]
  },
  {
   "cell_type": "markdown",
   "metadata": {},
   "source": [
    "### Pie Chart"
   ]
  },
  {
   "cell_type": "code",
   "execution_count": 64,
   "metadata": {},
   "outputs": [
    {
     "data": {
      "image/png": "[encoded data removed]",
      "text/plain": [
       "<Figure size 432x288 with 1 Axes>"
      ]
     },
     "metadata": {},
     "output_type": "display_data"
    }
   ],
   "source": [
    "class_series = df.groupby('user_class').size()\n",
    "class_series.name = 'User Class Distribution'\n",
    "class_series.plot.pie(autopct='%.2f')\n",
    "plt.title('User Class Share')\n",
    "plt.show()"
   ]
  },
  {
   "cell_type": "markdown",
   "metadata": {},
   "source": [
    "### Box Plot"
   ]
  },
  {
   "cell_type": "code",
   "execution_count": 65,
   "metadata": {},
   "outputs": [
    {
     "data": {
      "image/png": "[encoded data removed]",
      "text/plain": [
       "<Figure size 432x288 with 1 Axes>"
      ]
     },
     "metadata": {
      "needs_background": "light"
     },
     "output_type": "display_data"
    }
   ],
   "source": [
    "df[['quantity_purchased','purchase_week']].plot.box()\n",
    "plt.title('Quantity and Week value distribution')\n",
    "plt.show()"
   ]
  },
  {
   "cell_type": "markdown",
   "metadata": {},
   "source": [
    "### Bubble Charts"
   ]
  },
  {
   "cell_type": "code",
   "execution_count": 66,
   "metadata": {},
   "outputs": [
    {
     "data": {
      "image/png": "[encoded data removed]",
      "text/plain": [
       "<Figure size 432x288 with 1 Axes>"
      ]
     },
     "metadata": {
      "needs_background": "light"
     },
     "output_type": "display_data"
    }
   ],
   "source": [
    "# bubble\n",
    "uclass_map = {'new': 1, 'existing': 2, 'loyal_existing': 3,'error':0}\n",
    "df['enc_uclass'] = df.user_class.map(uclass_map) \n",
    "bubble_df = df[['enc_uclass',\n",
    "                'purchase_week',\n",
    "                'price','product_id']].groupby(['purchase_week',\n",
    "                                                'enc_uclass']).agg({'price':'mean',\n",
    "                                                                    'product_id':'count'}).reset_index()\n",
    "bubble_df.rename(columns={'product_id':'total_transactions'},inplace=True)\n",
    "\n",
    "\n",
    "bubble_df.plot.scatter(x='purchase_week',\n",
    "                       y='price')\n",
    "plt.title('Purchase Week Vs Price ')\n",
    "plt.show() "
   ]
  },
  {
   "cell_type": "code",
   "execution_count": 67,
   "metadata": {},
   "outputs": [
    {
     "data": {
      "image/png": "[encoded data removed]",
      "text/plain": [
       "<Figure size 432x288 with 1 Axes>"
      ]
     },
     "metadata": {
      "needs_background": "light"
     },
     "output_type": "display_data"
    }
   ],
   "source": [
    "bubble_df.plot.scatter(x='purchase_week',\n",
    "                       y='price',\n",
    "                       c=bubble_df['enc_uclass']) \n",
    "plt.title('Purchase Week Vs Price Per User Class')                       \n",
    "plt.show() "
   ]
  },
  {
   "cell_type": "code",
   "execution_count": 68,
   "metadata": {},
   "outputs": [
    {
     "data": {
      "image/png": "[encoded data removed]",
      "text/plain": [
       "<Figure size 432x288 with 1 Axes>"
      ]
     },
     "metadata": {
      "needs_background": "light"
     },
     "output_type": "display_data"
    }
   ],
   "source": [
    "bubble_df.plot.scatter(x='purchase_week',\n",
    "                       y='price',\n",
    "                       c=bubble_df['enc_uclass'],\n",
    "                       s=bubble_df['total_transactions']*10)\n",
    "plt.title('Purchase Week Vs Price Per User Class Based on Tx')                          \n",
    "plt.show()"
   ]
  },
  {
   "cell_type": "markdown",
   "metadata": {},
   "source": [
    "## Figures and Subplots\n",
    "+ This notebook showcases visualizations using matplotlib"
   ]
  },
  {
   "cell_type": "code",
   "execution_count": 69,
   "metadata": {},
   "outputs": [],
   "source": [
    "# import required libraries\n",
    "import numpy as np\n",
    "import matplotlib.pyplot as plt\n",
    "\n",
    "params = {'legend.fontsize': 'x-large',\n",
    "          'figure.figsize': (15, 5),\n",
    "         'axes.labelsize': 'x-large',\n",
    "         'axes.titlesize':'x-large',\n",
    "         'xtick.labelsize':'x-large',\n",
    "         'ytick.labelsize':'x-large'}\n",
    "\n",
    "plt.rcParams.update(params)\n",
    "%matplotlib inline"
   ]
  },
  {
   "cell_type": "code",
   "execution_count": 70,
   "metadata": {},
   "outputs": [
    {
     "data": {
      "image/png": "[encoded data removed]",
      "text/plain": [
       "<Figure size 432x288 with 1 Axes>"
      ]
     },
     "metadata": {
      "needs_background": "light"
     },
     "output_type": "display_data"
    }
   ],
   "source": [
    "# sample plot\n",
    "x = np.linspace(-10, 10, 50)\n",
    "y=np.sin(x)\n",
    "\n",
    "plt.plot(x,y)\n",
    "plt.title('Sine Curve using matplotlib')\n",
    "plt.xlabel('x-axis')\n",
    "plt.ylabel('y-axis')\n",
    "plt.show()"
   ]
  },
  {
   "cell_type": "code",
   "execution_count": 71,
   "metadata": {},
   "outputs": [
    {
     "data": {
      "image/png": "[encoded data removed]",
      "text/plain": [
       "<Figure size 432x288 with 1 Axes>"
      ]
     },
     "metadata": {
      "needs_background": "light"
     },
     "output_type": "display_data"
    },
    {
     "data": {
      "image/png": "[encoded data removed]",
      "text/plain": [
       "<Figure size 432x288 with 1 Axes>"
      ]
     },
     "metadata": {
      "needs_background": "light"
     },
     "output_type": "display_data"
    }
   ],
   "source": [
    "# first figure\n",
    "plt.figure(1)\n",
    "plt.plot(x,y)\n",
    "plt.title('Fig1: Sine Curve')\n",
    "plt.xlabel('x-axis')\n",
    "plt.ylabel('y-axis')\n",
    "plt.show()\n",
    "\n",
    "plt.figure(2)\n",
    "y=np.cos(x)\n",
    "plt.plot(x,y)\n",
    "plt.title('Fig2: Cosine Curve')\n",
    "plt.xlabel('x-axis')\n",
    "plt.ylabel('y-axis')\n",
    "plt.show()"
   ]
  },
  {
   "cell_type": "code",
   "execution_count": 72,
   "metadata": {},
   "outputs": [
    {
     "data": {
      "image/png": "[encoded data removed]",
      "text/plain": [
       "<Figure size 576x432 with 4 Axes>"
      ]
     },
     "metadata": {
      "needs_background": "light"
     },
     "output_type": "display_data"
    }
   ],
   "source": [
    "# fig.add_subplot\n",
    "y = np.sin(x)\n",
    "figure_obj = plt.figure(figsize=(8, 6))\n",
    "ax1 = figure_obj.add_subplot(2,2,1)\n",
    "ax1.plot(x,y)\n",
    "\n",
    "ax2 = figure_obj.add_subplot(2,2,2)\n",
    "ax3 = figure_obj.add_subplot(2,2,3)\n",
    "\n",
    "ax4 = figure_obj.add_subplot(2,2,4)\n",
    "ax4.plot(x+10,y)\n",
    "plt.show()"
   ]
  },
  {
   "cell_type": "code",
   "execution_count": 73,
   "metadata": {},
   "outputs": [
    {
     "data": {
      "image/png": "[encoded data removed]",
      "text/plain": [
       "<Figure size 576x432 with 2 Axes>"
      ]
     },
     "metadata": {
      "needs_background": "light"
     },
     "output_type": "display_data"
    }
   ],
   "source": [
    "# plt.subplots\n",
    "fig, ax_list = plt.subplots(2,1,sharex=True, figsize=(8, 6))\n",
    "y= np.sin(x)\n",
    "ax_list[0].plot(x,y)\n",
    "\n",
    "y= np.cos(x)\n",
    "ax_list[1].plot(x,y)\n",
    "plt.show()"
   ]
  },
  {
   "cell_type": "code",
   "execution_count": 74,
   "metadata": {},
   "outputs": [
    {
     "data": {
      "image/png": "[encoded data removed]",
      "text/plain": [
       "<Figure size 432x288 with 3 Axes>"
      ]
     },
     "metadata": {
      "needs_background": "light"
     },
     "output_type": "display_data"
    }
   ],
   "source": [
    "# subplot2grid\n",
    "y = np.abs(x)\n",
    "z = x**2\n",
    "\n",
    "plt.subplot2grid((4,3), (0, 0), rowspan=4, colspan=2)\n",
    "plt.plot(x, y,'b',x,z,'r')\n",
    "\n",
    "ax2 = plt.subplot2grid((4,3), (0, 2),rowspan=2)\n",
    "plt.plot(x, y,'b')\n",
    "plt.setp(ax2.get_xticklabels(), visible=False)\n",
    "\n",
    "plt.subplot2grid((4,3), (2, 2), rowspan=2)\n",
    "plt.plot(x, z,'r')\n",
    "\n",
    "plt.show()"
   ]
  },
  {
   "cell_type": "markdown",
   "metadata": {},
   "source": [
    "## Plot Formatting\n",
    "+ Line Color\n",
    "+ Line Style\n",
    "+ Data Marker\n",
    "+ Line Width\n",
    "+ Alpha Level/Transparency\n",
    "+ Shorthand notation"
   ]
  },
  {
   "cell_type": "code",
   "execution_count": 75,
   "metadata": {},
   "outputs": [],
   "source": [
    "y = x"
   ]
  },
  {
   "cell_type": "code",
   "execution_count": 76,
   "metadata": {},
   "outputs": [
    {
     "data": {
      "image/png": "[encoded data removed]",
      "text/plain": [
       "<Figure size 432x1080 with 6 Axes>"
      ]
     },
     "metadata": {
      "needs_background": "light"
     },
     "output_type": "display_data"
    }
   ],
   "source": [
    "# color\n",
    "ax1 = plt.subplot(611)\n",
    "plt.plot(x,y,color='green')\n",
    "ax1.set_title('Line Color')\n",
    "plt.setp(ax1.get_xticklabels(), visible=False)\n",
    "\n",
    "# linestyle\n",
    "# linestyles -> '-','--','-.', ':', 'steps'\n",
    "ax2 = plt.subplot(612,sharex=ax1)\n",
    "plt.plot(x,y,linestyle='--')\n",
    "ax2.set_title('Line Style')\n",
    "plt.setp(ax2.get_xticklabels(), visible=False)\n",
    "\n",
    "# marker\n",
    "# markers -> '+', 'o', '*', 's', ',', '.', etc\n",
    "ax3 = plt.subplot(613,sharex=ax1)\n",
    "plt.plot(x,y,marker='*')\n",
    "ax3.set_title('Point Marker')\n",
    "plt.setp(ax3.get_xticklabels(), visible=False)\n",
    "\n",
    "# line width\n",
    "ax4 = plt.subplot(614,sharex=ax1)\n",
    "line = plt.plot(x,y)\n",
    "line[0].set_linewidth(3.0)\n",
    "ax4.set_title('Line Width')\n",
    "plt.setp(ax4.get_xticklabels(), visible=False)\n",
    "\n",
    "# alpha\n",
    "ax5 = plt.subplot(615,sharex=ax1)\n",
    "alpha = plt.plot(x,y)\n",
    "alpha[0].set_alpha(0.3)\n",
    "ax5.set_title('Line Alpha')\n",
    "plt.setp(ax5.get_xticklabels(), visible=False)\n",
    "\n",
    "# combine linestyle\n",
    "ax6 = plt.subplot(616,sharex=ax1)\n",
    "plt.plot(x,y,'b^')\n",
    "ax6.set_title('Styling Shorthand')\n",
    "\n",
    "fig = plt.gcf()\n",
    "fig.set_figheight(15)\n",
    "plt.show()"
   ]
  },
  {
   "cell_type": "markdown",
   "metadata": {},
   "source": [
    "## legends"
   ]
  },
  {
   "cell_type": "code",
   "execution_count": 77,
   "metadata": {},
   "outputs": [
    {
     "data": {
      "image/png": "[encoded data removed]",
      "text/plain": [
       "<Figure size 432x288 with 1 Axes>"
      ]
     },
     "metadata": {
      "needs_background": "light"
     },
     "output_type": "display_data"
    }
   ],
   "source": [
    "# legends\n",
    "y = x**2\n",
    "z = x\n",
    "\n",
    "plt.plot(x,y,'g',label='y=x^2')\n",
    "plt.plot(x,z,'b:',label='y=x')\n",
    "plt.legend(loc=\"best\")\n",
    "plt.title('Legend Sample')\n",
    "plt.show()"
   ]
  },
  {
   "cell_type": "code",
   "execution_count": 78,
   "metadata": {},
   "outputs": [
    {
     "data": {
      "image/png": "[encoded data removed]",
      "text/plain": [
       "<Figure size 432x288 with 1 Axes>"
      ]
     },
     "metadata": {
      "needs_background": "light"
     },
     "output_type": "display_data"
    }
   ],
   "source": [
    "# legend with latex formatting\n",
    "plt.plot(x,y,'g',label='$y = x^2$')\n",
    "plt.plot(x,z,'b:',linewidth=3,label='$y = x^2$')\n",
    "plt.legend(loc=\"best\",fontsize='x-large')\n",
    "plt.title('Legend with LaTEX formatting')\n",
    "plt.show()"
   ]
  },
  {
   "cell_type": "markdown",
   "metadata": {},
   "source": [
    "## Axis Controls"
   ]
  },
  {
   "cell_type": "code",
   "execution_count": 79,
   "metadata": {},
   "outputs": [
    {
     "data": {
      "image/png": "[encoded data removed]",
      "text/plain": [
       "<Figure size 432x288 with 2 Axes>"
      ]
     },
     "metadata": {
      "needs_background": "light"
     },
     "output_type": "display_data"
    }
   ],
   "source": [
    "## axis controls\n",
    "# secondary y-axis\n",
    "fig, ax1 = plt.subplots()\n",
    "ax1.plot(x,y,'g')\n",
    "ax1.set_ylabel(r\"primary y-axis\", color=\"green\")\n",
    "\n",
    "ax2 = ax1.twinx()\n",
    "\n",
    "ax2.plot(x,z,'b:',linewidth=3)\n",
    "ax2.set_ylabel(r\"secondary y-axis\", color=\"blue\")\n",
    "\n",
    "plt.title('Secondary Y Axis')\n",
    "plt.show()"
   ]
  },
  {
   "cell_type": "code",
   "execution_count": 80,
   "metadata": {},
   "outputs": [
    {
     "name": "stderr",
     "output_type": "stream",
     "text": [
      "C:\\Users\\INTEL\\Anaconda3\\lib\\site-packages\\ipykernel_launcher.py:2: RuntimeWarning: invalid value encountered in log\n",
      "  \n",
      "C:\\Users\\INTEL\\Anaconda3\\lib\\site-packages\\ipykernel_launcher.py:3: RuntimeWarning: invalid value encountered in log2\n",
      "  This is separate from the ipykernel package so we can avoid doing imports until\n",
      "C:\\Users\\INTEL\\Anaconda3\\lib\\site-packages\\ipykernel_launcher.py:4: RuntimeWarning: invalid value encountered in log10\n",
      "  after removing the cwd from sys.path.\n"
     ]
    },
    {
     "data": {
      "image/png": "[encoded data removed]",
      "text/plain": [
       "<Figure size 432x288 with 1 Axes>"
      ]
     },
     "metadata": {
      "needs_background": "light"
     },
     "output_type": "display_data"
    }
   ],
   "source": [
    "# ticks\n",
    "y = np.log(x)\n",
    "z = np.log2(x)\n",
    "w = np.log10(x)\n",
    "\n",
    "plt.plot(x,y,'r',x,z,'g',x,w,'b')\n",
    "plt.title('Default Axis Ticks') \n",
    "plt.show() "
   ]
  },
  {
   "cell_type": "code",
   "execution_count": 82,
   "metadata": {},
   "outputs": [
    {
     "data": {
      "image/png": "[encoded data removed]",
      "text/plain": [
       "<Figure size 432x288 with 1 Axes>"
      ]
     },
     "metadata": {
      "needs_background": "light"
     },
     "output_type": "display_data"
    }
   ],
   "source": [
    "# manual\n",
    "plt.plot(x,y,'r',x,z,'g',x,w,'b')\n",
    "plt.axis([0,2,-1,2])\n",
    "plt.title('Manual Axis Range') \n",
    "plt.show()"
   ]
  },
  {
   "cell_type": "code",
   "execution_count": 83,
   "metadata": {},
   "outputs": [
    {
     "data": {
      "image/png": "[encoded data removed]",
      "text/plain": [
       "<Figure size 432x288 with 1 Axes>"
      ]
     },
     "metadata": {
      "needs_background": "light"
     },
     "output_type": "display_data"
    }
   ],
   "source": [
    "# Manual ticks      \n",
    "plt.plot(x, y)\n",
    "ax = plt.gca()\n",
    "ax.xaxis.set_ticks(np.arange(-2, 2, 1))\n",
    "plt.grid(True)\n",
    "plt.title(\"Manual ticks on the x-axis\")\n",
    "plt.show()"
   ]
  },
  {
   "cell_type": "code",
   "execution_count": 84,
   "metadata": {},
   "outputs": [
    {
     "data": {
      "image/png": "[encoded data removed]",
      "text/plain": [
       "<Figure size 432x288 with 1 Axes>"
      ]
     },
     "metadata": {
      "needs_background": "light"
     },
     "output_type": "display_data"
    }
   ],
   "source": [
    "# minor ticks\n",
    "plt.plot(x, z)\n",
    "plt.minorticks_on()\n",
    "ax = plt.gca()\n",
    "ax.yaxis.set_ticks(np.arange(0, 5))\n",
    "ax.yaxis.set_ticklabels([\"min\", 2, 4, \"max\"])\n",
    "plt.title(\"Minor ticks on the y-axis\")   \n",
    "plt.show()"
   ]
  },
  {
   "cell_type": "code",
   "execution_count": 85,
   "metadata": {},
   "outputs": [
    {
     "data": {
      "image/png": "[encoded data removed]",
      "text/plain": [
       "<Figure size 432x288 with 1 Axes>"
      ]
     },
     "metadata": {
      "needs_background": "light"
     },
     "output_type": "display_data"
    }
   ],
   "source": [
    "# scaling\n",
    "plt.plot(x, y)\n",
    "ax = plt.gca()\n",
    "# values: log, logit, symlog\n",
    "ax.set_yscale(\"log\")\n",
    "plt.grid(True)\n",
    "plt.title(\"Log Scaled Axis\")\n",
    "plt.show()"
   ]
  },
  {
   "cell_type": "markdown",
   "metadata": {},
   "source": [
    "## Annotations"
   ]
  },
  {
   "cell_type": "code",
   "execution_count": 86,
   "metadata": {},
   "outputs": [
    {
     "data": {
      "image/png": "[encoded data removed]",
      "text/plain": [
       "<Figure size 432x288 with 1 Axes>"
      ]
     },
     "metadata": {
      "needs_background": "light"
     },
     "output_type": "display_data"
    }
   ],
   "source": [
    "# annotations\n",
    "y = x**2\n",
    "min_x = 0\n",
    "min_y = min_x**2\n",
    "\n",
    "plt.plot(x, y, \"b-\", min_x, min_y, \"ro\")\n",
    "plt.axis([-10,10,-25,100])\n",
    "\n",
    "plt.text(0, 60, \"Parabola\\n$y = x^2$\", fontsize=15, ha=\"center\")\n",
    "plt.text(min_x, min_y+2, \"Minima\", ha=\"center\")\n",
    "plt.text(min_x, min_y-6, \"(%0.1f, %0.1f)\"%(min_x, min_y), ha='center',color='gray')\n",
    "plt.title(\"Annotated Plot\")\n",
    "plt.show()"
   ]
  },
  {
   "cell_type": "code",
   "execution_count": 87,
   "metadata": {},
   "outputs": [],
   "source": [
    "# global formatting params\n",
    "params = {'legend.fontsize': 'large',\n",
    "'figure.figsize': (10, 10),\n",
    "'axes.labelsize': 'large',\n",
    "'axes.titlesize':'large',\n",
    "'xtick.labelsize':'large',\n",
    "'ytick.labelsize':'large'}\n",
    "plt.rcParams.update(params)"
   ]
  }
 ],
 "metadata": {
  "kernelspec": {
   "display_name": "Python 3",
   "language": "python",
   "name": "python3"
  },
  "language_info": {
   "codemirror_mode": {
    "name": "ipython",
    "version": 3
   },
   "file_extension": ".py",
   "mimetype": "text/x-python",
   "name": "python",
   "nbconvert_exporter": "python",
   "pygments_lexer": "ipython3",
   "version": "3.7.3"
  }
 },
 "nbformat": 4,
 "nbformat_minor": 2
}
